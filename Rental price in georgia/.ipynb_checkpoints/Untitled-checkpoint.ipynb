{
 "cells": [
  {
   "cell_type": "markdown",
   "id": "f557ca95",
   "metadata": {},
   "source": [
    "<h3>Portfollio poject</h3>"
   ]
  },
  {
   "cell_type": "code",
   "execution_count": 21,
   "id": "e059b3d3",
   "metadata": {},
   "outputs": [],
   "source": [
    "import pandas as pd\n",
    "import numpy as np\n",
    "import matplotlib.pyplot as plt\n",
    "import seaborn as sns\n",
    "from sklearn.feature_selection import mutual_info_regression\n",
    "from sklearn.model_selection import train_test_split\n",
    "\n",
    "\n",
    "pd.set_option('display.float_format', lambda x: '%.3f' % x)\n",
    "plt.style.use('seaborn-whitegrid')"
   ]
  },
  {
   "cell_type": "code",
   "execution_count": 2,
   "id": "eaf716d3",
   "metadata": {},
   "outputs": [],
   "source": [
    "# loading the train dataset\n",
    "df = pd.read_csv(\"./files/RealEstate_Georgia.csv\")"
   ]
  },
  {
   "cell_type": "markdown",
   "id": "694d921a",
   "metadata": {},
   "source": [
    "<p>First we should create some functions which we may need in the future</p>"
   ]
  },
  {
   "cell_type": "code",
   "execution_count": 3,
   "id": "9a0d9f77",
   "metadata": {},
   "outputs": [],
   "source": [
    "def square():\n",
    "    return feature ** 2\n",
    "\n",
    "def cube(feature):\n",
    "    return feature ** 3\n",
    "\n",
    "def sqrt(feature):\n",
    "    return np.sqrt(feature)\n",
    "\n",
    "def log(feature, add= 0):\n",
    "    return np.log(feature + add)"
   ]
  },
  {
   "cell_type": "markdown",
   "id": "93164d04",
   "metadata": {},
   "source": [
    "<h3>OVERVIEW & LITTLE CLEANING<h3>"
   ]
  },
  {
   "cell_type": "code",
   "execution_count": 4,
   "id": "ebcebff2",
   "metadata": {},
   "outputs": [
    {
     "data": {
      "text/html": [
       "<div>\n",
       "<style scoped>\n",
       "    .dataframe tbody tr th:only-of-type {\n",
       "        vertical-align: middle;\n",
       "    }\n",
       "\n",
       "    .dataframe tbody tr th {\n",
       "        vertical-align: top;\n",
       "    }\n",
       "\n",
       "    .dataframe thead th {\n",
       "        text-align: right;\n",
       "    }\n",
       "</style>\n",
       "<table border=\"1\" class=\"dataframe\">\n",
       "  <thead>\n",
       "    <tr style=\"text-align: right;\">\n",
       "      <th></th>\n",
       "      <th>id</th>\n",
       "      <th>stateId</th>\n",
       "      <th>countyId</th>\n",
       "      <th>cityId</th>\n",
       "      <th>country</th>\n",
       "      <th>datePostedString</th>\n",
       "      <th>is_bankOwned</th>\n",
       "      <th>is_forAuction</th>\n",
       "      <th>event</th>\n",
       "      <th>time</th>\n",
       "      <th>...</th>\n",
       "      <th>parking</th>\n",
       "      <th>garageSpaces</th>\n",
       "      <th>hasGarage</th>\n",
       "      <th>levels</th>\n",
       "      <th>pool</th>\n",
       "      <th>spa</th>\n",
       "      <th>isNewConstruction</th>\n",
       "      <th>hasPetsAllowed</th>\n",
       "      <th>homeType</th>\n",
       "      <th>county</th>\n",
       "    </tr>\n",
       "  </thead>\n",
       "  <tbody>\n",
       "    <tr>\n",
       "      <th>0</th>\n",
       "      <td>31503-110785431</td>\n",
       "      <td>16</td>\n",
       "      <td>17</td>\n",
       "      <td>55064</td>\n",
       "      <td>USA</td>\n",
       "      <td>7/12/2021</td>\n",
       "      <td>0</td>\n",
       "      <td>0</td>\n",
       "      <td>Listed for sale</td>\n",
       "      <td>1630000000000.000</td>\n",
       "      <td>...</td>\n",
       "      <td>0</td>\n",
       "      <td>0</td>\n",
       "      <td>0</td>\n",
       "      <td>0</td>\n",
       "      <td>0</td>\n",
       "      <td>0</td>\n",
       "      <td>0</td>\n",
       "      <td>0</td>\n",
       "      <td>SINGLE_FAMILY</td>\n",
       "      <td>Brantley County</td>\n",
       "    </tr>\n",
       "    <tr>\n",
       "      <th>1</th>\n",
       "      <td>31503-76611082</td>\n",
       "      <td>16</td>\n",
       "      <td>18</td>\n",
       "      <td>55064</td>\n",
       "      <td>USA</td>\n",
       "      <td>7/12/2021</td>\n",
       "      <td>0</td>\n",
       "      <td>0</td>\n",
       "      <td>Listed for sale</td>\n",
       "      <td>1630000000000.000</td>\n",
       "      <td>...</td>\n",
       "      <td>0</td>\n",
       "      <td>0</td>\n",
       "      <td>0</td>\n",
       "      <td>0</td>\n",
       "      <td>0</td>\n",
       "      <td>0</td>\n",
       "      <td>0</td>\n",
       "      <td>0</td>\n",
       "      <td>SINGLE_FAMILY</td>\n",
       "      <td>Ware County</td>\n",
       "    </tr>\n",
       "    <tr>\n",
       "      <th>2</th>\n",
       "      <td>31503-93126153</td>\n",
       "      <td>16</td>\n",
       "      <td>19</td>\n",
       "      <td>55064</td>\n",
       "      <td>USA</td>\n",
       "      <td>7/10/2021</td>\n",
       "      <td>0</td>\n",
       "      <td>0</td>\n",
       "      <td>Listed for sale</td>\n",
       "      <td>1630000000000.000</td>\n",
       "      <td>...</td>\n",
       "      <td>1</td>\n",
       "      <td>0</td>\n",
       "      <td>0</td>\n",
       "      <td>0</td>\n",
       "      <td>0</td>\n",
       "      <td>0</td>\n",
       "      <td>0</td>\n",
       "      <td>0</td>\n",
       "      <td>SINGLE_FAMILY</td>\n",
       "      <td>Ware County</td>\n",
       "    </tr>\n",
       "  </tbody>\n",
       "</table>\n",
       "<p>3 rows × 38 columns</p>\n",
       "</div>"
      ],
      "text/plain": [
       "                id  stateId  countyId  cityId country datePostedString  \\\n",
       "0  31503-110785431       16        17   55064     USA        7/12/2021   \n",
       "1   31503-76611082       16        18   55064     USA        7/12/2021   \n",
       "2   31503-93126153       16        19   55064     USA        7/10/2021   \n",
       "\n",
       "   is_bankOwned  is_forAuction            event              time  ...  \\\n",
       "0             0              0  Listed for sale 1630000000000.000  ...   \n",
       "1             0              0  Listed for sale 1630000000000.000  ...   \n",
       "2             0              0  Listed for sale 1630000000000.000  ...   \n",
       "\n",
       "   parking  garageSpaces hasGarage levels  pool spa  isNewConstruction  \\\n",
       "0        0             0         0      0     0   0                  0   \n",
       "1        0             0         0      0     0   0                  0   \n",
       "2        1             0         0      0     0   0                  0   \n",
       "\n",
       "   hasPetsAllowed       homeType           county  \n",
       "0               0  SINGLE_FAMILY  Brantley County  \n",
       "1               0  SINGLE_FAMILY      Ware County  \n",
       "2               0  SINGLE_FAMILY      Ware County  \n",
       "\n",
       "[3 rows x 38 columns]"
      ]
     },
     "execution_count": 4,
     "metadata": {},
     "output_type": "execute_result"
    }
   ],
   "source": [
    "#printing the first 3 rows\n",
    "df.head(3)"
   ]
  },
  {
   "cell_type": "code",
   "execution_count": 5,
   "id": "a207a334",
   "metadata": {},
   "outputs": [
    {
     "name": "stdout",
     "output_type": "stream",
     "text": [
      "The dataset has 13804 rows and 38 cols\n"
     ]
    }
   ],
   "source": [
    "print(f'The dataset has {df.shape[0]} rows and {df.shape[1]} cols')"
   ]
  },
  {
   "cell_type": "markdown",
   "id": "93340836",
   "metadata": {},
   "source": [
    "<p>Before doing anything else lets see if our rows has any duplicates</p"
   ]
  },
  {
   "cell_type": "code",
   "execution_count": 6,
   "id": "e5833955",
   "metadata": {},
   "outputs": [
    {
     "name": "stdout",
     "output_type": "stream",
     "text": [
      "Our dataset has 1258 records\n"
     ]
    }
   ],
   "source": [
    "duplicates = df.shape[0] - df['id'].drop_duplicates().shape[0]\n",
    "print(f\"Our dataset has {duplicates} records\")"
   ]
  },
  {
   "cell_type": "code",
   "execution_count": 8,
   "id": "54fa6764",
   "metadata": {},
   "outputs": [
    {
     "data": {
      "text/html": [
       "<div>\n",
       "<style scoped>\n",
       "    .dataframe tbody tr th:only-of-type {\n",
       "        vertical-align: middle;\n",
       "    }\n",
       "\n",
       "    .dataframe tbody tr th {\n",
       "        vertical-align: top;\n",
       "    }\n",
       "\n",
       "    .dataframe thead th {\n",
       "        text-align: right;\n",
       "    }\n",
       "</style>\n",
       "<table border=\"1\" class=\"dataframe\">\n",
       "  <thead>\n",
       "    <tr style=\"text-align: right;\">\n",
       "      <th></th>\n",
       "      <th>id</th>\n",
       "      <th>cityId</th>\n",
       "      <th>price</th>\n",
       "      <th>latitude</th>\n",
       "      <th>longitude</th>\n",
       "    </tr>\n",
       "  </thead>\n",
       "  <tbody>\n",
       "    <tr>\n",
       "      <th>13542</th>\n",
       "      <td>30004-14685821</td>\n",
       "      <td>16733</td>\n",
       "      <td>1799000</td>\n",
       "      <td>34.079</td>\n",
       "      <td>-84.331</td>\n",
       "    </tr>\n",
       "    <tr>\n",
       "      <th>4879</th>\n",
       "      <td>30004-14685821</td>\n",
       "      <td>16733</td>\n",
       "      <td>1799000</td>\n",
       "      <td>34.079</td>\n",
       "      <td>-84.331</td>\n",
       "    </tr>\n",
       "    <tr>\n",
       "      <th>13548</th>\n",
       "      <td>30004-2078310784</td>\n",
       "      <td>54219</td>\n",
       "      <td>0</td>\n",
       "      <td>34.077</td>\n",
       "      <td>-84.350</td>\n",
       "    </tr>\n",
       "    <tr>\n",
       "      <th>4895</th>\n",
       "      <td>30004-2078310784</td>\n",
       "      <td>54219</td>\n",
       "      <td>0</td>\n",
       "      <td>34.077</td>\n",
       "      <td>-84.350</td>\n",
       "    </tr>\n",
       "    <tr>\n",
       "      <th>4093</th>\n",
       "      <td>30005-2069916603</td>\n",
       "      <td>397383</td>\n",
       "      <td>479000</td>\n",
       "      <td>34.066</td>\n",
       "      <td>-84.196</td>\n",
       "    </tr>\n",
       "    <tr>\n",
       "      <th>12315</th>\n",
       "      <td>30005-2069916603</td>\n",
       "      <td>397383</td>\n",
       "      <td>479000</td>\n",
       "      <td>34.066</td>\n",
       "      <td>-84.196</td>\n",
       "    </tr>\n",
       "  </tbody>\n",
       "</table>\n",
       "</div>"
      ],
      "text/plain": [
       "                     id  cityId    price  latitude  longitude\n",
       "13542    30004-14685821   16733  1799000    34.079    -84.331\n",
       "4879     30004-14685821   16733  1799000    34.079    -84.331\n",
       "13548  30004-2078310784   54219        0    34.077    -84.350\n",
       "4895   30004-2078310784   54219        0    34.077    -84.350\n",
       "4093   30005-2069916603  397383   479000    34.066    -84.196\n",
       "12315  30005-2069916603  397383   479000    34.066    -84.196"
      ]
     },
     "execution_count": 8,
     "metadata": {},
     "output_type": "execute_result"
    }
   ],
   "source": [
    "cols = ['id', 'cityId', 'price', 'latitude', 'longitude']\n",
    "\n",
    "duplicated_rows = df[df['id'].duplicated(keep=False)][cols]\n",
    "duplicated_rows.sort_values(by='id').head(6)"
   ]
  },
  {
   "cell_type": "markdown",
   "id": "ccda2de4",
   "metadata": {},
   "source": [
    "<p>It's now clear that there are a great amount of duplicated rows. We need to remove them. We can do this in the following way</p>"
   ]
  },
  {
   "cell_type": "code",
   "execution_count": 9,
   "id": "a3edf588",
   "metadata": {},
   "outputs": [],
   "source": [
    "df = df.drop_duplicates(subset='id') # keeping the first occuring value only"
   ]
  },
  {
   "cell_type": "markdown",
   "id": "5e41ced1",
   "metadata": {},
   "source": [
    "<h3>TARGET VARIABLES ANALYSIS</h3>"
   ]
  },
  {
   "cell_type": "markdown",
   "id": "4161bb3a",
   "metadata": {},
   "source": [
    "<p>Next lets obeserve the characteristic of the target variable first</p>"
   ]
  },
  {
   "cell_type": "code",
   "execution_count": 10,
   "id": "d138499b",
   "metadata": {},
   "outputs": [
    {
     "data": {
      "text/plain": [
       "count      12546.000\n",
       "mean      369839.634\n",
       "std       665156.224\n",
       "min            0.000\n",
       "25%        94500.000\n",
       "50%       249000.000\n",
       "75%       425000.000\n",
       "max     30504000.000\n",
       "Name: price, dtype: float64"
      ]
     },
     "execution_count": 10,
     "metadata": {},
     "output_type": "execute_result"
    }
   ],
   "source": [
    "y = df['price']\n",
    "\n",
    "y.describe()"
   ]
  },
  {
   "cell_type": "markdown",
   "id": "8ea6faa8",
   "metadata": {},
   "source": [
    "<p>We have a problem. It seems there are some houses which have 0 price as value. Lets see which ones are they</p>"
   ]
  },
  {
   "cell_type": "code",
   "execution_count": 11,
   "id": "f64dfa36",
   "metadata": {},
   "outputs": [
    {
     "name": "stdout",
     "output_type": "stream",
     "text": [
      "The number of rows with zero price are 43\n"
     ]
    }
   ],
   "source": [
    "rows_with_zero_price = df[y == 0]\n",
    "\n",
    "print(f\"The number of rows with zero price are {rows_with_zero_price.shape[0]}\")"
   ]
  },
  {
   "cell_type": "markdown",
   "id": "d146e03e",
   "metadata": {},
   "source": [
    "<p>After spending some time analyzing the sale price with excel I found out that there are a lot of houses with very low sale price which is very weird</p>"
   ]
  },
  {
   "cell_type": "code",
   "execution_count": 12,
   "id": "6fc78c58",
   "metadata": {},
   "outputs": [
    {
     "name": "stdout",
     "output_type": "stream",
     "text": [
      "The number of rows with zero price are 49\n"
     ]
    }
   ],
   "source": [
    "print(f\"The number of rows with zero price are {df[y <= 1000].shape[0]}\")"
   ]
  },
  {
   "cell_type": "markdown",
   "id": "2e658559",
   "metadata": {},
   "source": [
    "<p>After a little bit of searching online I found out that there almost no houses with less then 1000 dollars in Georgia. Even if there are they are very rare or outlayers. Since we have a lot of records it would not matter much remove them from our dataset</p>"
   ]
  },
  {
   "cell_type": "code",
   "execution_count": 13,
   "id": "d8063d8e",
   "metadata": {},
   "outputs": [],
   "source": [
    "index_to_drop = df[y <= 1000].index\n",
    "\n",
    "df = df.drop(index_to_drop)"
   ]
  },
  {
   "cell_type": "markdown",
   "id": "3f5d514f",
   "metadata": {},
   "source": [
    "<p>There is a good article on how handle zero inflated target values <a href='https://towardsdatascience.com/zero-inflated-regression-c7dfc656d8af'> Zero-Inflated Regression</a>  by <b>Dr. Robert Kübler</b></p>"
   ]
  },
  {
   "cell_type": "markdown",
   "id": "3b639278",
   "metadata": {},
   "source": [
    "<p>Now before doing anything else we will split the data in training, validation and test dataset. So no matter what we do to the training and validation dataset it won't efftect the test</p>"
   ]
  },
  {
   "cell_type": "markdown",
   "id": "e757c1e1",
   "metadata": {},
   "source": [
    "\n",
    "\n",
    "<p>Lets resample the entire datset first to randomize the dataset to avoid any bias in location</p>\n"
   ]
  },
  {
   "cell_type": "code",
   "execution_count": 14,
   "id": "4779ec1c",
   "metadata": {},
   "outputs": [],
   "source": [
    "\n",
    "# df = df.reindex(np.random.permutation(df.index))\n",
    "\n",
    "df = df.sample(frac=1.0, random_state=0)"
   ]
  },
  {
   "cell_type": "code",
   "execution_count": 15,
   "id": "1a7f14f4",
   "metadata": {},
   "outputs": [],
   "source": [
    "x = df.drop('price', axis=1)\n",
    "y = df['price']\n",
    "seed = 0\n",
    "\n",
    "# getting training data\n",
    "X_train, X_rem, y_train, y_rem = train_test_split(x, y, test_size=0.3, random_state=seed)\n",
    "\n",
    "X_test, X_val, y_test, y_val = train_test_split(X_rem, y_rem, test_size=0.6, random_state=seed)"
   ]
  },
  {
   "cell_type": "code",
   "execution_count": 16,
   "id": "a95948d6",
   "metadata": {},
   "outputs": [
    {
     "name": "stdout",
     "output_type": "stream",
     "text": [
      "The shape of x_train: (8747, 37), x_val: (2250, 37), x_test: (1500, 37)\n"
     ]
    }
   ],
   "source": [
    "print(f'The shape of x_train: {X_train.shape}, x_val: {X_val.shape}, x_test: {X_test.shape}')"
   ]
  },
  {
   "cell_type": "code",
   "execution_count": 17,
   "id": "e93ed7c8",
   "metadata": {},
   "outputs": [],
   "source": [
    "train_df = pd.concat([X_train, y_train], axis=1)\n",
    "test_df = pd.concat([X_test, y_test], axis=1)\n",
    "val_df = pd.concat([X_val, y_val], axis=1)"
   ]
  },
  {
   "cell_type": "code",
   "execution_count": 18,
   "id": "e26a1953",
   "metadata": {},
   "outputs": [
    {
     "data": {
      "text/html": [
       "<div>\n",
       "<style scoped>\n",
       "    .dataframe tbody tr th:only-of-type {\n",
       "        vertical-align: middle;\n",
       "    }\n",
       "\n",
       "    .dataframe tbody tr th {\n",
       "        vertical-align: top;\n",
       "    }\n",
       "\n",
       "    .dataframe thead th {\n",
       "        text-align: right;\n",
       "    }\n",
       "</style>\n",
       "<table border=\"1\" class=\"dataframe\">\n",
       "  <thead>\n",
       "    <tr style=\"text-align: right;\">\n",
       "      <th></th>\n",
       "      <th>id</th>\n",
       "      <th>stateId</th>\n",
       "      <th>countyId</th>\n",
       "      <th>cityId</th>\n",
       "      <th>country</th>\n",
       "      <th>datePostedString</th>\n",
       "      <th>is_bankOwned</th>\n",
       "      <th>is_forAuction</th>\n",
       "      <th>event</th>\n",
       "      <th>time</th>\n",
       "      <th>...</th>\n",
       "      <th>garageSpaces</th>\n",
       "      <th>hasGarage</th>\n",
       "      <th>levels</th>\n",
       "      <th>pool</th>\n",
       "      <th>spa</th>\n",
       "      <th>isNewConstruction</th>\n",
       "      <th>hasPetsAllowed</th>\n",
       "      <th>homeType</th>\n",
       "      <th>county</th>\n",
       "      <th>price</th>\n",
       "    </tr>\n",
       "  </thead>\n",
       "  <tbody>\n",
       "    <tr>\n",
       "      <th>5294</th>\n",
       "      <td>30224-69903142</td>\n",
       "      <td>16</td>\n",
       "      <td>183556</td>\n",
       "      <td>11738</td>\n",
       "      <td>USA</td>\n",
       "      <td>6/28/2021</td>\n",
       "      <td>0</td>\n",
       "      <td>0</td>\n",
       "      <td>Listed for sale</td>\n",
       "      <td>1620000000000.000</td>\n",
       "      <td>...</td>\n",
       "      <td>0</td>\n",
       "      <td>0</td>\n",
       "      <td>One</td>\n",
       "      <td>0</td>\n",
       "      <td>0</td>\n",
       "      <td>0</td>\n",
       "      <td>0</td>\n",
       "      <td>SINGLE_FAMILY</td>\n",
       "      <td>Spalding County</td>\n",
       "      <td>229900</td>\n",
       "    </tr>\n",
       "    <tr>\n",
       "      <th>6760</th>\n",
       "      <td>30188-2078680774</td>\n",
       "      <td>16</td>\n",
       "      <td>233144</td>\n",
       "      <td>48573</td>\n",
       "      <td>USA</td>\n",
       "      <td>7/9/2021</td>\n",
       "      <td>0</td>\n",
       "      <td>0</td>\n",
       "      <td>Listed for sale</td>\n",
       "      <td>1590000000000.000</td>\n",
       "      <td>...</td>\n",
       "      <td>0</td>\n",
       "      <td>0</td>\n",
       "      <td>0</td>\n",
       "      <td>0</td>\n",
       "      <td>0</td>\n",
       "      <td>1</td>\n",
       "      <td>0</td>\n",
       "      <td>TOWNHOUSE</td>\n",
       "      <td>Cherokee County</td>\n",
       "      <td>400000</td>\n",
       "    </tr>\n",
       "  </tbody>\n",
       "</table>\n",
       "<p>2 rows × 38 columns</p>\n",
       "</div>"
      ],
      "text/plain": [
       "                    id  stateId  countyId  cityId country datePostedString  \\\n",
       "5294    30224-69903142       16    183556   11738     USA        6/28/2021   \n",
       "6760  30188-2078680774       16    233144   48573     USA         7/9/2021   \n",
       "\n",
       "      is_bankOwned  is_forAuction            event              time  ...  \\\n",
       "5294             0              0  Listed for sale 1620000000000.000  ...   \n",
       "6760             0              0  Listed for sale 1590000000000.000  ...   \n",
       "\n",
       "      garageSpaces hasGarage levels  pool spa  isNewConstruction  \\\n",
       "5294             0         0    One     0   0                  0   \n",
       "6760             0         0      0     0   0                  1   \n",
       "\n",
       "      hasPetsAllowed       homeType           county   price  \n",
       "5294               0  SINGLE_FAMILY  Spalding County  229900  \n",
       "6760               0      TOWNHOUSE  Cherokee County  400000  \n",
       "\n",
       "[2 rows x 38 columns]"
      ]
     },
     "execution_count": 18,
     "metadata": {},
     "output_type": "execute_result"
    }
   ],
   "source": [
    "train_df.head(2)"
   ]
  },
  {
   "cell_type": "markdown",
   "id": "5d930398",
   "metadata": {},
   "source": [
    "<p>Now that we are done with initial preparation we will clean, analyze and build model</p>"
   ]
  },
  {
   "cell_type": "markdown",
   "id": "47ddc0ab",
   "metadata": {},
   "source": [
    "<p>Now that we have removed outlayers lets see the distribution of prices in train_df</p>"
   ]
  },
  {
   "cell_type": "code",
   "execution_count": 19,
   "id": "c054a8cd",
   "metadata": {},
   "outputs": [
    {
     "data": {
      "text/plain": [
       "count       8747.000\n",
       "mean      380238.660\n",
       "std       664262.171\n",
       "min         1250.000\n",
       "25%        98265.000\n",
       "50%       250000.000\n",
       "75%       429000.000\n",
       "max     19740000.000\n",
       "Name: price, dtype: float64"
      ]
     },
     "execution_count": 19,
     "metadata": {},
     "output_type": "execute_result"
    }
   ],
   "source": [
    "train_df['price'].describe()"
   ]
  },
  {
   "cell_type": "markdown",
   "id": "94683612",
   "metadata": {},
   "source": [
    "<p>See in the future how the distribution can be perfectly balanced</p>"
   ]
  },
  {
   "cell_type": "code",
   "execution_count": 22,
   "id": "9ed40dfb",
   "metadata": {},
   "outputs": [
    {
     "data": {
      "image/png": "[encoded data removed]",
      "text/plain": [
       "<Figure size 1296x360 with 3 Axes>"
      ]
     },
     "metadata": {},
     "output_type": "display_data"
    }
   ],
   "source": [
    "fig, (ax1, ax2, ax3) = plt.subplots(1, 3, figsize=(18, 5))\n",
    "\n",
    "sns.kdeplot(train_df['price'], ax=ax1)\n",
    "sns.kdeplot(val_df['price'], ax=ax2)\n",
    "sns.kdeplot(test_df['price'], ax=ax3)\n",
    "\n",
    "ax1.set_title(\"Distribution of target price in training dataset\")\n",
    "ax2.set_title(\"Distribution of target price in validation dataset\")\n",
    "ax3.set_title(\"Distribution of target price in test dataset\")\n",
    "\n",
    "plt.show()"
   ]
  },
  {
   "cell_type": "code",
   "execution_count": 23,
   "id": "ae4f8fab",
   "metadata": {},
   "outputs": [
    {
     "name": "stdout",
     "output_type": "stream",
     "text": [
      "The price has a skewness of 10.644532849909613\n",
      "The price has a kurtosis of 194.83879336087975\n"
     ]
    }
   ],
   "source": [
    "print(f'The price has a skewness of {train_df[\"price\"].skew()}')\n",
    "print(f'The price has a kurtosis of {train_df[\"price\"].kurtosis()}')"
   ]
  },
  {
   "cell_type": "markdown",
   "id": "fcdf31d2",
   "metadata": {},
   "source": [
    "<p>Since linear regression works much better with normally distributed data we need reduce skewness and kurtosis</p>"
   ]
  },
  {
   "cell_type": "markdown",
   "id": "5930ad08",
   "metadata": {},
   "source": [
    "<p>To handle skewness what we can do is try different transformation like log, Square Root, boxcox transformation. For further clarification you can see this article <a href='https://towardsdatascience.com/top-3-methods-for-handling-skewed-data-1334e0debf45'>Top 3 Methods for Handling Skewed Data by Dario Radečić</a></p>"
   ]
  },
  {
   "cell_type": "code",
   "execution_count": 24,
   "id": "b2db3532",
   "metadata": {},
   "outputs": [],
   "source": [
    "from scipy.stats import boxcox"
   ]
  },
  {
   "cell_type": "code",
   "execution_count": 25,
   "id": "61a268fd",
   "metadata": {},
   "outputs": [],
   "source": [
    "box_price = pd.Series(boxcox(train_df['price'])[0], name='price')\n",
    "log_price = np.log(train_df['price'])\n",
    "sqrt_price = np.sqrt(train_df['price'])"
   ]
  },
  {
   "cell_type": "code",
   "execution_count": 26,
   "id": "d2f026a5",
   "metadata": {},
   "outputs": [
    {
     "name": "stdout",
     "output_type": "stream",
     "text": [
      "The boxcox price has a skewness of 0.01927513776162235\n",
      "The boxcox price has a kurtosis of 0.5701669145719981\n",
      "\n",
      "The log price has a skewness of -0.520576400886599\n",
      "The log price has a kurtosis of 0.4139770321465992\n",
      "\n",
      "The sqrt price has a skewness of 2.3828390334279694\n",
      "The sqrt price has a kurtosis of 13.773281544462536\n"
     ]
    }
   ],
   "source": [
    "print(f'The boxcox price has a skewness of {box_price.skew()}')\n",
    "print(f'The boxcox price has a kurtosis of {box_price.kurtosis()}\\n')\n",
    "\n",
    "print(f'The log price has a skewness of {log_price.skew()}')\n",
    "print(f'The log price has a kurtosis of {log_price.kurtosis()}\\n')\n",
    "\n",
    "print(f'The sqrt price has a skewness of {sqrt_price.skew()}')\n",
    "print(f'The sqrt price has a kurtosis of {sqrt_price.kurtosis()}')"
   ]
  },
  {
   "cell_type": "code",
   "execution_count": 27,
   "id": "35b88546",
   "metadata": {},
   "outputs": [
    {
     "data": {
      "image/png": "[encoded data removed]",
      "text/plain": [
       "<Figure size 1296x360 with 3 Axes>"
      ]
     },
     "metadata": {},
     "output_type": "display_data"
    }
   ],
   "source": [
    "fig, (ax1, ax2, ax3) = plt.subplots(1, 3, figsize=(18, 5))\n",
    "\n",
    "ax1 = sns.histplot(box_price, kde=True, ax=ax1)\n",
    "\n",
    "ax2 = sns.histplot(log_price, kde=True, ax=ax2)\n",
    "\n",
    "ax3 = sns.histplot(sqrt_price, kde=True, ax=ax3)\n",
    "\n",
    "ax1.set_title('boxcox transformation')\n",
    "ax2.set_title('log transformation')\n",
    "ax3.set_title('sqrt transformation')\n",
    "\n",
    "plt.show()"
   ]
  },
  {
   "cell_type": "markdown",
   "id": "583c178c",
   "metadata": {},
   "source": [
    "<p>Both boxcox and log transformation are a good choice. But here we will do log transformation for simplicity. But we may change it in the future</p>"
   ]
  },
  {
   "cell_type": "code",
   "execution_count": 28,
   "id": "96385b0f",
   "metadata": {},
   "outputs": [],
   "source": [
    "train_df['price'] = log(train_df['price'])\n",
    "val_df['price'] = log(val_df['price'])\n",
    "test_df['price'] = log(test_df['price'])"
   ]
  },
  {
   "cell_type": "markdown",
   "id": "0b704f23",
   "metadata": {},
   "source": [
    "<p>Now that we have sorted out the target variables lets move on to the features. But we will only focus on train dataset features and only after coming to a conclustion will we move the test and validation dataset</p>"
   ]
  },
  {
   "cell_type": "markdown",
   "id": "e88806dd",
   "metadata": {},
   "source": [
    "<H3>HANDLING NULL VALUES AND CLEANING</H3>"
   ]
  },
  {
   "cell_type": "code",
   "execution_count": 56,
   "id": "7ee03a74",
   "metadata": {},
   "outputs": [
    {
     "data": {
      "text/plain": [
       "id                     object\n",
       "stateId                 int64\n",
       "countyId                int64\n",
       "cityId                  int64\n",
       "country                object\n",
       "datePostedString       object\n",
       "is_bankOwned            int64\n",
       "is_forAuction           int64\n",
       "event                  object\n",
       "time                  float64\n",
       "pricePerSquareFoot      int64\n",
       "city                   object\n",
       "state                  object\n",
       "yearBuilt               int64\n",
       "streetAddress          object\n",
       "zipcode                 int64\n",
       "longitude             float64\n",
       "latitude              float64\n",
       "hasBadGeocode           int64\n",
       "description            object\n",
       "currency               object\n",
       "livingArea              int64\n",
       "livingAreaValue         int64\n",
       "lotAreaUnits           object\n",
       "bathrooms               int64\n",
       "bedrooms                int64\n",
       "buildingArea            int64\n",
       "parking                 int64\n",
       "garageSpaces            int64\n",
       "hasGarage               int64\n",
       "levels                 object\n",
       "pool                    int64\n",
       "spa                     int64\n",
       "isNewConstruction       int64\n",
       "hasPetsAllowed          int64\n",
       "homeType               object\n",
       "county                 object\n",
       "price                 float64\n",
       "dtype: object"
      ]
     },
     "execution_count": 56,
     "metadata": {},
     "output_type": "execute_result"
    }
   ],
   "source": [
    "train_df.dtypes"
   ]
  },
  {
   "cell_type": "markdown",
   "id": "16494e75",
   "metadata": {},
   "source": [
    "<p>The first thing that comes to my mind after seeing this is that we should convert datepostedstring as int data type, at the it feels weird that levels is an object data type when it represents the number of floors</p>"
   ]
  },
  {
   "cell_type": "code",
   "execution_count": 29,
   "id": "055b9980",
   "metadata": {},
   "outputs": [],
   "source": [
    "# converting datetime(string) to datetime(datetime)\n",
    "train_df['dateposted']  = pd.to_datetime(train_df['datePostedString'])\n",
    "train_df.drop('datePostedString', axis=1, inplace=True)"
   ]
  },
  {
   "cell_type": "code",
   "execution_count": 30,
   "id": "658a190a",
   "metadata": {},
   "outputs": [
    {
     "data": {
      "text/plain": [
       "array(['One', '0', 'Two', 'Three Or More', 'One and One Half',\n",
       "       'Multi/Split', 'Two-Two Story Foyer', '3 Story',\n",
       "       'Two-Three Or More', '2 Story or More',\n",
       "       'One-Manufactured Home 1 Story', 'Tri Level', 'Split Level',\n",
       "       'Two-Split Foyer', 'Two-Split Level', 'Two-Multi/Split',\n",
       "       'Over 2 Stories', 'Split Foyer', 'Other-See Remarks',\n",
       "       'Two and One-Half', 'One-Two', 'Split Foyer-Split Level',\n",
       "       'One-One and One Half', 'One-Mobile Home 1 Story',\n",
       "       'Two-Foyer - 2 Story', 'Multi/Split-Split Level',\n",
       "       'Manufactured Home 1 Story', 'Three Or More-Two Story Foyer',\n",
       "       'One and One Half-Two', 'Tri Level-Split Level', 'Split Level-Two',\n",
       "       'One-One and One Half-Two', 'Tri-Level', 'One-Two Story Foyer'],\n",
       "      dtype=object)"
      ]
     },
     "execution_count": 30,
     "metadata": {},
     "output_type": "execute_result"
    }
   ],
   "source": [
    "train_df['levels'].unique()"
   ]
  },
  {
   "cell_type": "markdown",
   "id": "8f103ad9",
   "metadata": {},
   "source": [
    "<p>It seems levels or floors are represented as categorical variables which we need to feature engineer later but lets just keep it as it is and just replace 0 with 'Zero'</p>"
   ]
  },
  {
   "cell_type": "code",
   "execution_count": 31,
   "id": "49ec9b02",
   "metadata": {},
   "outputs": [],
   "source": [
    "# replaced level value from 0 to Zero\n",
    "train_df['levels'].replace({'0': 'Zero'}, inplace=True)"
   ]
  },
  {
   "cell_type": "markdown",
   "id": "1667d7bd",
   "metadata": {},
   "source": [
    "<p>Next we will removes features we will not need as they do not have any relation with price</p>"
   ]
  },
  {
   "cell_type": "code",
   "execution_count": 32,
   "id": "90dee55f",
   "metadata": {},
   "outputs": [],
   "source": [
    "# dropped ['state', 'id', 'country', 'stateId', 'currency'] features\n",
    "train_df.drop(['state', 'id', 'country', 'stateId', 'currency'], axis=1, inplace=True) "
   ]
  },
  {
   "cell_type": "markdown",
   "id": "21402bde",
   "metadata": {},
   "source": [
    "<p>"
   ]
  },
  {
   "cell_type": "markdown",
   "id": "31be795c",
   "metadata": {},
   "source": [
    "<p>If you explore the dataset well you will see that you will see that livingArea and livingAreaValue has the same values for all rows</p>"
   ]
  },
  {
   "cell_type": "code",
   "execution_count": 33,
   "id": "a644dbea",
   "metadata": {},
   "outputs": [
    {
     "data": {
      "text/plain": [
       "True"
      ]
     },
     "execution_count": 33,
     "metadata": {},
     "output_type": "execute_result"
    }
   ],
   "source": [
    "# panda equal method which tells if two columns are equal or not\n",
    "train_df['livingArea'].equals(train_df['livingAreaValue'])"
   ]
  },
  {
   "cell_type": "markdown",
   "id": "0e7da2c5",
   "metadata": {},
   "source": [
    "<p>We will drop the livingArea feature</p>"
   ]
  },
  {
   "cell_type": "code",
   "execution_count": 34,
   "id": "c7626d3f",
   "metadata": {},
   "outputs": [],
   "source": [
    "# dropped livingAreaValue columns\n",
    "train_df.drop(columns=['livingAreaValue'], inplace=True)"
   ]
  },
  {
   "cell_type": "code",
   "execution_count": 35,
   "id": "54563513",
   "metadata": {},
   "outputs": [
    {
     "data": {
      "text/plain": [
       "Index(['countyId', 'cityId', 'is_bankOwned', 'is_forAuction', 'event', 'time',\n",
       "       'pricePerSquareFoot', 'city', 'yearBuilt', 'streetAddress', 'zipcode',\n",
       "       'longitude', 'latitude', 'hasBadGeocode', 'description', 'livingArea',\n",
       "       'lotAreaUnits', 'bathrooms', 'bedrooms', 'buildingArea', 'parking',\n",
       "       'garageSpaces', 'hasGarage', 'levels', 'pool', 'spa',\n",
       "       'isNewConstruction', 'hasPetsAllowed', 'homeType', 'county', 'price',\n",
       "       'dateposted'],\n",
       "      dtype='object')"
      ]
     },
     "execution_count": 35,
     "metadata": {},
     "output_type": "execute_result"
    }
   ],
   "source": [
    "train_df.columns"
   ]
  },
  {
   "cell_type": "markdown",
   "id": "0ad44091",
   "metadata": {},
   "source": [
    "<p>Infact there also a lot of similarites between some other features but for now we will just ignore them and letter find out which features has most meaning</p>"
   ]
  },
  {
   "cell_type": "markdown",
   "id": "999729b3",
   "metadata": {},
   "source": [
    "<p>check if there are any null values</p>"
   ]
  },
  {
   "cell_type": "code",
   "execution_count": 36,
   "id": "6efc0288",
   "metadata": {},
   "outputs": [
    {
     "data": {
      "text/plain": [
       "description    66\n",
       "dateposted      1\n",
       "bathrooms       0\n",
       "price           0\n",
       "county          0\n",
       "dtype: int64"
      ]
     },
     "execution_count": 36,
     "metadata": {},
     "output_type": "execute_result"
    }
   ],
   "source": [
    "train_df.isnull().sum().sort_values(ascending=False).head()"
   ]
  },
  {
   "cell_type": "markdown",
   "id": "c9ddff10",
   "metadata": {},
   "source": [
    "<p>Since there is only one date value missing we will just remove that row and for description we will remove it as it is not that important for our dataset as the what the description feature want to describe is already present in the other datasets\n",
    "</p>"
   ]
  },
  {
   "cell_type": "code",
   "execution_count": 38,
   "id": "2a159216",
   "metadata": {},
   "outputs": [],
   "source": [
    "train_df.dropna(subset=['dateposted'], inplace=True)"
   ]
  },
  {
   "cell_type": "markdown",
   "id": "b56bc5c3",
   "metadata": {},
   "source": [
    "<p>A overview of training dataset</p>"
   ]
  },
  {
   "cell_type": "code",
   "execution_count": 39,
   "id": "3fbb18ec",
   "metadata": {},
   "outputs": [],
   "source": [
    "# dropped description\n",
    "train_df.drop(columns=['description'], inplace=True)"
   ]
  },
  {
   "cell_type": "code",
   "execution_count": 40,
   "id": "6d51f065",
   "metadata": {},
   "outputs": [
    {
     "data": {
      "text/html": [
       "<div>\n",
       "<style scoped>\n",
       "    .dataframe tbody tr th:only-of-type {\n",
       "        vertical-align: middle;\n",
       "    }\n",
       "\n",
       "    .dataframe tbody tr th {\n",
       "        vertical-align: top;\n",
       "    }\n",
       "\n",
       "    .dataframe thead th {\n",
       "        text-align: right;\n",
       "    }\n",
       "</style>\n",
       "<table border=\"1\" class=\"dataframe\">\n",
       "  <thead>\n",
       "    <tr style=\"text-align: right;\">\n",
       "      <th></th>\n",
       "      <th>countyId</th>\n",
       "      <th>cityId</th>\n",
       "      <th>is_bankOwned</th>\n",
       "      <th>is_forAuction</th>\n",
       "      <th>time</th>\n",
       "      <th>pricePerSquareFoot</th>\n",
       "      <th>yearBuilt</th>\n",
       "      <th>zipcode</th>\n",
       "      <th>longitude</th>\n",
       "      <th>latitude</th>\n",
       "      <th>...</th>\n",
       "      <th>bedrooms</th>\n",
       "      <th>buildingArea</th>\n",
       "      <th>parking</th>\n",
       "      <th>garageSpaces</th>\n",
       "      <th>hasGarage</th>\n",
       "      <th>pool</th>\n",
       "      <th>spa</th>\n",
       "      <th>isNewConstruction</th>\n",
       "      <th>hasPetsAllowed</th>\n",
       "      <th>price</th>\n",
       "    </tr>\n",
       "  </thead>\n",
       "  <tbody>\n",
       "    <tr>\n",
       "      <th>count</th>\n",
       "      <td>8746.000</td>\n",
       "      <td>8746.000</td>\n",
       "      <td>8746.000</td>\n",
       "      <td>8746.000</td>\n",
       "      <td>8746.000</td>\n",
       "      <td>8746.000</td>\n",
       "      <td>8746.000</td>\n",
       "      <td>8746.000</td>\n",
       "      <td>8746.000</td>\n",
       "      <td>8746.000</td>\n",
       "      <td>...</td>\n",
       "      <td>8746.000</td>\n",
       "      <td>8746.000</td>\n",
       "      <td>8746.000</td>\n",
       "      <td>8746.000</td>\n",
       "      <td>8746.000</td>\n",
       "      <td>8746.000</td>\n",
       "      <td>8746.000</td>\n",
       "      <td>8746.000</td>\n",
       "      <td>8746.000</td>\n",
       "      <td>8746.000</td>\n",
       "    </tr>\n",
       "    <tr>\n",
       "      <th>mean</th>\n",
       "      <td>151614.820</td>\n",
       "      <td>32279.318</td>\n",
       "      <td>0.000</td>\n",
       "      <td>0.000</td>\n",
       "      <td>1622044934827.350</td>\n",
       "      <td>124.557</td>\n",
       "      <td>1319.060</td>\n",
       "      <td>30667.560</td>\n",
       "      <td>-83.777</td>\n",
       "      <td>33.349</td>\n",
       "      <td>...</td>\n",
       "      <td>2.313</td>\n",
       "      <td>1177.364</td>\n",
       "      <td>0.453</td>\n",
       "      <td>0.498</td>\n",
       "      <td>0.357</td>\n",
       "      <td>0.052</td>\n",
       "      <td>0.060</td>\n",
       "      <td>0.044</td>\n",
       "      <td>0.004</td>\n",
       "      <td>12.193</td>\n",
       "    </tr>\n",
       "    <tr>\n",
       "      <th>std</th>\n",
       "      <td>98007.753</td>\n",
       "      <td>38633.115</td>\n",
       "      <td>0.000</td>\n",
       "      <td>0.019</td>\n",
       "      <td>33083862359.345</td>\n",
       "      <td>2194.533</td>\n",
       "      <td>941.022</td>\n",
       "      <td>555.510</td>\n",
       "      <td>1.047</td>\n",
       "      <td>1.063</td>\n",
       "      <td>...</td>\n",
       "      <td>2.157</td>\n",
       "      <td>1908.196</td>\n",
       "      <td>0.498</td>\n",
       "      <td>0.944</td>\n",
       "      <td>0.479</td>\n",
       "      <td>0.222</td>\n",
       "      <td>0.238</td>\n",
       "      <td>0.206</td>\n",
       "      <td>0.059</td>\n",
       "      <td>1.228</td>\n",
       "    </tr>\n",
       "    <tr>\n",
       "      <th>min</th>\n",
       "      <td>17.000</td>\n",
       "      <td>0.000</td>\n",
       "      <td>0.000</td>\n",
       "      <td>0.000</td>\n",
       "      <td>252000000000.000</td>\n",
       "      <td>0.000</td>\n",
       "      <td>0.000</td>\n",
       "      <td>30002.000</td>\n",
       "      <td>-85.574</td>\n",
       "      <td>30.626</td>\n",
       "      <td>...</td>\n",
       "      <td>0.000</td>\n",
       "      <td>0.000</td>\n",
       "      <td>0.000</td>\n",
       "      <td>0.000</td>\n",
       "      <td>0.000</td>\n",
       "      <td>0.000</td>\n",
       "      <td>0.000</td>\n",
       "      <td>0.000</td>\n",
       "      <td>0.000</td>\n",
       "      <td>7.131</td>\n",
       "    </tr>\n",
       "    <tr>\n",
       "      <th>25%</th>\n",
       "      <td>69334.250</td>\n",
       "      <td>13709.000</td>\n",
       "      <td>0.000</td>\n",
       "      <td>0.000</td>\n",
       "      <td>1620000000000.000</td>\n",
       "      <td>0.000</td>\n",
       "      <td>0.000</td>\n",
       "      <td>30189.000</td>\n",
       "      <td>-84.469</td>\n",
       "      <td>32.625</td>\n",
       "      <td>...</td>\n",
       "      <td>0.000</td>\n",
       "      <td>0.000</td>\n",
       "      <td>0.000</td>\n",
       "      <td>0.000</td>\n",
       "      <td>0.000</td>\n",
       "      <td>0.000</td>\n",
       "      <td>0.000</td>\n",
       "      <td>0.000</td>\n",
       "      <td>0.000</td>\n",
       "      <td>11.494</td>\n",
       "    </tr>\n",
       "    <tr>\n",
       "      <th>50%</th>\n",
       "      <td>136661.000</td>\n",
       "      <td>28803.000</td>\n",
       "      <td>0.000</td>\n",
       "      <td>0.000</td>\n",
       "      <td>1630000000000.000</td>\n",
       "      <td>94.000</td>\n",
       "      <td>1965.000</td>\n",
       "      <td>30530.500</td>\n",
       "      <td>-84.054</td>\n",
       "      <td>33.698</td>\n",
       "      <td>...</td>\n",
       "      <td>3.000</td>\n",
       "      <td>0.000</td>\n",
       "      <td>0.000</td>\n",
       "      <td>0.000</td>\n",
       "      <td>0.000</td>\n",
       "      <td>0.000</td>\n",
       "      <td>0.000</td>\n",
       "      <td>0.000</td>\n",
       "      <td>0.000</td>\n",
       "      <td>12.429</td>\n",
       "    </tr>\n",
       "    <tr>\n",
       "      <th>75%</th>\n",
       "      <td>240738.500</td>\n",
       "      <td>43545.000</td>\n",
       "      <td>0.000</td>\n",
       "      <td>0.000</td>\n",
       "      <td>1630000000000.000</td>\n",
       "      <td>161.000</td>\n",
       "      <td>1999.000</td>\n",
       "      <td>31052.000</td>\n",
       "      <td>-83.344</td>\n",
       "      <td>34.053</td>\n",
       "      <td>...</td>\n",
       "      <td>4.000</td>\n",
       "      <td>1998.750</td>\n",
       "      <td>1.000</td>\n",
       "      <td>0.000</td>\n",
       "      <td>1.000</td>\n",
       "      <td>0.000</td>\n",
       "      <td>0.000</td>\n",
       "      <td>0.000</td>\n",
       "      <td>0.000</td>\n",
       "      <td>12.969</td>\n",
       "    </tr>\n",
       "    <tr>\n",
       "      <th>max</th>\n",
       "      <td>333689.000</td>\n",
       "      <td>397383.000</td>\n",
       "      <td>0.000</td>\n",
       "      <td>1.000</td>\n",
       "      <td>1630000000000.000</td>\n",
       "      <td>205000.000</td>\n",
       "      <td>9999.000</td>\n",
       "      <td>31909.000</td>\n",
       "      <td>-80.842</td>\n",
       "      <td>34.993</td>\n",
       "      <td>...</td>\n",
       "      <td>89.000</td>\n",
       "      <td>87120.000</td>\n",
       "      <td>1.000</td>\n",
       "      <td>8.000</td>\n",
       "      <td>1.000</td>\n",
       "      <td>1.000</td>\n",
       "      <td>1.000</td>\n",
       "      <td>1.000</td>\n",
       "      <td>1.000</td>\n",
       "      <td>16.798</td>\n",
       "    </tr>\n",
       "  </tbody>\n",
       "</table>\n",
       "<p>8 rows × 23 columns</p>\n",
       "</div>"
      ],
      "text/plain": [
       "        countyId     cityId  is_bankOwned  is_forAuction              time  \\\n",
       "count   8746.000   8746.000      8746.000       8746.000          8746.000   \n",
       "mean  151614.820  32279.318         0.000          0.000 1622044934827.350   \n",
       "std    98007.753  38633.115         0.000          0.019   33083862359.345   \n",
       "min       17.000      0.000         0.000          0.000  252000000000.000   \n",
       "25%    69334.250  13709.000         0.000          0.000 1620000000000.000   \n",
       "50%   136661.000  28803.000         0.000          0.000 1630000000000.000   \n",
       "75%   240738.500  43545.000         0.000          0.000 1630000000000.000   \n",
       "max   333689.000 397383.000         0.000          1.000 1630000000000.000   \n",
       "\n",
       "       pricePerSquareFoot  yearBuilt   zipcode  longitude  latitude  ...  \\\n",
       "count            8746.000   8746.000  8746.000   8746.000  8746.000  ...   \n",
       "mean              124.557   1319.060 30667.560    -83.777    33.349  ...   \n",
       "std              2194.533    941.022   555.510      1.047     1.063  ...   \n",
       "min                 0.000      0.000 30002.000    -85.574    30.626  ...   \n",
       "25%                 0.000      0.000 30189.000    -84.469    32.625  ...   \n",
       "50%                94.000   1965.000 30530.500    -84.054    33.698  ...   \n",
       "75%               161.000   1999.000 31052.000    -83.344    34.053  ...   \n",
       "max            205000.000   9999.000 31909.000    -80.842    34.993  ...   \n",
       "\n",
       "       bedrooms  buildingArea  parking  garageSpaces  hasGarage     pool  \\\n",
       "count  8746.000      8746.000 8746.000      8746.000   8746.000 8746.000   \n",
       "mean      2.313      1177.364    0.453         0.498      0.357    0.052   \n",
       "std       2.157      1908.196    0.498         0.944      0.479    0.222   \n",
       "min       0.000         0.000    0.000         0.000      0.000    0.000   \n",
       "25%       0.000         0.000    0.000         0.000      0.000    0.000   \n",
       "50%       3.000         0.000    0.000         0.000      0.000    0.000   \n",
       "75%       4.000      1998.750    1.000         0.000      1.000    0.000   \n",
       "max      89.000     87120.000    1.000         8.000      1.000    1.000   \n",
       "\n",
       "           spa  isNewConstruction  hasPetsAllowed    price  \n",
       "count 8746.000           8746.000        8746.000 8746.000  \n",
       "mean     0.060              0.044           0.004   12.193  \n",
       "std      0.238              0.206           0.059    1.228  \n",
       "min      0.000              0.000           0.000    7.131  \n",
       "25%      0.000              0.000           0.000   11.494  \n",
       "50%      0.000              0.000           0.000   12.429  \n",
       "75%      0.000              0.000           0.000   12.969  \n",
       "max      1.000              1.000           1.000   16.798  \n",
       "\n",
       "[8 rows x 23 columns]"
      ]
     },
     "execution_count": 40,
     "metadata": {},
     "output_type": "execute_result"
    }
   ],
   "source": [
    "train_df.describe()"
   ]
  },
  {
   "cell_type": "code",
   "execution_count": 41,
   "id": "b1a4df81",
   "metadata": {},
   "outputs": [
    {
     "data": {
      "text/plain": [
       "cityId               0.000\n",
       "is_bankOwned         0.000\n",
       "is_forAuction        0.000\n",
       "pricePerSquareFoot   0.000\n",
       "yearBuilt            0.000\n",
       "hasBadGeocode        0.000\n",
       "livingArea           0.000\n",
       "bathrooms            0.000\n",
       "bedrooms             0.000\n",
       "buildingArea         0.000\n",
       "parking              0.000\n",
       "garageSpaces         0.000\n",
       "hasGarage            0.000\n",
       "pool                 0.000\n",
       "spa                  0.000\n",
       "isNewConstruction    0.000\n",
       "hasPetsAllowed       0.000\n",
       "Name: min, dtype: float64"
      ]
     },
     "execution_count": 41,
     "metadata": {},
     "output_type": "execute_result"
    }
   ],
   "source": [
    "min_values = train_df.describe().loc['min']\n",
    "min_values[min_values == 0]"
   ]
  },
  {
   "cell_type": "markdown",
   "id": "8b458451",
   "metadata": {},
   "source": [
    "<P>Most of them looks okay but cityid, pricePerSquareFoot, yearBuilt, livingArea, LivingAreaValue, bedrooms, livingAreaValue, bathrooms, buildingArea looks pretty weird as they are continous or values which should not be zero</P>"
   ]
  },
  {
   "cell_type": "markdown",
   "id": "86ca63d7",
   "metadata": {},
   "source": [
    "<P>After explocring the data a bit we can see that in year Built and pricePerSquareFoot 0 simply means null value. But for other continuos features 0 means they simply did not have those features like a Lot would not have bedrooms, or bathrooms or building Area</P>"
   ]
  },
  {
   "cell_type": "markdown",
   "id": "f9378fc2",
   "metadata": {},
   "source": [
    "<p>We will decide what to do with the null values later</p>"
   ]
  },
  {
   "cell_type": "code",
   "execution_count": 42,
   "id": "defcc1b4",
   "metadata": {},
   "outputs": [
    {
     "data": {
      "text/html": [
       "<div>\n",
       "<style scoped>\n",
       "    .dataframe tbody tr th:only-of-type {\n",
       "        vertical-align: middle;\n",
       "    }\n",
       "\n",
       "    .dataframe tbody tr th {\n",
       "        vertical-align: top;\n",
       "    }\n",
       "\n",
       "    .dataframe thead th {\n",
       "        text-align: right;\n",
       "    }\n",
       "</style>\n",
       "<table border=\"1\" class=\"dataframe\">\n",
       "  <thead>\n",
       "    <tr style=\"text-align: right;\">\n",
       "      <th></th>\n",
       "      <th>cityId</th>\n",
       "      <th>city</th>\n",
       "    </tr>\n",
       "  </thead>\n",
       "  <tbody>\n",
       "    <tr>\n",
       "      <th>5294</th>\n",
       "      <td>11738</td>\n",
       "      <td>Griffin</td>\n",
       "    </tr>\n",
       "    <tr>\n",
       "      <th>6760</th>\n",
       "      <td>48573</td>\n",
       "      <td>Woodstock</td>\n",
       "    </tr>\n",
       "    <tr>\n",
       "      <th>9108</th>\n",
       "      <td>54219</td>\n",
       "      <td>Roswell</td>\n",
       "    </tr>\n",
       "    <tr>\n",
       "      <th>6005</th>\n",
       "      <td>11799</td>\n",
       "      <td>Hapeville</td>\n",
       "    </tr>\n",
       "    <tr>\n",
       "      <th>1788</th>\n",
       "      <td>0</td>\n",
       "      <td>Cohutta</td>\n",
       "    </tr>\n",
       "  </tbody>\n",
       "</table>\n",
       "</div>"
      ],
      "text/plain": [
       "      cityId       city\n",
       "5294   11738    Griffin\n",
       "6760   48573  Woodstock\n",
       "9108   54219    Roswell\n",
       "6005   11799  Hapeville\n",
       "1788       0    Cohutta"
      ]
     },
     "execution_count": 42,
     "metadata": {},
     "output_type": "execute_result"
    }
   ],
   "source": [
    "cities = train_df[['cityId', 'city']]\n",
    "cities.head()"
   ]
  },
  {
   "cell_type": "code",
   "execution_count": 43,
   "id": "929b8238",
   "metadata": {},
   "outputs": [
    {
     "data": {
      "text/plain": [
       "cityId    0\n",
       "city      0\n",
       "dtype: int64"
      ]
     },
     "execution_count": 43,
     "metadata": {},
     "output_type": "execute_result"
    }
   ],
   "source": [
    "cities.isnull().sum()"
   ]
  },
  {
   "cell_type": "markdown",
   "id": "c5977f94",
   "metadata": {},
   "source": [
    "<p>But previously we found out that cityId has 0 values which is very weird</p>"
   ]
  },
  {
   "cell_type": "code",
   "execution_count": 44,
   "id": "bfa85b8f",
   "metadata": {},
   "outputs": [
    {
     "data": {
      "text/html": [
       "<div>\n",
       "<style scoped>\n",
       "    .dataframe tbody tr th:only-of-type {\n",
       "        vertical-align: middle;\n",
       "    }\n",
       "\n",
       "    .dataframe tbody tr th {\n",
       "        vertical-align: top;\n",
       "    }\n",
       "\n",
       "    .dataframe thead th {\n",
       "        text-align: right;\n",
       "    }\n",
       "</style>\n",
       "<table border=\"1\" class=\"dataframe\">\n",
       "  <thead>\n",
       "    <tr style=\"text-align: right;\">\n",
       "      <th></th>\n",
       "      <th>cityId</th>\n",
       "      <th>city</th>\n",
       "    </tr>\n",
       "  </thead>\n",
       "  <tbody>\n",
       "    <tr>\n",
       "      <th>1788</th>\n",
       "      <td>0</td>\n",
       "      <td>Cohutta</td>\n",
       "    </tr>\n",
       "    <tr>\n",
       "      <th>13107</th>\n",
       "      <td>0</td>\n",
       "      <td>Midville</td>\n",
       "    </tr>\n",
       "    <tr>\n",
       "      <th>10650</th>\n",
       "      <td>0</td>\n",
       "      <td>Jonesboro</td>\n",
       "    </tr>\n",
       "    <tr>\n",
       "      <th>10183</th>\n",
       "      <td>0</td>\n",
       "      <td>Bishop</td>\n",
       "    </tr>\n",
       "    <tr>\n",
       "      <th>1342</th>\n",
       "      <td>0</td>\n",
       "      <td>Uvalda</td>\n",
       "    </tr>\n",
       "  </tbody>\n",
       "</table>\n",
       "</div>"
      ],
      "text/plain": [
       "       cityId       city\n",
       "1788        0    Cohutta\n",
       "13107       0   Midville\n",
       "10650       0  Jonesboro\n",
       "10183       0     Bishop\n",
       "1342        0     Uvalda"
      ]
     },
     "execution_count": 44,
     "metadata": {},
     "output_type": "execute_result"
    }
   ],
   "source": [
    "cities[cities['cityId'] == 0].head()"
   ]
  },
  {
   "cell_type": "markdown",
   "id": "f52f8f53",
   "metadata": {},
   "source": [
    "<p>We can say that it was probably a mistake during the data collection and they forgot to add cityid. Since we can just use the city as feature we will discard cityId</p>"
   ]
  },
  {
   "cell_type": "code",
   "execution_count": 45,
   "id": "d5def691",
   "metadata": {},
   "outputs": [],
   "source": [
    "# dropped cityid\n",
    "train_df.drop(columns=['cityId'], inplace=True)"
   ]
  },
  {
   "cell_type": "markdown",
   "id": "0f52bc54",
   "metadata": {},
   "source": [
    "<h3>Exploratory Data Analysis</h3>"
   ]
  },
  {
   "cell_type": "code",
   "execution_count": 57,
   "id": "aff3cec7",
   "metadata": {},
   "outputs": [
    {
     "data": {
      "text/html": [
       "<div>\n",
       "<style scoped>\n",
       "    .dataframe tbody tr th:only-of-type {\n",
       "        vertical-align: middle;\n",
       "    }\n",
       "\n",
       "    .dataframe tbody tr th {\n",
       "        vertical-align: top;\n",
       "    }\n",
       "\n",
       "    .dataframe thead th {\n",
       "        text-align: right;\n",
       "    }\n",
       "</style>\n",
       "<table border=\"1\" class=\"dataframe\">\n",
       "  <thead>\n",
       "    <tr style=\"text-align: right;\">\n",
       "      <th></th>\n",
       "      <th>countyId</th>\n",
       "      <th>is_bankOwned</th>\n",
       "      <th>is_forAuction</th>\n",
       "      <th>event</th>\n",
       "      <th>time</th>\n",
       "      <th>pricePerSquareFoot</th>\n",
       "      <th>city</th>\n",
       "      <th>yearBuilt</th>\n",
       "      <th>streetAddress</th>\n",
       "      <th>zipcode</th>\n",
       "      <th>...</th>\n",
       "      <th>hasGarage</th>\n",
       "      <th>levels</th>\n",
       "      <th>pool</th>\n",
       "      <th>spa</th>\n",
       "      <th>isNewConstruction</th>\n",
       "      <th>hasPetsAllowed</th>\n",
       "      <th>homeType</th>\n",
       "      <th>county</th>\n",
       "      <th>price</th>\n",
       "      <th>dateposted</th>\n",
       "    </tr>\n",
       "  </thead>\n",
       "  <tbody>\n",
       "    <tr>\n",
       "      <th>5294</th>\n",
       "      <td>183556</td>\n",
       "      <td>0</td>\n",
       "      <td>0</td>\n",
       "      <td>Listed for sale</td>\n",
       "      <td>1620000000000.000</td>\n",
       "      <td>161</td>\n",
       "      <td>Griffin</td>\n",
       "      <td>1956</td>\n",
       "      <td>709 Forrest Ave</td>\n",
       "      <td>30224</td>\n",
       "      <td>...</td>\n",
       "      <td>0</td>\n",
       "      <td>One</td>\n",
       "      <td>0</td>\n",
       "      <td>0</td>\n",
       "      <td>0</td>\n",
       "      <td>0</td>\n",
       "      <td>SINGLE_FAMILY</td>\n",
       "      <td>Spalding County</td>\n",
       "      <td>12.345</td>\n",
       "      <td>2021-06-28</td>\n",
       "    </tr>\n",
       "    <tr>\n",
       "      <th>6760</th>\n",
       "      <td>233144</td>\n",
       "      <td>0</td>\n",
       "      <td>0</td>\n",
       "      <td>Listed for sale</td>\n",
       "      <td>1590000000000.000</td>\n",
       "      <td>160</td>\n",
       "      <td>Woodstock</td>\n",
       "      <td>2021</td>\n",
       "      <td>The Magnolia Plan</td>\n",
       "      <td>30188</td>\n",
       "      <td>...</td>\n",
       "      <td>0</td>\n",
       "      <td>Zero</td>\n",
       "      <td>0</td>\n",
       "      <td>0</td>\n",
       "      <td>1</td>\n",
       "      <td>0</td>\n",
       "      <td>TOWNHOUSE</td>\n",
       "      <td>Cherokee County</td>\n",
       "      <td>12.899</td>\n",
       "      <td>2021-07-09</td>\n",
       "    </tr>\n",
       "  </tbody>\n",
       "</table>\n",
       "<p>2 rows × 30 columns</p>\n",
       "</div>"
      ],
      "text/plain": [
       "      countyId  is_bankOwned  is_forAuction            event  \\\n",
       "5294    183556             0              0  Listed for sale   \n",
       "6760    233144             0              0  Listed for sale   \n",
       "\n",
       "                  time  pricePerSquareFoot       city  yearBuilt  \\\n",
       "5294 1620000000000.000                 161    Griffin       1956   \n",
       "6760 1590000000000.000                 160  Woodstock       2021   \n",
       "\n",
       "          streetAddress  zipcode  ...  hasGarage  levels  pool  spa  \\\n",
       "5294    709 Forrest Ave    30224  ...          0     One     0    0   \n",
       "6760  The Magnolia Plan    30188  ...          0    Zero     0    0   \n",
       "\n",
       "     isNewConstruction  hasPetsAllowed       homeType           county  price  \\\n",
       "5294                 0               0  SINGLE_FAMILY  Spalding County 12.345   \n",
       "6760                 1               0      TOWNHOUSE  Cherokee County 12.899   \n",
       "\n",
       "      dateposted  \n",
       "5294  2021-06-28  \n",
       "6760  2021-07-09  \n",
       "\n",
       "[2 rows x 30 columns]"
      ]
     },
     "execution_count": 57,
     "metadata": {},
     "output_type": "execute_result"
    }
   ],
   "source": [
    "train_df.head(2)"
   ]
  },
  {
   "cell_type": "code",
   "execution_count": 157,
   "id": "38cb8dbb",
   "metadata": {},
   "outputs": [],
   "source": [
    "X = train_df.copy().drop(columns=['price'])\n",
    "y = train_df['price']\n",
    "\n",
    "X['dateposted'] =  X['dateposted'].astype('object')\n",
    "\n",
    "for col in X.select_dtypes(include='object'):\n",
    "    X[col] = X[col].factorize()[0]\n",
    "\n",
    "discrete_features = X.dtypes == 'int64'"
   ]
  },
  {
   "cell_type": "code",
   "execution_count": 163,
   "id": "9d1c9c81",
   "metadata": {},
   "outputs": [],
   "source": [
    "mut_info = pd.Series(mutual_info_regression(X, y, discrete_features=discrete_features), index=X.columns)"
   ]
  },
  {
   "cell_type": "code",
   "execution_count": 164,
   "id": "13f0d39c",
   "metadata": {},
   "outputs": [
    {
     "data": {
      "text/plain": [
       "bathrooms            0.454\n",
       "zipcode              0.447\n",
       "pricePerSquareFoot   0.426\n",
       "livingArea           0.384\n",
       "city                 0.346\n",
       "bedrooms             0.315\n",
       "buildingArea         0.298\n",
       "yearBuilt            0.287\n",
       "county               0.270\n",
       "levels               0.258\n",
       "streetAddress        0.250\n",
       "latitude             0.232\n",
       "homeType             0.228\n",
       "longitude            0.202\n",
       "hasGarage            0.193\n",
       "parking              0.182\n",
       "garageSpaces         0.169\n",
       "dateposted           0.163\n",
       "event                0.082\n",
       "time                 0.046\n",
       "spa                  0.043\n",
       "pool                 0.026\n",
       "isNewConstruction    0.023\n",
       "lotAreaUnits         0.018\n",
       "is_forAuction        0.000\n",
       "hasPetsAllowed       0.000\n",
       "is_bankOwned         0.000\n",
       "hasBadGeocode        0.000\n",
       "countyId             0.000\n",
       "dtype: float64"
      ]
     },
     "execution_count": 164,
     "metadata": {},
     "output_type": "execute_result"
    }
   ],
   "source": [
    "mut_info.sort_values(ascending=False)"
   ]
  },
  {
   "cell_type": "markdown",
   "id": "17233d1f",
   "metadata": {},
   "source": [
    "<p>Most the features has some degree of realationship with price value but some are also very unexpected like bathrooms having so high relation(one reason for it can be that more bathrooms means bigger house and more facilities) or how is_forAuction, is_bankOwned has such poor realtionship. Lets explore them a bit</p>"
   ]
  },
  {
   "cell_type": "markdown",
   "id": "7f063ce7",
   "metadata": {},
   "source": [
    "<p>First lets divide the datas into categorical and quantitative datasets</p>"
   ]
  },
  {
   "cell_type": "code",
   "execution_count": 172,
   "id": "193646f8",
   "metadata": {},
   "outputs": [],
   "source": [
    "cat_df = train_df.select_dtypes(include=['object'])\n",
    "con_df = train_df.drop(columns=cat_df.columns)\n",
    "\n",
    "cat_df = cat_df.join(train_df['price'])"
   ]
  },
  {
   "cell_type": "code",
   "execution_count": 176,
   "id": "52263c6d",
   "metadata": {},
   "outputs": [
    {
     "data": {
      "text/plain": [
       "array([0], dtype=int64)"
      ]
     },
     "execution_count": 176,
     "metadata": {},
     "output_type": "execute_result"
    }
   ],
   "source": [
    "con_df['is_bankOwned'].unique()"
   ]
  },
  {
   "cell_type": "code",
   "execution_count": 175,
   "id": "1e0c9a05",
   "metadata": {},
   "outputs": [
    {
     "data": {
      "text/plain": [
       "<AxesSubplot:xlabel='is_bankOwned', ylabel='price'>"
      ]
     },
     "execution_count": 175,
     "metadata": {},
     "output_type": "execute_result"
    },
    {
     "data": {
      "image/png": "[encoded data removed]",
      "text/plain": [
       "<Figure size 432x288 with 1 Axes>"
      ]
     },
     "metadata": {},
     "output_type": "display_data"
    }
   ],
   "source": [
    "sns.boxplot(x=con_df['is_bankOwned'], y=con_df['price'])"
   ]
  },
  {
   "cell_type": "code",
   "execution_count": null,
   "id": "07397f21",
   "metadata": {},
   "outputs": [],
   "source": []
  },
  {
   "cell_type": "code",
   "execution_count": null,
   "id": "a3bc7250",
   "metadata": {},
   "outputs": [],
   "source": []
  },
  {
   "cell_type": "code",
   "execution_count": null,
   "id": "70192b38",
   "metadata": {},
   "outputs": [],
   "source": []
  },
  {
   "cell_type": "code",
   "execution_count": null,
   "id": "7985d588",
   "metadata": {},
   "outputs": [],
   "source": []
  },
  {
   "cell_type": "code",
   "execution_count": null,
   "id": "2e1b6b12",
   "metadata": {},
   "outputs": [],
   "source": []
  },
  {
   "cell_type": "code",
   "execution_count": null,
   "id": "0bf9cfe0",
   "metadata": {},
   "outputs": [],
   "source": []
  },
  {
   "cell_type": "code",
   "execution_count": null,
   "id": "c531c8c7",
   "metadata": {},
   "outputs": [],
   "source": []
  },
  {
   "cell_type": "markdown",
   "id": "46f19f75",
   "metadata": {},
   "source": [
    "<H3>FEATURE ENGINEERING & CLEANING</H3>"
   ]
  },
  {
   "cell_type": "markdown",
   "id": "fa2163ca",
   "metadata": {},
   "source": [
    "<p>For keeping track lets go through the features one by one</p>"
   ]
  },
  {
   "cell_type": "code",
   "execution_count": 46,
   "id": "27bee18c",
   "metadata": {},
   "outputs": [
    {
     "data": {
      "text/plain": [
       "Index(['countyId', 'is_bankOwned', 'is_forAuction', 'event', 'time',\n",
       "       'pricePerSquareFoot', 'city', 'yearBuilt', 'streetAddress', 'zipcode',\n",
       "       'longitude', 'latitude', 'hasBadGeocode', 'livingArea', 'lotAreaUnits',\n",
       "       'bathrooms', 'bedrooms', 'buildingArea', 'parking', 'garageSpaces',\n",
       "       'hasGarage', 'levels', 'pool', 'spa', 'isNewConstruction',\n",
       "       'hasPetsAllowed', 'homeType', 'county', 'price', 'dateposted'],\n",
       "      dtype='object')"
      ]
     },
     "execution_count": 46,
     "metadata": {},
     "output_type": "execute_result"
    }
   ],
   "source": [
    "train_df.columns"
   ]
  },
  {
   "cell_type": "markdown",
   "id": "686533e3",
   "metadata": {},
   "source": [
    "<P>We need to look more into levels<p>"
   ]
  },
  {
   "cell_type": "code",
   "execution_count": 108,
   "id": "9d101bbc",
   "metadata": {},
   "outputs": [
    {
     "data": {
      "text/plain": [
       "levels\n",
       "One-Two Story Foyer                 1\n",
       "Tri-Level                           1\n",
       "Manufactured Home 1 Story           1\n",
       "Two-Three Or More                   1\n",
       "Tri Level-Split Level               1\n",
       "Two-Split Level                     1\n",
       "One and One Half-Two                1\n",
       "One-Mobile Home 1 Story             1\n",
       "Split Level-Two                     1\n",
       "One-One and One Half-Two            1\n",
       "Split Foyer-Split Level             1\n",
       "Over 2 Stories                      1\n",
       "Three Or More-Two Story Foyer       2\n",
       "Two-Multi/Split                     2\n",
       "Two and One-Half                    2\n",
       "Two-Foyer - 2 Story                 2\n",
       "One-Manufactured Home 1 Story       2\n",
       "Two-Split Foyer                     2\n",
       "Multi/Split-Split Level             2\n",
       "One-Two                             3\n",
       "Other-See Remarks                   3\n",
       "Split Foyer                         3\n",
       "Split Level                         5\n",
       "One-One and One Half                5\n",
       "3 Story                             5\n",
       "Two-Two Story Foyer                 6\n",
       "Tri Level                           6\n",
       "2 Story or More                    36\n",
       "Multi/Split                       122\n",
       "One and One Half                  310\n",
       "Three Or More                     422\n",
       "Two                              1759\n",
       "One                              1848\n",
       "Zero                             4187\n",
       "Name: countyId, dtype: int64"
      ]
     },
     "execution_count": 108,
     "metadata": {},
     "output_type": "execute_result"
    }
   ],
   "source": [
    "train_df.groupby('levels')['countyId'].count().sort_values()"
   ]
  },
  {
   "cell_type": "code",
   "execution_count": 122,
   "id": "0342a12d",
   "metadata": {},
   "outputs": [
    {
     "data": {
      "text/plain": [
       "2"
      ]
     },
     "execution_count": 122,
     "metadata": {},
     "output_type": "execute_result"
    }
   ],
   "source": [
    "'a a b c'.count('a')"
   ]
  },
  {
   "cell_type": "code",
   "execution_count": 128,
   "id": "baec4320",
   "metadata": {},
   "outputs": [
    {
     "data": {
      "text/plain": [
       "True"
      ]
     },
     "execution_count": 128,
     "metadata": {},
     "output_type": "execute_result"
    }
   ],
   "source": [
    "# 'one'.\n",
    "'ones'.startswith('one')"
   ]
  },
  {
   "cell_type": "code",
   "execution_count": 160,
   "id": "e5891a50",
   "metadata": {},
   "outputs": [],
   "source": [
    "def replace_one(x):\n",
    "    count_one = x.count('One')\n",
    "    if count_one == 1:\n",
    "        return 'One'\n",
    "    else: \n",
    "        return 'One and One Half'\n",
    "\n",
    "\n",
    "def replace_values(x):\n",
    "    count = x.count()\n",
    "    x1 = x.iloc[0]\n",
    "    if count < 10:\n",
    "        if x1.startswith('One'):\n",
    "            return replace_one(x1)\n",
    "        \n",
    "        elif x1.startswith('Two'):\n",
    "            return 'Two and Half'\n",
    "        elif (x1.startswith('Three') or x1.startswith('Tri')):\n",
    "            return 'Three Or More'\n",
    "        \n",
    "        return x\n",
    "    \n",
    "    return x"
   ]
  },
  {
   "cell_type": "code",
   "execution_count": 150,
   "id": "abc9e84d",
   "metadata": {},
   "outputs": [
    {
     "data": {
      "text/plain": [
       "5294      One\n",
       "6760     Zero\n",
       "9108      Two\n",
       "6005      One\n",
       "1788     Zero\n",
       "         ... \n",
       "13024    Zero\n",
       "3388      Two\n",
       "7362      One\n",
       "6136     Zero\n",
       "5201     Zero\n",
       "Name: levels, Length: 8746, dtype: object"
      ]
     },
     "execution_count": 150,
     "metadata": {},
     "output_type": "execute_result"
    }
   ],
   "source": [
    "train_df.groupby('levels')['levels'].transform(lambda x: x.iloc[0])"
   ]
  },
  {
   "cell_type": "code",
   "execution_count": 161,
   "id": "1ad045d0",
   "metadata": {},
   "outputs": [
    {
     "data": {
      "text/plain": [
       "2 Story or More                36\n",
       "3 Story                         5\n",
       "Manufactured Home 1 Story       1\n",
       "Multi/Split                   122\n",
       "Multi/Split-Split Level         2\n",
       "One                          1855\n",
       "One and One Half              317\n",
       "Other-See Remarks               3\n",
       "Over 2 Stories                  1\n",
       "Split Foyer                     3\n",
       "Split Foyer-Split Level         1\n",
       "Split Level                     5\n",
       "Split Level-Two                 1\n",
       "Three Or More                 432\n",
       "Two                          1759\n",
       "Two and Half                   16\n",
       "Zero                         4187\n",
       "Name: levels, dtype: int64"
      ]
     },
     "execution_count": 161,
     "metadata": {},
     "output_type": "execute_result"
    }
   ],
   "source": [
    "i = train_df.groupby('levels')['levels'].transform(replace_values)\n",
    "i.value_counts().sort_index()"
   ]
  },
  {
   "cell_type": "code",
   "execution_count": 107,
   "id": "e97d16cc",
   "metadata": {},
   "outputs": [
    {
     "data": {
      "text/plain": [
       "levels\n",
       "2 Story or More                    36\n",
       "3 Story                             5\n",
       "Manufactured Home 1 Story           1\n",
       "Multi/Split                       122\n",
       "Multi/Split-Split Level             2\n",
       "One                              1848\n",
       "One and One Half                  310\n",
       "One and One Half-Two                1\n",
       "One-Manufactured Home 1 Story       2\n",
       "One-Mobile Home 1 Story             1\n",
       "One-One and One Half                5\n",
       "One-One and One Half-Two            1\n",
       "One-Two                             3\n",
       "One-Two Story Foyer                 1\n",
       "Other-See Remarks                   3\n",
       "Over 2 Stories                      1\n",
       "Split Foyer                         3\n",
       "Split Foyer-Split Level             1\n",
       "Split Level                         5\n",
       "Split Level-Two                     1\n",
       "Three Or More                     422\n",
       "Three Or More-Two Story Foyer       2\n",
       "Tri Level                           6\n",
       "Tri Level-Split Level               1\n",
       "Tri-Level                           1\n",
       "Two                              1759\n",
       "Two and One-Half                    2\n",
       "Two-Foyer - 2 Story                 2\n",
       "Two-Multi/Split                     2\n",
       "Two-Split Foyer                     2\n",
       "Two-Split Level                     1\n",
       "Two-Three Or More                   1\n",
       "Two-Two Story Foyer                 6\n",
       "Zero                             4187\n",
       "Name: countyId, dtype: int64"
      ]
     },
     "execution_count": 107,
     "metadata": {},
     "output_type": "execute_result"
    }
   ],
   "source": [
    "train_df.groupby('levels')['countyId'].count().sort_index()"
   ]
  }
 ],
 "metadata": {
  "kernelspec": {
   "display_name": "Python 3 (ipykernel)",
   "language": "python",
   "name": "python3"
  },
  "language_info": {
   "codemirror_mode": {
    "name": "ipython",
    "version": 3
   },
   "file_extension": ".py",
   "mimetype": "text/x-python",
   "name": "python",
   "nbconvert_exporter": "python",
   "pygments_lexer": "ipython3",
   "version": "3.9.12"
  }
 },
 "nbformat": 4,
 "nbformat_minor": 5
}
