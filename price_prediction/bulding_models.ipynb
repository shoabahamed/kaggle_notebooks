{
 "cells": [
  {
   "cell_type": "code",
   "execution_count": 1,
   "id": "ff844e71",
   "metadata": {},
   "outputs": [],
   "source": [
    "import pandas as pd\n",
    "import matplotlib.pyplot as plt\n",
    "import seaborn as sns\n",
    "import numpy as np\n",
    "from sklearn.model_selection import train_test_split\n",
    "from sklearn.model_selection import cross_val_score\n",
    "from sklearn.preprocessing import StandardScaler\n",
    "from sklearn.linear_model import LinearRegression\n",
    "from sklearn.linear_model import Lasso\n",
    "from sklearn.linear_model import Ridge\n",
    "from sklearn.linear_model import LassoCV\n",
    "from sklearn.linear_model import RidgeCV\n",
    "from sklearn.linear_model import ElasticNet\n",
    "from sklearn.linear_model import ElasticNetCV\n",
    "from sklearn.metrics import mean_squared_error, make_scorer\n",
    "import tensorflow as tf\n",
    "from tensorflow import keras\n",
    "from keras import regularizers\n",
    "\n",
    "\n",
    "pd.set_option('display.float_format', lambda x: '%.3f' % x)\n",
    "plt.style.use('dark_background')"
   ]
  },
  {
   "cell_type": "code",
   "execution_count": 2,
   "id": "b0931e43",
   "metadata": {},
   "outputs": [
    {
     "data": {
      "text/plain": [
       "((1456, 144), (1459, 143))"
      ]
     },
     "execution_count": 2,
     "metadata": {},
     "output_type": "execute_result"
    }
   ],
   "source": [
    "train = pd.read_csv('./files/train_cleaned.csv')\n",
    "test = pd.read_csv('./files/test_cleaned.csv')\n",
    "\n",
    "train.shape, test.shape"
   ]
  },
  {
   "cell_type": "markdown",
   "id": "839a8dc5",
   "metadata": {},
   "source": [
    "<p>Using pd get dummies to handle missing categorical features</p>"
   ]
  },
  {
   "cell_type": "code",
   "execution_count": 3,
   "id": "bd37fe07",
   "metadata": {},
   "outputs": [
    {
     "data": {
      "text/html": [
       "<div>\n",
       "<style scoped>\n",
       "    .dataframe tbody tr th:only-of-type {\n",
       "        vertical-align: middle;\n",
       "    }\n",
       "\n",
       "    .dataframe tbody tr th {\n",
       "        vertical-align: top;\n",
       "    }\n",
       "\n",
       "    .dataframe thead th {\n",
       "        text-align: right;\n",
       "    }\n",
       "</style>\n",
       "<table border=\"1\" class=\"dataframe\">\n",
       "  <thead>\n",
       "    <tr style=\"text-align: right;\">\n",
       "      <th></th>\n",
       "      <th>a_ba</th>\n",
       "      <th>a_ca</th>\n",
       "      <th>c_aa</th>\n",
       "      <th>c_cd</th>\n",
       "      <th>c_da</th>\n",
       "    </tr>\n",
       "  </thead>\n",
       "  <tbody>\n",
       "    <tr>\n",
       "      <th>0</th>\n",
       "      <td>1</td>\n",
       "      <td>0</td>\n",
       "      <td>0</td>\n",
       "      <td>0</td>\n",
       "      <td>1</td>\n",
       "    </tr>\n",
       "    <tr>\n",
       "      <th>1</th>\n",
       "      <td>0</td>\n",
       "      <td>1</td>\n",
       "      <td>1</td>\n",
       "      <td>0</td>\n",
       "      <td>0</td>\n",
       "    </tr>\n",
       "    <tr>\n",
       "      <th>2</th>\n",
       "      <td>0</td>\n",
       "      <td>0</td>\n",
       "      <td>0</td>\n",
       "      <td>1</td>\n",
       "      <td>0</td>\n",
       "    </tr>\n",
       "  </tbody>\n",
       "</table>\n",
       "</div>"
      ],
      "text/plain": [
       "   a_ba  a_ca  c_aa  c_cd  c_da\n",
       "0     1     0     0     0     1\n",
       "1     0     1     1     0     0\n",
       "2     0     0     0     1     0"
      ]
     },
     "execution_count": 3,
     "metadata": {},
     "output_type": "execute_result"
    }
   ],
   "source": [
    "d = pd.DataFrame({'a': ['ba', 'ca', np.nan], 'c': [\"da\", 'aa', 'cd']})\n",
    "pd.get_dummies(d)"
   ]
  },
  {
   "cell_type": "markdown",
   "id": "b50b3f3a",
   "metadata": {},
   "source": [
    "<p>but since we do not have any missing values we do not need to do this</p>"
   ]
  },
  {
   "cell_type": "code",
   "execution_count": 4,
   "id": "2002d938",
   "metadata": {},
   "outputs": [],
   "source": [
    "num_feats = train.drop('SalePrice', axis=1).corr().columns # before getting dummies \n",
    "cat_feats = train.select_dtypes(include=['object']).columns # before getting dummies"
   ]
  },
  {
   "cell_type": "code",
   "execution_count": 5,
   "id": "8e668904",
   "metadata": {},
   "outputs": [
    {
     "data": {
      "text/plain": [
       "((1456, 295), (1459, 281))"
      ]
     },
     "execution_count": 5,
     "metadata": {},
     "output_type": "execute_result"
    }
   ],
   "source": [
    "pd.get_dummies(train, drop_first=True).shape, pd.get_dummies(test, drop_first=True).shape"
   ]
  },
  {
   "cell_type": "markdown",
   "id": "2cbdb82a",
   "metadata": {},
   "source": [
    "<p>There is a problem the number of columns in train and test dataset is not matching. There are different ways to handle these situation. The way to handle this situation can be done in different ways. I found the solution in Sir <b>Vaibhav Shukla</b> artile <a href='https://medium.com/@vaibhavshukla182/how-to-solve-mismatch-in-train-and-test-set-after-categorical-encoding-8320ed03552f'>How to solve mismatch in train and test set after categorical encoding?</a>"
   ]
  },
  {
   "cell_type": "markdown",
   "id": "6b3119a0",
   "metadata": {},
   "source": [
    "<p>There are mainly three ways to handle these situations. But here we will add the train and test set and then do one hot encoding</p>"
   ]
  },
  {
   "cell_type": "code",
   "execution_count": 6,
   "id": "1c4de4d3",
   "metadata": {},
   "outputs": [],
   "source": [
    "train['train'] = 1\n",
    "test['train'] = 0"
   ]
  },
  {
   "cell_type": "code",
   "execution_count": 7,
   "id": "9218873d",
   "metadata": {},
   "outputs": [],
   "source": [
    "combined = pd.concat([train, test]) # concating the rows \n",
    "\n",
    "combined = pd.get_dummies(combined, drop_first=True)"
   ]
  },
  {
   "cell_type": "code",
   "execution_count": 8,
   "id": "78755ab2",
   "metadata": {},
   "outputs": [
    {
     "data": {
      "text/plain": [
       "((1456, 296), (1459, 295))"
      ]
     },
     "execution_count": 8,
     "metadata": {},
     "output_type": "execute_result"
    }
   ],
   "source": [
    "train = combined[combined['train'] == 1].drop(columns=['train'])\n",
    "test = combined[combined['train'] == 0].drop(columns=['train', 'SalePrice']) # saleprice are given as null values\n",
    "\n",
    "train.shape, test.shape"
   ]
  },
  {
   "cell_type": "code",
   "execution_count": 9,
   "id": "b89b419f",
   "metadata": {},
   "outputs": [],
   "source": [
    "x = train.drop('SalePrice', axis=1)\n",
    "y = train['SalePrice']\n",
    "\n",
    "x_train, x_test, y_train, y_test = train_test_split(x, y, random_state=0, test_size=0.2)"
   ]
  },
  {
   "cell_type": "code",
   "execution_count": 10,
   "id": "848c6a52",
   "metadata": {},
   "outputs": [
    {
     "data": {
      "text/plain": [
       "((1164, 295), (292, 295))"
      ]
     },
     "execution_count": 10,
     "metadata": {},
     "output_type": "execute_result"
    }
   ],
   "source": [
    "x_train.shape, x_test.shape"
   ]
  },
  {
   "cell_type": "code",
   "execution_count": 11,
   "id": "755061fe",
   "metadata": {},
   "outputs": [],
   "source": [
    "scaler_features = StandardScaler()\n",
    "scaler_target = StandardScaler()\n",
    "\n",
    "x_train[num_feats] = scaler_features.fit_transform(x_train[num_feats])\n",
    "x_test[num_feats] = scaler_features.transform(x_test[num_feats])\n",
    "test[num_feats] = scaler_features.transform(test[num_feats])\n",
    "\n",
    "# we would not transform the target values as they are already log transformed and LB scored is measure with log values"
   ]
  },
  {
   "cell_type": "code",
   "execution_count": 12,
   "id": "e1084588",
   "metadata": {},
   "outputs": [
    {
     "name": "stdout",
     "output_type": "stream",
     "text": [
      "(1047,) (117,)\n",
      "(1047,) (117,)\n",
      "(1047,) (117,)\n",
      "(1047,) (117,)\n",
      "(1048,) (116,)\n",
      "(1048,) (116,)\n",
      "(1048,) (116,)\n",
      "(1048,) (116,)\n",
      "(1048,) (116,)\n",
      "(1048,) (116,)\n"
     ]
    }
   ],
   "source": [
    "from sklearn.model_selection import KFold\n",
    "\n",
    "k = KFold(10)\n",
    "for x_tr, z_tr in k.split(x_train):\n",
    "    print(x_tr.shape, z_tr.shape)"
   ]
  },
  {
   "cell_type": "code",
   "execution_count": 13,
   "id": "9a25e9b1",
   "metadata": {},
   "outputs": [],
   "source": [
    "scorer = make_scorer(mean_squared_error)\n",
    "\n",
    "def mse_train_score(model):\n",
    "    return np.sqrt(cross_val_score(model, x_train, y_train, scoring=scorer, cv=10))\n",
    "\n",
    "def mse_test_score(model):\n",
    "    return np.sqrt(cross_val_score(model, x_test, y_test, scoring=scorer, cv=10))"
   ]
  },
  {
   "cell_type": "code",
   "execution_count": 14,
   "id": "ada627e1",
   "metadata": {},
   "outputs": [
    {
     "name": "stdout",
     "output_type": "stream",
     "text": [
      "RMSE in training set: 4862673044.452188\n",
      "RMSE in test set: 15.387798563284907\n"
     ]
    },
    {
     "data": {
      "image/png": "[encoded data removed]",
      "text/plain": [
       "<Figure size 432x288 with 1 Axes>"
      ]
     },
     "metadata": {
      "needs_background": "dark"
     },
     "output_type": "display_data"
    },
    {
     "data": {
      "image/png": "[encoded data removed]",
      "text/plain": [
       "<Figure size 432x288 with 1 Axes>"
      ]
     },
     "metadata": {
      "needs_background": "dark"
     },
     "output_type": "display_data"
    },
    {
     "data": {
      "image/png": "[encoded data removed]",
      "text/plain": [
       "<Figure size 432x288 with 1 Axes>"
      ]
     },
     "metadata": {
      "needs_background": "dark"
     },
     "output_type": "display_data"
    },
    {
     "data": {
      "image/png": "[encoded data removed]",
      "text/plain": [
       "<Figure size 432x288 with 1 Axes>"
      ]
     },
     "metadata": {
      "needs_background": "dark"
     },
     "output_type": "display_data"
    }
   ],
   "source": [
    "lr = LinearRegression()\n",
    "lr.fit(x_train, y_train)\n",
    "\n",
    "print('RMSE in training set: {}'.format(mse_train_score(lr).mean()))\n",
    "print('RMSE in test set: {}'.format(mse_test_score(lr).mean()))\n",
    "\n",
    "# plotting residuals\n",
    "y_train_pred = lr.predict(x_train)\n",
    "y_test_pred = lr.predict(x_test)\n",
    "\n",
    "plt.scatter(y_train_pred, y_train-y_train_pred, color='green', marker='+')\n",
    "plt.axhline()\n",
    "\n",
    "plt.figure()\n",
    "plt.scatter(y_test_pred, y_test-y_test_pred, color='red', marker=\"+\")\n",
    "\n",
    "plt.show()\n",
    "\n",
    "\n",
    "# Plot predictions\n",
    "plt.scatter(y_train_pred, y_train, c = \"blue\", marker = \"s\", label = \"Training data\")\n",
    "plt.plot([10.5, 13.5], [10.5, 13.5], c = \"red\")\n",
    "plt.figure()\n",
    "\n",
    "plt.scatter(y_test_pred, y_test, c = \"lightgreen\", marker = \"s\", label = \"Validation data\")\n",
    "plt.legend(loc = \"upper left\")\n",
    "\n",
    "plt.show()"
   ]
  },
  {
   "cell_type": "markdown",
   "id": "84bd226e",
   "metadata": {},
   "source": [
    "<p>We can see that the model is performing very very very bad and it is moslty due to multicolinearity. To tackle this problem we will use L1 regulizer(lasso) which discards unncessary or multicolinear features by assinging weight zero to features, L2 regulizers(Ridge) which does not discards features but makes the weights close to zero, ELASTICNET(mixture of both l1 and l2)discards unnessary features and make the taken features weight very small</p>"
   ]
  },
  {
   "cell_type": "markdown",
   "id": "348672ae",
   "metadata": {},
   "source": [
    "<h3># L2 regulizer </h3>"
   ]
  },
  {
   "cell_type": "code",
   "execution_count": 15,
   "id": "84f8bdb6",
   "metadata": {},
   "outputs": [
    {
     "data": {
      "text/plain": [
       "RidgeCV(alphas=array([ 0.1,  0.2,  0.3,  0.4,  0.5,  0.6,  0.8,  1. , 10. , 20. , 30. ,\n",
       "       50. , 60. ]))"
      ]
     },
     "execution_count": 15,
     "metadata": {},
     "output_type": "execute_result"
    }
   ],
   "source": [
    "# here since we are using x_train and x_test so does do make sense to cross split the again by using hyper parameter cv\n",
    "# we would have use cv value if use had used the whole trained dataset and did not split the data using train test split\n",
    "ridge = RidgeCV(alphas=[0.1, 0.2, 0.3, 0.4, 0.5, 0.6,\n",
    "                       0.8, 1, 10, 20, 30, 50, 60])# using ridge cv to try out multiple alphas(lambda value) at the same time\n",
    "\n",
    "ridge.fit(x_train, y_train)"
   ]
  },
  {
   "cell_type": "code",
   "execution_count": 16,
   "id": "7dce5d7e",
   "metadata": {},
   "outputs": [
    {
     "name": "stdout",
     "output_type": "stream",
     "text": [
      "Best alpha : 20.0\n"
     ]
    }
   ],
   "source": [
    "alpha = ridge.alpha_\n",
    "\n",
    "print(f\"Best alpha : {alpha}\")"
   ]
  },
  {
   "cell_type": "code",
   "execution_count": 17,
   "id": "d963efb9",
   "metadata": {},
   "outputs": [
    {
     "name": "stdout",
     "output_type": "stream",
     "text": [
      "Try again for more precision with alphas centered around 20.0\n",
      "Best new alpha : 19.0\n",
      "RMSE in training set: 0.11466018500091268\n",
      "RMSE in test set: 0.11466018500091268\n",
      "MEAN squared error 0.10550022694702221 \n"
     ]
    }
   ],
   "source": [
    "print(\"Try again for more precision with alphas centered around \" + str(alpha))\n",
    "\n",
    "ridge = RidgeCV(alphas = [alpha * .6, alpha * .65, alpha * .7, alpha * .75, alpha * .8, alpha * .85, \n",
    "                          alpha * .9, alpha * .95, alpha, alpha * 1.05, alpha * 1.1, alpha * 1.15,\n",
    "                          alpha * 1.25, alpha * 1.3, alpha * 1.35, alpha * 1.4])\n",
    "\n",
    "ridge.fit(x_train, y_train)\n",
    "\n",
    "# new alpha center around the previous one\n",
    "alpha = ridge.alpha_\n",
    "print(f\"Best new alpha : {alpha}\")\n",
    "\n",
    "# rmse score\n",
    "\n",
    "print('RMSE in training set: {}'.format(mse_train_score(ridge).mean()))\n",
    "   \n",
    "print('RMSE in test set: {}'.format(mse_train_score(ridge).mean()))\n",
    "      \n",
    "print(\"MEAN squared error {} \".format(np.sqrt(mean_squared_error(y_test, ridge.predict(x_test)))))"
   ]
  },
  {
   "cell_type": "code",
   "execution_count": 18,
   "id": "9cf53c7d",
   "metadata": {},
   "outputs": [
    {
     "data": {
      "image/png": "[encoded data removed]",
      "text/plain": [
       "<Figure size 432x288 with 1 Axes>"
      ]
     },
     "metadata": {
      "needs_background": "dark"
     },
     "output_type": "display_data"
    },
    {
     "data": {
      "image/png": "[encoded data removed]",
      "text/plain": [
       "<Figure size 432x288 with 1 Axes>"
      ]
     },
     "metadata": {
      "needs_background": "dark"
     },
     "output_type": "display_data"
    }
   ],
   "source": [
    "# plotting residuals\n",
    "y_train_pred = ridge.predict(x_train)\n",
    "y_test_pred = ridge.predict(x_test)\n",
    "\n",
    "plt.scatter(y_train_pred, y_train-y_train_pred, color='green')\n",
    "plt.scatter(y_test_pred, y_test-y_test_pred, color='red')\n",
    "plt.axhline()\n",
    "\n",
    "# plotting regression line\n",
    "plt.show()\n",
    "plt.scatter(y_test_pred, y_test)\n",
    "plt.plot([np.min(y_test), np.max(y_test)], [np.min(y_train), np.max(y_test)])\n",
    "plt.show()"
   ]
  },
  {
   "cell_type": "code",
   "execution_count": 19,
   "id": "f0330a4a",
   "metadata": {},
   "outputs": [
    {
     "name": "stdout",
     "output_type": "stream",
     "text": [
      "L1 regulizers picked 293 and discarded 2 features\n"
     ]
    },
    {
     "data": {
      "image/png": "[encoded data removed]",
      "text/plain": [
       "<Figure size 432x288 with 1 Axes>"
      ]
     },
     "metadata": {
      "needs_background": "dark"
     },
     "output_type": "display_data"
    }
   ],
   "source": [
    "coef = pd.Series(ridge.coef_, index=x_train.columns)\n",
    "print(f\"L1 regulizers picked {sum(coef != 0)} and discarded {sum(coef == 0)} features\")\n",
    "\n",
    "imp_coefs = pd.concat([coef.sort_values().head(10), coef.sort_values().tail(10)], axis=1)\n",
    "imp_coefs.plot(kind='barh')\n",
    "plt.show()"
   ]
  },
  {
   "cell_type": "markdown",
   "id": "cd4a2c99",
   "metadata": {},
   "source": [
    "<h3># L1 Regulizer</h3>"
   ]
  },
  {
   "cell_type": "code",
   "execution_count": 20,
   "id": "144fe75f",
   "metadata": {},
   "outputs": [
    {
     "name": "stdout",
     "output_type": "stream",
     "text": [
      "MEAN squared error 0.011130297885873192 \n"
     ]
    }
   ],
   "source": [
    "lasso = LassoCV(alphas=[0.001, 0.0015, 0.003, 0.004, 0.005, 0.006, 0.009, 0.01, 0.03, 0.05, 0.08, 0.1, 0.3, 0.5], \n",
    "                max_iter=50000)\n",
    "lasso.fit(x_train, y_train)\n",
    "\n",
    "print(\"MEAN squared error {} \".format(mean_squared_error(y_test, ridge.predict(x_test))))"
   ]
  },
  {
   "cell_type": "code",
   "execution_count": 21,
   "id": "b7fef14a",
   "metadata": {},
   "outputs": [
    {
     "name": "stdout",
     "output_type": "stream",
     "text": [
      "Best alpha : 0.001\n"
     ]
    }
   ],
   "source": [
    "alpha = lasso.alpha_\n",
    "\n",
    "print(f\"Best alpha : {alpha}\")"
   ]
  },
  {
   "cell_type": "code",
   "execution_count": 22,
   "id": "32060b6e",
   "metadata": {},
   "outputs": [
    {
     "name": "stdout",
     "output_type": "stream",
     "text": [
      "Try again for more precision with alphas centered around 0.001\n",
      "Best new alpha : 0.0006\n",
      "RMSE in training set: 0.11334082227704786\n",
      "RMSE in test set: 0.11334082227704786\n",
      "MEAN squared error 0.10391729380026506 \n"
     ]
    }
   ],
   "source": [
    "print(\"Try again for more precision with alphas centered around \" + str(alpha))\n",
    "\n",
    "lasso = LassoCV(alphas = [alpha * .6, alpha * .65, alpha * .7, alpha * .75, alpha * .8, alpha * .85, \n",
    "                          alpha * .9, alpha * .95, alpha, alpha * 1.05, alpha * 1.1, alpha * 1.15,\n",
    "                          alpha * 1.25, alpha * 1.3, alpha * 1.35, alpha * 1.4], max_iter=5000)\n",
    "\n",
    "lasso.fit(x_train, y_train)\n",
    "\n",
    "\n",
    "# new alpha center around the previous one\n",
    "alpha = lasso.alpha_\n",
    "print(f\"Best new alpha : {alpha}\")\n",
    "\n",
    "# rmse score\n",
    "\n",
    "print('RMSE in training set: {}'.format(mse_train_score(lasso).mean()))\n",
    "   \n",
    "print('RMSE in test set: {}'.format(mse_train_score(lasso).mean()))\n",
    "      \n",
    "print(\"MEAN squared error {} \".format(np.sqrt(mean_squared_error(y_test, lasso.predict(x_test)))))"
   ]
  },
  {
   "cell_type": "code",
   "execution_count": 23,
   "id": "20e2372d",
   "metadata": {},
   "outputs": [
    {
     "data": {
      "image/png": "[encoded data removed]",
      "text/plain": [
       "<Figure size 432x288 with 1 Axes>"
      ]
     },
     "metadata": {
      "needs_background": "dark"
     },
     "output_type": "display_data"
    },
    {
     "data": {
      "image/png": "[encoded data removed]",
      "text/plain": [
       "<Figure size 432x288 with 1 Axes>"
      ]
     },
     "metadata": {
      "needs_background": "dark"
     },
     "output_type": "display_data"
    }
   ],
   "source": [
    "# plotting residuals\n",
    "y_train_pred = lasso.predict(x_train)\n",
    "y_test_pred = lasso.predict(x_test)\n",
    "\n",
    "plt.scatter(y_train_pred, y_train-y_train_pred, color='green')\n",
    "plt.scatter(y_test_pred, y_test-y_test_pred, color='red')\n",
    "plt.axhline()\n",
    "\n",
    "# plotting regression line\n",
    "plt.show()\n",
    "plt.scatter(y_test_pred, y_test)\n",
    "plt.plot([np.min(y_test), np.max(y_test)], [np.min(y_train), np.max(y_test)])\n",
    "plt.show()"
   ]
  },
  {
   "cell_type": "code",
   "execution_count": 24,
   "id": "41be8d15",
   "metadata": {},
   "outputs": [
    {
     "name": "stdout",
     "output_type": "stream",
     "text": [
      "L1 regulizers picked 101 and discarded 194 features\n"
     ]
    },
    {
     "data": {
      "image/png": "[encoded data removed]",
      "text/plain": [
       "<Figure size 432x288 with 1 Axes>"
      ]
     },
     "metadata": {
      "needs_background": "dark"
     },
     "output_type": "display_data"
    }
   ],
   "source": [
    "coef = pd.Series(lasso.coef_, index=x_train.columns)\n",
    "print(f\"L1 regulizers picked {sum(coef != 0)} and discarded {sum(coef == 0)} features\")\n",
    "\n",
    "imp_coefs = pd.concat([coef.sort_values().head(10), coef.sort_values().tail(10)], axis=1)\n",
    "imp_coefs.plot(kind='barh')\n",
    "plt.show()"
   ]
  },
  {
   "cell_type": "markdown",
   "id": "2eafbad5",
   "metadata": {},
   "source": [
    "<p>There is a another model which is very good for situation like this. That is ElasticNetCV. It has both l1 and l2 penalty. So it not only removes all the useless feature but also reduce the important features weights to zero</p>"
   ]
  },
  {
   "cell_type": "code",
   "execution_count": 25,
   "id": "8553d537",
   "metadata": {},
   "outputs": [
    {
     "data": {
      "text/plain": [
       "ElasticNetCV(alphas=[0.03, 0.01, 0.05, 0.08, 0.1, 0.2, 0.5, 0.7, 0.8, 1, 3, 5,\n",
       "                     10, 0.0001, 0.0003, 0.0006, 0.001, 0.003, 0.006],\n",
       "             l1_ratio=[0.2, 0.5, 0.6, 0.7, 0.8, 0.9, 1], max_iter=50000)"
      ]
     },
     "execution_count": 25,
     "metadata": {},
     "output_type": "execute_result"
    }
   ],
   "source": [
    "elasticnet = ElasticNetCV(l1_ratio=[0.2, 0.5, 0.6, 0.7, 0.8, 0.9, 1],\n",
    "                         alphas=[0.03, 0.01, 0.05, 0.08, 0.1, 0.2, 0.5, 0.7, 0.8, 1, 3, 5, 10, \n",
    "                                 0.0001, 0.0003, 0.0006, 0.001, 0.003, 0.006], \n",
    "                        max_iter = 50000)\n",
    "\n",
    "elasticnet.fit(x_train, y_train)"
   ]
  },
  {
   "cell_type": "code",
   "execution_count": 26,
   "id": "95e5c810",
   "metadata": {},
   "outputs": [
    {
     "name": "stdout",
     "output_type": "stream",
     "text": [
      "Best l1_ratio : 0.2\n",
      "Best alpha : 0.003\n"
     ]
    }
   ],
   "source": [
    "alpha = elasticnet.alpha_\n",
    "ratio = elasticnet.l1_ratio_\n",
    "print(\"Best l1_ratio :\", ratio)\n",
    "print(\"Best alpha :\", alpha )"
   ]
  },
  {
   "cell_type": "code",
   "execution_count": 27,
   "id": "a5aab1bd",
   "metadata": {},
   "outputs": [
    {
     "name": "stdout",
     "output_type": "stream",
     "text": [
      "Try again for more precision with l1_ratio centered around 0.2\n"
     ]
    },
    {
     "data": {
      "text/plain": [
       "ElasticNetCV(alphas=[0.0001, 0.0003, 0.0006, 0.001, 0.003, 0.006, 0.01, 0.03,\n",
       "                     0.06, 0.1, 0.3, 0.6, 1, 3, 6],\n",
       "             l1_ratio=[0.17, 0.18000000000000002, 0.19, 0.2,\n",
       "                       0.21000000000000002, 0.22000000000000003,\n",
       "                       0.22999999999999998],\n",
       "             max_iter=50000)"
      ]
     },
     "execution_count": 27,
     "metadata": {},
     "output_type": "execute_result"
    }
   ],
   "source": [
    "print(\"Try again for more precision with l1_ratio centered around \" + str(ratio))\n",
    "\n",
    "elasticnet = ElasticNetCV(l1_ratio = [ratio * .85, ratio * .9, ratio * .95, ratio, ratio * 1.05, ratio * 1.1, ratio * 1.15],\n",
    "                          alphas = [0.0001, 0.0003, 0.0006, 0.001, 0.003, 0.006, 0.01, 0.03, 0.06, 0.1, 0.3, 0.6, 1, 3, 6], \n",
    "                          max_iter = 50000)\n",
    "elasticnet.fit(x_train, y_train)"
   ]
  },
  {
   "cell_type": "code",
   "execution_count": 28,
   "id": "3cac440b",
   "metadata": {},
   "outputs": [
    {
     "name": "stdout",
     "output_type": "stream",
     "text": [
      "Best l1_ratio : 0.18000000000000002\n",
      "Best alpha : 0.003\n"
     ]
    }
   ],
   "source": [
    "if (elasticnet.l1_ratio_ > 1):\n",
    "    elasticnet.l1_ratio_ = 1   \n",
    "    \n",
    "alpha = elasticnet.alpha_\n",
    "ratio = elasticnet.l1_ratio_\n",
    "print(\"Best l1_ratio :\", ratio)\n",
    "print(\"Best alpha :\", alpha )"
   ]
  },
  {
   "cell_type": "code",
   "execution_count": 29,
   "id": "6d8f6c84",
   "metadata": {},
   "outputs": [
    {
     "name": "stdout",
     "output_type": "stream",
     "text": [
      "now try again for more precision on alpha, with l1_ratio fixed at 0.18000000000000002 and alpha centered around 0.003\n",
      "Best l1_ratio : 0.18000000000000002\n",
      "Best alpha : 0.003\n"
     ]
    }
   ],
   "source": [
    "print(\"now try again for more precision on alpha, with l1_ratio fixed at \" + str(ratio) + \n",
    "      \" and alpha centered around \" + str(alpha))\n",
    "elasticnet = ElasticNetCV(l1_ratio = ratio,\n",
    "                          alphas = [alpha * .6, alpha * .65, alpha * .7, alpha * .75, alpha * .8, alpha * .85, alpha * .9, \n",
    "                                    alpha * .95, alpha, alpha * 1.05, alpha * 1.1, alpha * 1.15, alpha * 1.25, alpha * 1.3, \n",
    "                                    alpha * 1.35, alpha * 1.4], \n",
    "                          max_iter = 50000)\n",
    "\n",
    "elasticnet.fit(x_train, y_train)\n",
    "\n",
    "if (elasticnet.l1_ratio_ > 1):\n",
    "    elasticnet.l1_ratio_ = 1    \n",
    "alpha = elasticnet.alpha_\n",
    "ratio = elasticnet.l1_ratio_\n",
    "print(\"Best l1_ratio :\", ratio)\n",
    "print(\"Best alpha :\", alpha )"
   ]
  },
  {
   "cell_type": "code",
   "execution_count": 30,
   "id": "47ca00ba",
   "metadata": {},
   "outputs": [
    {
     "name": "stdout",
     "output_type": "stream",
     "text": [
      "RMSE in training set: 0.11355862426620891\n",
      "RMSE in test set: 0.11355862426620891\n",
      "MEAN squared error 0.10404571501468798 \n"
     ]
    },
    {
     "data": {
      "image/png": "[encoded data removed]",
      "text/plain": [
       "<Figure size 432x288 with 1 Axes>"
      ]
     },
     "metadata": {
      "needs_background": "dark"
     },
     "output_type": "display_data"
    },
    {
     "data": {
      "image/png": "[encoded data removed]",
      "text/plain": [
       "<Figure size 432x288 with 1 Axes>"
      ]
     },
     "metadata": {
      "needs_background": "dark"
     },
     "output_type": "display_data"
    }
   ],
   "source": [
    "# rmse score\n",
    "\n",
    "print('RMSE in training set: {}'.format(mse_train_score(elasticnet).mean()))\n",
    "   \n",
    "print('RMSE in test set: {}'.format(mse_train_score(elasticnet).mean()))\n",
    "      \n",
    "print(\"MEAN squared error {} \".format(np.sqrt(mean_squared_error(y_test, elasticnet.predict(x_test)))))\n",
    "\n",
    "# plotting residuals\n",
    "y_train_pred = elasticnet.predict(x_train)\n",
    "y_test_pred = elasticnet.predict(x_test)\n",
    "\n",
    "plt.scatter(y_train_pred, y_train-y_train_pred, color='green')\n",
    "plt.scatter(y_test_pred, y_test-y_test_pred, color='red')\n",
    "plt.axhline()\n",
    "\n",
    "# plotting regression line\n",
    "plt.show()\n",
    "plt.scatter(y_test_pred, y_test)\n",
    "plt.plot([np.min(y_test), np.max(y_test)], [np.min(y_train), np.max(y_test)])\n",
    "plt.show()"
   ]
  },
  {
   "cell_type": "code",
   "execution_count": 31,
   "id": "5027fb09",
   "metadata": {},
   "outputs": [
    {
     "name": "stdout",
     "output_type": "stream",
     "text": [
      "L1 regulizers picked 112 and discarded 183 features\n"
     ]
    },
    {
     "data": {
      "image/png": "[encoded data removed]",
      "text/plain": [
       "<Figure size 432x288 with 1 Axes>"
      ]
     },
     "metadata": {
      "needs_background": "dark"
     },
     "output_type": "display_data"
    }
   ],
   "source": [
    "coef = pd.Series(elasticnet.coef_, index=x_train.columns)\n",
    "print(f\"L1 regulizers picked {sum(coef != 0)} and discarded {sum(coef == 0)} features\")\n",
    "\n",
    "imp_coefs = pd.concat([coef.sort_values().head(10), coef.sort_values().tail(10)], axis=1)\n",
    "imp_coefs.plot(kind='barh')\n",
    "plt.show()"
   ]
  },
  {
   "cell_type": "markdown",
   "id": "ca932fe1",
   "metadata": {},
   "source": [
    "<p>Not only elastic net reduced the number of features the weights are also very low</p>"
   ]
  },
  {
   "cell_type": "markdown",
   "id": "99717986",
   "metadata": {},
   "source": [
    "<p>Using XGBoost to predict prices</p>"
   ]
  },
  {
   "cell_type": "markdown",
   "id": "bd5e800a",
   "metadata": {},
   "source": [
    "<h1>Learn more about xgboost </h1>"
   ]
  },
  {
   "cell_type": "code",
   "execution_count": 32,
   "id": "53538e1b",
   "metadata": {},
   "outputs": [
    {
     "name": "stderr",
     "output_type": "stream",
     "text": [
      "F:\\anaconda-env\\tensor\\lib\\site-packages\\xgboost\\compat.py:36: FutureWarning: pandas.Int64Index is deprecated and will be removed from pandas in a future version. Use pandas.Index with the appropriate dtype instead.\n",
      "  from pandas import MultiIndex, Int64Index\n"
     ]
    }
   ],
   "source": [
    "import xgboost as xgb"
   ]
  },
  {
   "cell_type": "code",
   "execution_count": 33,
   "id": "6529fc1b",
   "metadata": {},
   "outputs": [
    {
     "name": "stderr",
     "output_type": "stream",
     "text": [
      "F:\\anaconda-env\\tensor\\lib\\site-packages\\xgboost\\data.py:250: FutureWarning: pandas.Int64Index is deprecated and will be removed from pandas in a future version. Use pandas.Index with the appropriate dtype instead.\n",
      "  elif isinstance(data.columns, (pd.Int64Index, pd.RangeIndex)):\n"
     ]
    }
   ],
   "source": [
    "dtrain = xgb.DMatrix(x_train, y_train)\n",
    "dtest = xgb.DMatrix(x_test)\n",
    "\n",
    "params = {'max_depth': 2, \"eta\": 0.1}\n",
    "model = xgb.cv(params, dtrain, num_boost_round=500, early_stopping_rounds=100)"
   ]
  },
  {
   "cell_type": "code",
   "execution_count": 34,
   "id": "658e15e9",
   "metadata": {},
   "outputs": [
    {
     "data": {
      "text/plain": [
       "<AxesSubplot:>"
      ]
     },
     "execution_count": 34,
     "metadata": {},
     "output_type": "execute_result"
    },
    {
     "data": {
      "image/png": "[encoded data removed]",
      "text/plain": [
       "<Figure size 432x288 with 1 Axes>"
      ]
     },
     "metadata": {
      "needs_background": "dark"
     },
     "output_type": "display_data"
    }
   ],
   "source": [
    "model.loc[30:, ['train-rmse-mean', 'test-rmse-mean']].plot()"
   ]
  },
  {
   "cell_type": "code",
   "execution_count": 35,
   "id": "44d73c5f",
   "metadata": {},
   "outputs": [
    {
     "name": "stderr",
     "output_type": "stream",
     "text": [
      "F:\\anaconda-env\\tensor\\lib\\site-packages\\xgboost\\data.py:250: FutureWarning: pandas.Int64Index is deprecated and will be removed from pandas in a future version. Use pandas.Index with the appropriate dtype instead.\n",
      "  elif isinstance(data.columns, (pd.Int64Index, pd.RangeIndex)):\n"
     ]
    },
    {
     "data": {
      "text/plain": [
       "XGBRegressor(base_score=0.5, booster='gbtree', colsample_bylevel=1,\n",
       "             colsample_bynode=1, colsample_bytree=1, enable_categorical=False,\n",
       "             gamma=0, gpu_id=-1, importance_type=None,\n",
       "             interaction_constraints='', learning_rate=0.1, max_delta_step=0,\n",
       "             max_depth=2, min_child_weight=1, missing=nan,\n",
       "             monotone_constraints='()', n_estimators=360, n_jobs=8,\n",
       "             num_parallel_tree=1, predictor='auto', random_state=0, reg_alpha=0,\n",
       "             reg_lambda=1, scale_pos_weight=1, subsample=1, tree_method='exact',\n",
       "             validate_parameters=1, verbosity=None)"
      ]
     },
     "execution_count": 35,
     "metadata": {},
     "output_type": "execute_result"
    }
   ],
   "source": [
    "model_xgb = xgb.XGBRegressor(n_estimators=360, max_depth=2, learning_rate=0.1)\n",
    "model_xgb.fit(x_train, y_train)"
   ]
  },
  {
   "cell_type": "code",
   "execution_count": 36,
   "id": "b610365d",
   "metadata": {},
   "outputs": [
    {
     "data": {
      "text/plain": [
       "0.11359619135798127"
      ]
     },
     "execution_count": 36,
     "metadata": {},
     "output_type": "execute_result"
    }
   ],
   "source": [
    "xgb_predict = model_xgb.predict(x_test)\n",
    "np.sqrt(mean_squared_error(y_test, xgb_predict))"
   ]
  },
  {
   "cell_type": "markdown",
   "id": "69b672f2",
   "metadata": {},
   "source": [
    "<p>Using keras and tensorflow to predict values</p>"
   ]
  },
  {
   "cell_type": "code",
   "execution_count": 37,
   "id": "21d814b0",
   "metadata": {},
   "outputs": [
    {
     "name": "stdout",
     "output_type": "stream",
     "text": [
      "Model: \"sequential\"\n",
      "_________________________________________________________________\n",
      "Layer (type)                 Output Shape              Param #   \n",
      "=================================================================\n",
      "dense (Dense)                (None, 100)               29600     \n",
      "_________________________________________________________________\n",
      "dense_1 (Dense)              (None, 20)                2020      \n",
      "_________________________________________________________________\n",
      "dense_2 (Dense)              (None, 10)                210       \n",
      "_________________________________________________________________\n",
      "dense_3 (Dense)              (None, 1)                 11        \n",
      "=================================================================\n",
      "Total params: 31,841\n",
      "Trainable params: 31,841\n",
      "Non-trainable params: 0\n",
      "_________________________________________________________________\n"
     ]
    }
   ],
   "source": [
    "model_tf = keras.Sequential([\n",
    "    keras.layers.Dense(100, input_shape=(x_train.shape[1],), activation='relu'),\n",
    "    keras.layers.Dense(20, activation='relu'),\n",
    "    keras.layers.Dense(10, activation='relu'),\n",
    "    keras.layers.Dense(1)\n",
    "])\n",
    "\n",
    "model_tf.compile(\n",
    "    optimizer='adam',\n",
    "    loss = 'mean_squared_error'\n",
    ")\n",
    "\n",
    "model_tf.summary()"
   ]
  },
  {
   "cell_type": "code",
   "execution_count": 38,
   "id": "137835cf",
   "metadata": {},
   "outputs": [
    {
     "name": "stdout",
     "output_type": "stream",
     "text": [
      "Epoch 1/100\n",
      "37/37 [==============================] - 1s 2ms/step - loss: 63.2455\n",
      "Epoch 2/100\n",
      "37/37 [==============================] - 0s 2ms/step - loss: 3.6795\n",
      "Epoch 3/100\n",
      "37/37 [==============================] - 0s 1ms/step - loss: 0.7560\n",
      "Epoch 4/100\n",
      "37/37 [==============================] - 0s 2ms/step - loss: 0.4910\n",
      "Epoch 5/100\n",
      "37/37 [==============================] - 0s 1ms/step - loss: 0.3794\n",
      "Epoch 6/100\n",
      "37/37 [==============================] - 0s 2ms/step - loss: 0.2974\n",
      "Epoch 7/100\n",
      "37/37 [==============================] - 0s 1ms/step - loss: 0.2425\n",
      "Epoch 8/100\n",
      "37/37 [==============================] - 0s 1ms/step - loss: 0.2046\n",
      "Epoch 9/100\n",
      "37/37 [==============================] - 0s 1ms/step - loss: 0.1795\n",
      "Epoch 10/100\n",
      "37/37 [==============================] - 0s 1ms/step - loss: 0.1509\n",
      "Epoch 11/100\n",
      "37/37 [==============================] - 0s 1ms/step - loss: 0.1313\n",
      "Epoch 12/100\n",
      "37/37 [==============================] - 0s 1ms/step - loss: 0.1167\n",
      "Epoch 13/100\n",
      "37/37 [==============================] - 0s 1ms/step - loss: 0.1031\n",
      "Epoch 14/100\n",
      "37/37 [==============================] - 0s 2ms/step - loss: 0.0920\n",
      "Epoch 15/100\n",
      "37/37 [==============================] - 0s 1ms/step - loss: 0.0872\n",
      "Epoch 16/100\n",
      "37/37 [==============================] - 0s 1ms/step - loss: 0.0751\n",
      "Epoch 17/100\n",
      "37/37 [==============================] - 0s 1ms/step - loss: 0.0670\n",
      "Epoch 18/100\n",
      "37/37 [==============================] - 0s 2ms/step - loss: 0.0612\n",
      "Epoch 19/100\n",
      "37/37 [==============================] - 0s 1ms/step - loss: 0.0568\n",
      "Epoch 20/100\n",
      "37/37 [==============================] - 0s 1ms/step - loss: 0.0530\n",
      "Epoch 21/100\n",
      "37/37 [==============================] - 0s 2ms/step - loss: 0.0489\n",
      "Epoch 22/100\n",
      "37/37 [==============================] - 0s 1ms/step - loss: 0.0573\n",
      "Epoch 23/100\n",
      "37/37 [==============================] - 0s 2ms/step - loss: 0.0533\n",
      "Epoch 24/100\n",
      "37/37 [==============================] - 0s 2ms/step - loss: 0.0456\n",
      "Epoch 25/100\n",
      "37/37 [==============================] - 0s 2ms/step - loss: 0.0363\n",
      "Epoch 26/100\n",
      "37/37 [==============================] - 0s 1ms/step - loss: 0.0319\n",
      "Epoch 27/100\n",
      "37/37 [==============================] - 0s 1ms/step - loss: 0.0311\n",
      "Epoch 28/100\n",
      "37/37 [==============================] - 0s 1ms/step - loss: 0.0273\n",
      "Epoch 29/100\n",
      "37/37 [==============================] - 0s 1ms/step - loss: 0.0241\n",
      "Epoch 30/100\n",
      "37/37 [==============================] - 0s 1ms/step - loss: 0.0239\n",
      "Epoch 31/100\n",
      "37/37 [==============================] - 0s 1ms/step - loss: 0.0220\n",
      "Epoch 32/100\n",
      "37/37 [==============================] - 0s 1ms/step - loss: 0.0212\n",
      "Epoch 33/100\n",
      "37/37 [==============================] - 0s 1ms/step - loss: 0.0204\n",
      "Epoch 34/100\n",
      "37/37 [==============================] - 0s 1ms/step - loss: 0.0193\n",
      "Epoch 35/100\n",
      "37/37 [==============================] - 0s 1ms/step - loss: 0.0186\n",
      "Epoch 36/100\n",
      "37/37 [==============================] - 0s 1ms/step - loss: 0.0169\n",
      "Epoch 37/100\n",
      "37/37 [==============================] - 0s 1ms/step - loss: 0.0170\n",
      "Epoch 38/100\n",
      "37/37 [==============================] - 0s 1ms/step - loss: 0.0158\n",
      "Epoch 39/100\n",
      "37/37 [==============================] - 0s 1ms/step - loss: 0.0138\n",
      "Epoch 40/100\n",
      "37/37 [==============================] - 0s 1ms/step - loss: 0.0147\n",
      "Epoch 41/100\n",
      "37/37 [==============================] - 0s 1ms/step - loss: 0.0149\n",
      "Epoch 42/100\n",
      "37/37 [==============================] - 0s 1ms/step - loss: 0.0214\n",
      "Epoch 43/100\n",
      "37/37 [==============================] - 0s 1ms/step - loss: 0.0641\n",
      "Epoch 44/100\n",
      "37/37 [==============================] - 0s 1ms/step - loss: 0.0627\n",
      "Epoch 45/100\n",
      "37/37 [==============================] - 0s 1ms/step - loss: 0.0807\n",
      "Epoch 46/100\n",
      "37/37 [==============================] - 0s 1ms/step - loss: 0.0181\n",
      "Epoch 47/100\n",
      "37/37 [==============================] - 0s 1ms/step - loss: 0.0123\n",
      "Epoch 48/100\n",
      "37/37 [==============================] - 0s 1ms/step - loss: 0.0116\n",
      "Epoch 49/100\n",
      "37/37 [==============================] - 0s 1ms/step - loss: 0.0095\n",
      "Epoch 50/100\n",
      "37/37 [==============================] - 0s 1ms/step - loss: 0.0089\n",
      "Epoch 51/100\n",
      "37/37 [==============================] - 0s 1ms/step - loss: 0.0084\n",
      "Epoch 52/100\n",
      "37/37 [==============================] - 0s 1ms/step - loss: 0.0071\n",
      "Epoch 53/100\n",
      "37/37 [==============================] - 0s 1ms/step - loss: 0.0070\n",
      "Epoch 54/100\n",
      "37/37 [==============================] - 0s 1ms/step - loss: 0.0108\n",
      "Epoch 55/100\n",
      "37/37 [==============================] - 0s 1ms/step - loss: 0.0088\n",
      "Epoch 56/100\n",
      "37/37 [==============================] - 0s 1ms/step - loss: 0.0109\n",
      "Epoch 57/100\n",
      "37/37 [==============================] - 0s 1ms/step - loss: 0.0068\n",
      "Epoch 58/100\n",
      "37/37 [==============================] - 0s 1ms/step - loss: 0.0070\n",
      "Epoch 59/100\n",
      "37/37 [==============================] - 0s 1ms/step - loss: 0.0077\n",
      "Epoch 60/100\n",
      "37/37 [==============================] - 0s 1ms/step - loss: 0.0099\n",
      "Epoch 61/100\n",
      "37/37 [==============================] - 0s 1ms/step - loss: 0.0082\n",
      "Epoch 62/100\n",
      "37/37 [==============================] - 0s 1ms/step - loss: 0.0059\n",
      "Epoch 63/100\n",
      "37/37 [==============================] - 0s 2ms/step - loss: 0.0066\n",
      "Epoch 64/100\n",
      "37/37 [==============================] - 0s 1ms/step - loss: 0.0059\n",
      "Epoch 65/100\n",
      "37/37 [==============================] - 0s 1ms/step - loss: 0.0075\n",
      "Epoch 66/100\n",
      "37/37 [==============================] - 0s 1ms/step - loss: 0.0082\n",
      "Epoch 67/100\n",
      "37/37 [==============================] - 0s 1ms/step - loss: 0.0073\n",
      "Epoch 68/100\n",
      "37/37 [==============================] - 0s 1ms/step - loss: 0.0110\n",
      "Epoch 69/100\n",
      "37/37 [==============================] - 0s 1ms/step - loss: 0.0105\n",
      "Epoch 70/100\n",
      "37/37 [==============================] - 0s 2ms/step - loss: 0.0205\n",
      "Epoch 71/100\n",
      "37/37 [==============================] - 0s 1ms/step - loss: 0.0369\n",
      "Epoch 72/100\n",
      "37/37 [==============================] - 0s 1ms/step - loss: 0.0157\n",
      "Epoch 73/100\n",
      "37/37 [==============================] - 0s 1ms/step - loss: 0.0123\n",
      "Epoch 74/100\n",
      "37/37 [==============================] - 0s 1ms/step - loss: 0.0147\n",
      "Epoch 75/100\n",
      "37/37 [==============================] - 0s 1ms/step - loss: 0.0184\n",
      "Epoch 76/100\n",
      "37/37 [==============================] - 0s 1ms/step - loss: 0.0444\n",
      "Epoch 77/100\n",
      "37/37 [==============================] - 0s 1ms/step - loss: 0.0441\n",
      "Epoch 78/100\n",
      "37/37 [==============================] - 0s 1ms/step - loss: 0.0141\n",
      "Epoch 79/100\n",
      "37/37 [==============================] - 0s 1ms/step - loss: 0.0099\n",
      "Epoch 80/100\n",
      "37/37 [==============================] - 0s 1ms/step - loss: 0.0066\n",
      "Epoch 81/100\n",
      "37/37 [==============================] - 0s 1ms/step - loss: 0.0062\n",
      "Epoch 82/100\n",
      "37/37 [==============================] - 0s 1ms/step - loss: 0.0061\n",
      "Epoch 83/100\n",
      "37/37 [==============================] - 0s 1ms/step - loss: 0.0050\n",
      "Epoch 84/100\n",
      "37/37 [==============================] - 0s 1ms/step - loss: 0.0045\n",
      "Epoch 85/100\n",
      "37/37 [==============================] - 0s 1ms/step - loss: 0.0047\n",
      "Epoch 86/100\n",
      "37/37 [==============================] - 0s 1ms/step - loss: 0.0069\n",
      "Epoch 87/100\n",
      "37/37 [==============================] - 0s 1ms/step - loss: 0.0079\n",
      "Epoch 88/100\n",
      "37/37 [==============================] - 0s 1ms/step - loss: 0.0080\n",
      "Epoch 89/100\n",
      "37/37 [==============================] - 0s 1ms/step - loss: 0.0070\n",
      "Epoch 90/100\n",
      "37/37 [==============================] - 0s 1ms/step - loss: 0.0103\n",
      "Epoch 91/100\n",
      "37/37 [==============================] - 0s 1ms/step - loss: 0.0077\n",
      "Epoch 92/100\n",
      "37/37 [==============================] - 0s 1ms/step - loss: 0.0129\n",
      "Epoch 93/100\n",
      "37/37 [==============================] - 0s 1ms/step - loss: 0.0154\n",
      "Epoch 94/100\n",
      "37/37 [==============================] - 0s 1ms/step - loss: 0.0174\n",
      "Epoch 95/100\n",
      "37/37 [==============================] - 0s 1ms/step - loss: 0.0199\n",
      "Epoch 96/100\n",
      "37/37 [==============================] - 0s 1ms/step - loss: 0.0174\n",
      "Epoch 97/100\n",
      "37/37 [==============================] - 0s 1ms/step - loss: 0.0181\n",
      "Epoch 98/100\n",
      "37/37 [==============================] - 0s 1ms/step - loss: 0.0165\n",
      "Epoch 99/100\n",
      "37/37 [==============================] - 0s 1ms/step - loss: 0.0220\n",
      "Epoch 100/100\n",
      "37/37 [==============================] - 0s 1ms/step - loss: 0.0144\n"
     ]
    },
    {
     "data": {
      "text/plain": [
       "<keras.callbacks.History at 0x211aceb6f40>"
      ]
     },
     "execution_count": 38,
     "metadata": {},
     "output_type": "execute_result"
    }
   ],
   "source": [
    "model_tf.fit(x_train, y_train, epochs=100)"
   ]
  },
  {
   "cell_type": "code",
   "execution_count": 39,
   "id": "ad889807",
   "metadata": {},
   "outputs": [
    {
     "name": "stdout",
     "output_type": "stream",
     "text": [
      "10/10 [==============================] - 0s 1ms/step - loss: 0.0000e+00\n",
      "0.0\n"
     ]
    }
   ],
   "source": [
    "print(model_tf.evaluate(x_test))"
   ]
  },
  {
   "cell_type": "code",
   "execution_count": 40,
   "id": "1d9650ea",
   "metadata": {},
   "outputs": [
    {
     "data": {
      "text/plain": [
       "0.09125452208305083"
      ]
     },
     "execution_count": 40,
     "metadata": {},
     "output_type": "execute_result"
    }
   ],
   "source": [
    "np.sqrt(mean_squared_error(y_train, model_tf.predict(x_train)))"
   ]
  },
  {
   "cell_type": "code",
   "execution_count": 41,
   "id": "8be66b4f",
   "metadata": {},
   "outputs": [
    {
     "data": {
      "text/plain": [
       "0.4039702513089567"
      ]
     },
     "execution_count": 41,
     "metadata": {},
     "output_type": "execute_result"
    }
   ],
   "source": [
    "np.sqrt(mean_squared_error(y_test, model_tf.predict(x_test)))"
   ]
  },
  {
   "cell_type": "markdown",
   "id": "2c73e523",
   "metadata": {},
   "source": [
    "<p>The noraml neural network clearly getting overfit. So we can handle this problem with these solution below</p>"
   ]
  },
  {
   "cell_type": "markdown",
   "id": "2482b15e",
   "metadata": {},
   "source": [
    "<h3>Neural networks with regulizers and dropout</h3>"
   ]
  },
  {
   "cell_type": "code",
   "execution_count": 42,
   "id": "72b08e14",
   "metadata": {},
   "outputs": [
    {
     "name": "stdout",
     "output_type": "stream",
     "text": [
      "Model: \"sequential_1\"\n",
      "_________________________________________________________________\n",
      "Layer (type)                 Output Shape              Param #   \n",
      "=================================================================\n",
      "dense_4 (Dense)              (None, 100)               29600     \n",
      "_________________________________________________________________\n",
      "dropout (Dropout)            (None, 100)               0         \n",
      "_________________________________________________________________\n",
      "dense_5 (Dense)              (None, 20)                2020      \n",
      "_________________________________________________________________\n",
      "dense_6 (Dense)              (None, 10)                210       \n",
      "_________________________________________________________________\n",
      "dense_7 (Dense)              (None, 1)                 11        \n",
      "=================================================================\n",
      "Total params: 31,841\n",
      "Trainable params: 31,841\n",
      "Non-trainable params: 0\n",
      "_________________________________________________________________\n"
     ]
    }
   ],
   "source": [
    "# with dropout\n",
    "model_tf_drop = keras.Sequential([\n",
    "    keras.layers.Dense(100, input_shape=(x_train.shape[1],), activation='relu'),\n",
    "    keras.layers.Dropout(0.1),\n",
    "    keras.layers.Dense(20, activation='relu'),\n",
    "    keras.layers.Dense(10, activation='relu'),\n",
    "    keras.layers.Dense(1)\n",
    "])\n",
    "\n",
    "model_tf_drop.compile(\n",
    "    optimizer='adam',\n",
    "    loss = 'mean_squared_error'\n",
    ")\n",
    "\n",
    "model_tf_drop.summary()"
   ]
  },
  {
   "cell_type": "code",
   "execution_count": 43,
   "id": "976d8408",
   "metadata": {},
   "outputs": [
    {
     "name": "stdout",
     "output_type": "stream",
     "text": [
      "Epoch 1/100\n",
      "37/37 [==============================] - 1s 1ms/step - loss: 75.9091\n",
      "Epoch 2/100\n",
      "37/37 [==============================] - 0s 1ms/step - loss: 5.0237\n",
      "Epoch 3/100\n",
      "37/37 [==============================] - 0s 1ms/step - loss: 1.5173\n",
      "Epoch 4/100\n",
      "37/37 [==============================] - 0s 1ms/step - loss: 1.0782\n",
      "Epoch 5/100\n",
      "37/37 [==============================] - 0s 1ms/step - loss: 0.9601\n",
      "Epoch 6/100\n",
      "37/37 [==============================] - 0s 1ms/step - loss: 0.8774\n",
      "Epoch 7/100\n",
      "37/37 [==============================] - 0s 1ms/step - loss: 0.8214\n",
      "Epoch 8/100\n",
      "37/37 [==============================] - 0s 1ms/step - loss: 0.7547\n",
      "Epoch 9/100\n",
      "37/37 [==============================] - 0s 1ms/step - loss: 0.6601\n",
      "Epoch 10/100\n",
      "37/37 [==============================] - 0s 1ms/step - loss: 0.6867\n",
      "Epoch 11/100\n",
      "37/37 [==============================] - 0s 1ms/step - loss: 0.6572\n",
      "Epoch 12/100\n",
      "37/37 [==============================] - 0s 1ms/step - loss: 0.6684\n",
      "Epoch 13/100\n",
      "37/37 [==============================] - 0s 1ms/step - loss: 0.7012\n",
      "Epoch 14/100\n",
      "37/37 [==============================] - 0s 1ms/step - loss: 0.6078\n",
      "Epoch 15/100\n",
      "37/37 [==============================] - 0s 1ms/step - loss: 0.5728\n",
      "Epoch 16/100\n",
      "37/37 [==============================] - 0s 1ms/step - loss: 0.5422\n",
      "Epoch 17/100\n",
      "37/37 [==============================] - 0s 1ms/step - loss: 0.5338\n",
      "Epoch 18/100\n",
      "37/37 [==============================] - 0s 2ms/step - loss: 0.5774\n",
      "Epoch 19/100\n",
      "37/37 [==============================] - 0s 2ms/step - loss: 0.5343\n",
      "Epoch 20/100\n",
      "37/37 [==============================] - 0s 2ms/step - loss: 0.5354\n",
      "Epoch 21/100\n",
      "37/37 [==============================] - 0s 2ms/step - loss: 0.4992\n",
      "Epoch 22/100\n",
      "37/37 [==============================] - 0s 1ms/step - loss: 0.4996\n",
      "Epoch 23/100\n",
      "37/37 [==============================] - 0s 1ms/step - loss: 0.4793\n",
      "Epoch 24/100\n",
      "37/37 [==============================] - 0s 1ms/step - loss: 0.5101\n",
      "Epoch 25/100\n",
      "37/37 [==============================] - 0s 1ms/step - loss: 0.4860\n",
      "Epoch 26/100\n",
      "37/37 [==============================] - 0s 1ms/step - loss: 0.4764\n",
      "Epoch 27/100\n",
      "37/37 [==============================] - 0s 1ms/step - loss: 0.4234\n",
      "Epoch 28/100\n",
      "37/37 [==============================] - 0s 1ms/step - loss: 0.4511\n",
      "Epoch 29/100\n",
      "37/37 [==============================] - 0s 2ms/step - loss: 0.4377\n",
      "Epoch 30/100\n",
      "37/37 [==============================] - 0s 1ms/step - loss: 0.4736\n",
      "Epoch 31/100\n",
      "37/37 [==============================] - 0s 1ms/step - loss: 0.4320\n",
      "Epoch 32/100\n",
      "37/37 [==============================] - 0s 1ms/step - loss: 0.4336\n",
      "Epoch 33/100\n",
      "37/37 [==============================] - 0s 1ms/step - loss: 0.4117\n",
      "Epoch 34/100\n",
      "37/37 [==============================] - 0s 2ms/step - loss: 0.3852\n",
      "Epoch 35/100\n",
      "37/37 [==============================] - 0s 2ms/step - loss: 0.4223\n",
      "Epoch 36/100\n",
      "37/37 [==============================] - 0s 2ms/step - loss: 0.3943\n",
      "Epoch 37/100\n",
      "37/37 [==============================] - 0s 2ms/step - loss: 0.3811\n",
      "Epoch 38/100\n",
      "37/37 [==============================] - 0s 1ms/step - loss: 0.3916\n",
      "Epoch 39/100\n",
      "37/37 [==============================] - 0s 1ms/step - loss: 0.3719\n",
      "Epoch 40/100\n",
      "37/37 [==============================] - 0s 2ms/step - loss: 0.3469\n",
      "Epoch 41/100\n",
      "37/37 [==============================] - 0s 1ms/step - loss: 0.3825\n",
      "Epoch 42/100\n",
      "37/37 [==============================] - 0s 2ms/step - loss: 0.3445\n",
      "Epoch 43/100\n",
      "37/37 [==============================] - 0s 1ms/step - loss: 0.3815\n",
      "Epoch 44/100\n",
      "37/37 [==============================] - 0s 2ms/step - loss: 0.3328\n",
      "Epoch 45/100\n",
      "37/37 [==============================] - 0s 2ms/step - loss: 0.3654\n",
      "Epoch 46/100\n",
      "37/37 [==============================] - 0s 2ms/step - loss: 0.3545\n",
      "Epoch 47/100\n",
      "37/37 [==============================] - 0s 1ms/step - loss: 0.3562\n",
      "Epoch 48/100\n",
      "37/37 [==============================] - 0s 1ms/step - loss: 0.3152\n",
      "Epoch 49/100\n",
      "37/37 [==============================] - 0s 1ms/step - loss: 0.3687\n",
      "Epoch 50/100\n",
      "37/37 [==============================] - 0s 1ms/step - loss: 0.3075\n",
      "Epoch 51/100\n",
      "37/37 [==============================] - 0s 1ms/step - loss: 0.3224\n",
      "Epoch 52/100\n",
      "37/37 [==============================] - 0s 1ms/step - loss: 0.3331\n",
      "Epoch 53/100\n",
      "37/37 [==============================] - 0s 1ms/step - loss: 0.3249\n",
      "Epoch 54/100\n",
      "37/37 [==============================] - 0s 1ms/step - loss: 0.3200\n",
      "Epoch 55/100\n",
      "37/37 [==============================] - 0s 1ms/step - loss: 0.3427\n",
      "Epoch 56/100\n",
      "37/37 [==============================] - 0s 1ms/step - loss: 0.3047\n",
      "Epoch 57/100\n",
      "37/37 [==============================] - 0s 1ms/step - loss: 0.3294\n",
      "Epoch 58/100\n",
      "37/37 [==============================] - 0s 2ms/step - loss: 0.2956\n",
      "Epoch 59/100\n",
      "37/37 [==============================] - 0s 2ms/step - loss: 0.3238\n",
      "Epoch 60/100\n",
      "37/37 [==============================] - 0s 1ms/step - loss: 0.3412\n",
      "Epoch 61/100\n",
      "37/37 [==============================] - 0s 2ms/step - loss: 0.3134\n",
      "Epoch 62/100\n",
      "37/37 [==============================] - 0s 2ms/step - loss: 0.3020\n",
      "Epoch 63/100\n",
      "37/37 [==============================] - 0s 1ms/step - loss: 0.3021\n",
      "Epoch 64/100\n",
      "37/37 [==============================] - 0s 1ms/step - loss: 0.3187\n",
      "Epoch 65/100\n",
      "37/37 [==============================] - 0s 1ms/step - loss: 0.2850\n",
      "Epoch 66/100\n",
      "37/37 [==============================] - 0s 1ms/step - loss: 0.2661\n",
      "Epoch 67/100\n",
      "37/37 [==============================] - 0s 1ms/step - loss: 0.2809\n",
      "Epoch 68/100\n",
      "37/37 [==============================] - 0s 1ms/step - loss: 0.2858\n",
      "Epoch 69/100\n",
      "37/37 [==============================] - 0s 2ms/step - loss: 0.2850\n",
      "Epoch 70/100\n",
      "37/37 [==============================] - 0s 2ms/step - loss: 0.2848\n",
      "Epoch 71/100\n",
      "37/37 [==============================] - 0s 2ms/step - loss: 0.2883\n",
      "Epoch 72/100\n",
      "37/37 [==============================] - 0s 2ms/step - loss: 0.2740\n",
      "Epoch 73/100\n",
      "37/37 [==============================] - 0s 2ms/step - loss: 0.2826\n",
      "Epoch 74/100\n",
      "37/37 [==============================] - 0s 2ms/step - loss: 0.2637\n",
      "Epoch 75/100\n",
      "37/37 [==============================] - 0s 2ms/step - loss: 0.3059\n",
      "Epoch 76/100\n",
      "37/37 [==============================] - 0s 2ms/step - loss: 0.2891\n",
      "Epoch 77/100\n",
      "37/37 [==============================] - 0s 1ms/step - loss: 0.2733\n",
      "Epoch 78/100\n",
      "37/37 [==============================] - 0s 1ms/step - loss: 0.2619\n",
      "Epoch 79/100\n",
      "37/37 [==============================] - 0s 1ms/step - loss: 0.2582\n",
      "Epoch 80/100\n",
      "37/37 [==============================] - 0s 1ms/step - loss: 0.2568\n",
      "Epoch 81/100\n",
      "37/37 [==============================] - 0s 2ms/step - loss: 0.2447\n",
      "Epoch 82/100\n",
      "37/37 [==============================] - 0s 1ms/step - loss: 0.2759\n",
      "Epoch 83/100\n",
      "37/37 [==============================] - 0s 2ms/step - loss: 0.2386\n",
      "Epoch 84/100\n",
      "37/37 [==============================] - 0s 1ms/step - loss: 0.2448\n",
      "Epoch 85/100\n",
      "37/37 [==============================] - 0s 1ms/step - loss: 0.2504\n",
      "Epoch 86/100\n",
      "37/37 [==============================] - 0s 1ms/step - loss: 0.2699\n",
      "Epoch 87/100\n",
      "37/37 [==============================] - 0s 1ms/step - loss: 0.2768\n",
      "Epoch 88/100\n",
      "37/37 [==============================] - 0s 1ms/step - loss: 0.2534\n",
      "Epoch 89/100\n",
      "37/37 [==============================] - 0s 1ms/step - loss: 0.2661\n",
      "Epoch 90/100\n",
      "37/37 [==============================] - 0s 2ms/step - loss: 0.2435\n",
      "Epoch 91/100\n",
      "37/37 [==============================] - 0s 1ms/step - loss: 0.2597\n",
      "Epoch 92/100\n",
      "37/37 [==============================] - 0s 2ms/step - loss: 0.2639\n",
      "Epoch 93/100\n",
      "37/37 [==============================] - 0s 2ms/step - loss: 0.2391\n",
      "Epoch 94/100\n",
      "37/37 [==============================] - 0s 2ms/step - loss: 0.2582\n",
      "Epoch 95/100\n",
      "37/37 [==============================] - 0s 2ms/step - loss: 0.2517\n",
      "Epoch 96/100\n",
      "37/37 [==============================] - 0s 2ms/step - loss: 0.2714\n",
      "Epoch 97/100\n",
      "37/37 [==============================] - 0s 2ms/step - loss: 0.2455\n",
      "Epoch 98/100\n",
      "37/37 [==============================] - 0s 1ms/step - loss: 0.2290\n",
      "Epoch 99/100\n",
      "37/37 [==============================] - 0s 1ms/step - loss: 0.2375\n",
      "Epoch 100/100\n",
      "37/37 [==============================] - 0s 2ms/step - loss: 0.2454\n"
     ]
    },
    {
     "data": {
      "text/plain": [
       "<keras.callbacks.History at 0x211afc749d0>"
      ]
     },
     "execution_count": 43,
     "metadata": {},
     "output_type": "execute_result"
    }
   ],
   "source": [
    "model_tf_drop.fit(x_train, y_train, epochs=100)"
   ]
  },
  {
   "cell_type": "code",
   "execution_count": 44,
   "id": "17ae5cd4",
   "metadata": {},
   "outputs": [
    {
     "data": {
      "text/plain": [
       "0.3021871223770796"
      ]
     },
     "execution_count": 44,
     "metadata": {},
     "output_type": "execute_result"
    }
   ],
   "source": [
    "np.sqrt(mean_squared_error(y_train, model_tf_drop.predict(x_train)))"
   ]
  },
  {
   "cell_type": "code",
   "execution_count": 45,
   "id": "bc214789",
   "metadata": {},
   "outputs": [
    {
     "data": {
      "text/plain": [
       "0.40043017139413956"
      ]
     },
     "execution_count": 45,
     "metadata": {},
     "output_type": "execute_result"
    }
   ],
   "source": [
    "np.sqrt(mean_squared_error(y_test, model_tf_drop.predict(x_test)))"
   ]
  },
  {
   "cell_type": "markdown",
   "id": "bb3446e0",
   "metadata": {},
   "source": [
    "<p>We can say that dropout is not performing very bad. Lets try regulizers</p>"
   ]
  },
  {
   "cell_type": "code",
   "execution_count": 46,
   "id": "1ae4e631",
   "metadata": {},
   "outputs": [
    {
     "name": "stdout",
     "output_type": "stream",
     "text": [
      "Model: \"sequential_2\"\n",
      "_________________________________________________________________\n",
      "Layer (type)                 Output Shape              Param #   \n",
      "=================================================================\n",
      "dense_8 (Dense)              (None, 100)               29600     \n",
      "_________________________________________________________________\n",
      "dense_9 (Dense)              (None, 20)                2020      \n",
      "_________________________________________________________________\n",
      "dense_10 (Dense)             (None, 10)                210       \n",
      "_________________________________________________________________\n",
      "dense_11 (Dense)             (None, 1)                 11        \n",
      "=================================================================\n",
      "Total params: 31,841\n",
      "Trainable params: 31,841\n",
      "Non-trainable params: 0\n",
      "_________________________________________________________________\n"
     ]
    }
   ],
   "source": [
    "# l2 regularizer\n",
    "model_tf_reg2 = keras.Sequential([\n",
    "    keras.layers.Dense(100, input_shape=(x_train.shape[1],), activation='relu', kernel_regularizer='l2'),\n",
    "    keras.layers.Dense(20, activation='relu', kernel_regularizer='l2'),\n",
    "    keras.layers.Dense(10, activation='relu'),\n",
    "    keras.layers.Dense(1)\n",
    "])\n",
    "\n",
    "model_tf_reg2.compile(\n",
    "    optimizer='adam',\n",
    "    loss = 'mean_squared_error'\n",
    ")\n",
    "\n",
    "model_tf_reg2.summary()"
   ]
  },
  {
   "cell_type": "code",
   "execution_count": 47,
   "id": "7b0bb64e",
   "metadata": {},
   "outputs": [
    {
     "name": "stdout",
     "output_type": "stream",
     "text": [
      "Epoch 1/120\n",
      "37/37 [==============================] - 1s 1ms/step - loss: 44.6613\n",
      "Epoch 2/120\n",
      "37/37 [==============================] - 0s 1ms/step - loss: 4.3479\n",
      "Epoch 3/120\n",
      "37/37 [==============================] - 0s 1ms/step - loss: 2.4434\n",
      "Epoch 4/120\n",
      "37/37 [==============================] - 0s 1ms/step - loss: 2.0606\n",
      "Epoch 5/120\n",
      "37/37 [==============================] - 0s 1ms/step - loss: 1.8650\n",
      "Epoch 6/120\n",
      "37/37 [==============================] - 0s 1ms/step - loss: 1.7367\n",
      "Epoch 7/120\n",
      "37/37 [==============================] - 0s 1ms/step - loss: 1.6518\n",
      "Epoch 8/120\n",
      "37/37 [==============================] - 0s 1ms/step - loss: 1.5599\n",
      "Epoch 9/120\n",
      "37/37 [==============================] - 0s 1ms/step - loss: 1.4929\n",
      "Epoch 10/120\n",
      "37/37 [==============================] - 0s 1ms/step - loss: 1.4274\n",
      "Epoch 11/120\n",
      "37/37 [==============================] - 0s 1ms/step - loss: 1.3762\n",
      "Epoch 12/120\n",
      "37/37 [==============================] - 0s 1ms/step - loss: 1.3229\n",
      "Epoch 13/120\n",
      "37/37 [==============================] - 0s 1ms/step - loss: 1.2705\n",
      "Epoch 14/120\n",
      "37/37 [==============================] - 0s 1ms/step - loss: 1.2268\n",
      "Epoch 15/120\n",
      "37/37 [==============================] - 0s 1ms/step - loss: 1.1851\n",
      "Epoch 16/120\n",
      "37/37 [==============================] - 0s 1ms/step - loss: 1.1488\n",
      "Epoch 17/120\n",
      "37/37 [==============================] - 0s 1ms/step - loss: 1.1114\n",
      "Epoch 18/120\n",
      "37/37 [==============================] - 0s 1ms/step - loss: 1.0759\n",
      "Epoch 19/120\n",
      "37/37 [==============================] - 0s 1ms/step - loss: 1.0426\n",
      "Epoch 20/120\n",
      "37/37 [==============================] - 0s 1ms/step - loss: 1.0101\n",
      "Epoch 21/120\n",
      "37/37 [==============================] - 0s 1ms/step - loss: 0.9848\n",
      "Epoch 22/120\n",
      "37/37 [==============================] - 0s 1ms/step - loss: 0.9594\n",
      "Epoch 23/120\n",
      "37/37 [==============================] - 0s 1ms/step - loss: 0.9489\n",
      "Epoch 24/120\n",
      "37/37 [==============================] - 0s 1ms/step - loss: 0.9089\n",
      "Epoch 25/120\n",
      "37/37 [==============================] - 0s 1ms/step - loss: 0.8891\n",
      "Epoch 26/120\n",
      "37/37 [==============================] - 0s 1ms/step - loss: 0.8546\n",
      "Epoch 27/120\n",
      "37/37 [==============================] - 0s 1ms/step - loss: 0.8276\n",
      "Epoch 28/120\n",
      "37/37 [==============================] - 0s 1ms/step - loss: 0.8054\n",
      "Epoch 29/120\n",
      "37/37 [==============================] - 0s 1ms/step - loss: 0.7812\n",
      "Epoch 30/120\n",
      "37/37 [==============================] - 0s 1ms/step - loss: 0.7597\n",
      "Epoch 31/120\n",
      "37/37 [==============================] - 0s 1ms/step - loss: 0.7359\n",
      "Epoch 32/120\n",
      "37/37 [==============================] - 0s 1ms/step - loss: 0.7194\n",
      "Epoch 33/120\n",
      "37/37 [==============================] - 0s 1ms/step - loss: 0.7056\n",
      "Epoch 34/120\n",
      "37/37 [==============================] - 0s 2ms/step - loss: 0.6926\n",
      "Epoch 35/120\n",
      "37/37 [==============================] - 0s 1ms/step - loss: 0.6698\n",
      "Epoch 36/120\n",
      "37/37 [==============================] - 0s 1ms/step - loss: 0.6481\n",
      "Epoch 37/120\n",
      "37/37 [==============================] - 0s 1ms/step - loss: 0.6304\n",
      "Epoch 38/120\n",
      "37/37 [==============================] - 0s 1ms/step - loss: 0.6110\n",
      "Epoch 39/120\n",
      "37/37 [==============================] - 0s 1ms/step - loss: 0.5915\n",
      "Epoch 40/120\n",
      "37/37 [==============================] - 0s 2ms/step - loss: 0.5796\n",
      "Epoch 41/120\n",
      "37/37 [==============================] - 0s 2ms/step - loss: 0.5704\n",
      "Epoch 42/120\n",
      "37/37 [==============================] - 0s 2ms/step - loss: 0.5675\n",
      "Epoch 43/120\n",
      "37/37 [==============================] - 0s 1ms/step - loss: 0.5453\n",
      "Epoch 44/120\n",
      "37/37 [==============================] - 0s 1ms/step - loss: 0.5367\n",
      "Epoch 45/120\n",
      "37/37 [==============================] - 0s 1ms/step - loss: 0.5164\n",
      "Epoch 46/120\n",
      "37/37 [==============================] - 0s 2ms/step - loss: 0.5053\n",
      "Epoch 47/120\n",
      "37/37 [==============================] - 0s 1ms/step - loss: 0.4977\n",
      "Epoch 48/120\n",
      "37/37 [==============================] - 0s 1ms/step - loss: 0.5127\n",
      "Epoch 49/120\n",
      "37/37 [==============================] - 0s 1ms/step - loss: 0.4836\n",
      "Epoch 50/120\n",
      "37/37 [==============================] - 0s 1ms/step - loss: 0.4725\n",
      "Epoch 51/120\n",
      "37/37 [==============================] - 0s 1ms/step - loss: 0.4537\n",
      "Epoch 52/120\n",
      "37/37 [==============================] - 0s 1ms/step - loss: 0.4482\n",
      "Epoch 53/120\n",
      "37/37 [==============================] - 0s 1ms/step - loss: 0.4321\n",
      "Epoch 54/120\n",
      "37/37 [==============================] - 0s 1ms/step - loss: 0.4233\n",
      "Epoch 55/120\n",
      "37/37 [==============================] - 0s 1ms/step - loss: 0.4067\n",
      "Epoch 56/120\n",
      "37/37 [==============================] - 0s 1ms/step - loss: 0.3972\n",
      "Epoch 57/120\n",
      "37/37 [==============================] - 0s 1ms/step - loss: 0.3941\n",
      "Epoch 58/120\n",
      "37/37 [==============================] - 0s 1ms/step - loss: 0.3898\n",
      "Epoch 59/120\n",
      "37/37 [==============================] - 0s 1ms/step - loss: 0.3936\n",
      "Epoch 60/120\n",
      "37/37 [==============================] - 0s 1ms/step - loss: 0.3668\n",
      "Epoch 61/120\n",
      "37/37 [==============================] - 0s 2ms/step - loss: 0.3471\n",
      "Epoch 62/120\n",
      "37/37 [==============================] - 0s 1ms/step - loss: 0.3437\n",
      "Epoch 63/120\n",
      "37/37 [==============================] - 0s 1ms/step - loss: 0.3337\n",
      "Epoch 64/120\n",
      "37/37 [==============================] - 0s 1ms/step - loss: 0.3282\n",
      "Epoch 65/120\n",
      "37/37 [==============================] - 0s 1ms/step - loss: 0.3240\n",
      "Epoch 66/120\n",
      "37/37 [==============================] - 0s 1ms/step - loss: 0.3273\n",
      "Epoch 67/120\n",
      "37/37 [==============================] - 0s 1ms/step - loss: 0.3176\n",
      "Epoch 68/120\n",
      "37/37 [==============================] - 0s 1ms/step - loss: 0.3200\n",
      "Epoch 69/120\n",
      "37/37 [==============================] - 0s 1ms/step - loss: 0.3418\n",
      "Epoch 70/120\n",
      "37/37 [==============================] - 0s 1ms/step - loss: 0.3363\n",
      "Epoch 71/120\n",
      "37/37 [==============================] - 0s 1ms/step - loss: 0.3196\n",
      "Epoch 72/120\n",
      "37/37 [==============================] - 0s 1ms/step - loss: 0.3137\n",
      "Epoch 73/120\n",
      "37/37 [==============================] - 0s 2ms/step - loss: 0.3040\n",
      "Epoch 74/120\n",
      "37/37 [==============================] - 0s 1ms/step - loss: 0.2977\n",
      "Epoch 75/120\n",
      "37/37 [==============================] - 0s 1ms/step - loss: 0.2708\n",
      "Epoch 76/120\n",
      "37/37 [==============================] - 0s 2ms/step - loss: 0.2691\n",
      "Epoch 77/120\n",
      "37/37 [==============================] - 0s 1ms/step - loss: 0.2554\n",
      "Epoch 78/120\n",
      "37/37 [==============================] - 0s 1ms/step - loss: 0.2444\n",
      "Epoch 79/120\n",
      "37/37 [==============================] - 0s 1ms/step - loss: 0.2450\n",
      "Epoch 80/120\n",
      "37/37 [==============================] - 0s 2ms/step - loss: 0.2451\n",
      "Epoch 81/120\n",
      "37/37 [==============================] - 0s 1ms/step - loss: 0.2393\n",
      "Epoch 82/120\n",
      "37/37 [==============================] - 0s 1ms/step - loss: 0.2412\n",
      "Epoch 83/120\n",
      "37/37 [==============================] - 0s 1ms/step - loss: 0.2350\n",
      "Epoch 84/120\n",
      "37/37 [==============================] - 0s 1ms/step - loss: 0.2278\n",
      "Epoch 85/120\n",
      "37/37 [==============================] - 0s 1ms/step - loss: 0.2718\n",
      "Epoch 86/120\n",
      "37/37 [==============================] - 0s 1ms/step - loss: 0.2575\n",
      "Epoch 87/120\n",
      "37/37 [==============================] - 0s 1ms/step - loss: 0.3045\n",
      "Epoch 88/120\n",
      "37/37 [==============================] - 0s 1ms/step - loss: 0.2488\n",
      "Epoch 89/120\n",
      "37/37 [==============================] - 0s 1ms/step - loss: 0.2337\n",
      "Epoch 90/120\n",
      "37/37 [==============================] - 0s 1ms/step - loss: 0.2246\n",
      "Epoch 91/120\n",
      "37/37 [==============================] - 0s 1ms/step - loss: 0.2227\n",
      "Epoch 92/120\n",
      "37/37 [==============================] - 0s 1ms/step - loss: 0.2209\n",
      "Epoch 93/120\n",
      "37/37 [==============================] - 0s 1ms/step - loss: 0.2136\n",
      "Epoch 94/120\n",
      "37/37 [==============================] - 0s 1ms/step - loss: 0.2033\n",
      "Epoch 95/120\n",
      "37/37 [==============================] - 0s 1ms/step - loss: 0.1897\n",
      "Epoch 96/120\n",
      "37/37 [==============================] - 0s 1ms/step - loss: 0.1896\n",
      "Epoch 97/120\n",
      "37/37 [==============================] - 0s 1ms/step - loss: 0.1820\n",
      "Epoch 98/120\n",
      "37/37 [==============================] - 0s 1ms/step - loss: 0.1725\n",
      "Epoch 99/120\n",
      "37/37 [==============================] - 0s 1ms/step - loss: 0.1776\n",
      "Epoch 100/120\n",
      "37/37 [==============================] - 0s 1ms/step - loss: 0.2010\n",
      "Epoch 101/120\n",
      "37/37 [==============================] - 0s 1ms/step - loss: 0.1872\n",
      "Epoch 102/120\n"
     ]
    },
    {
     "name": "stdout",
     "output_type": "stream",
     "text": [
      "37/37 [==============================] - 0s 1ms/step - loss: 0.1951\n",
      "Epoch 103/120\n",
      "37/37 [==============================] - 0s 1ms/step - loss: 0.2844\n",
      "Epoch 104/120\n",
      "37/37 [==============================] - 0s 1ms/step - loss: 0.2407\n",
      "Epoch 105/120\n",
      "37/37 [==============================] - 0s 1ms/step - loss: 0.1978\n",
      "Epoch 106/120\n",
      "37/37 [==============================] - 0s 1ms/step - loss: 0.1764\n",
      "Epoch 107/120\n",
      "37/37 [==============================] - 0s 1ms/step - loss: 0.1695\n",
      "Epoch 108/120\n",
      "37/37 [==============================] - 0s 1ms/step - loss: 0.1521\n",
      "Epoch 109/120\n",
      "37/37 [==============================] - 0s 1ms/step - loss: 0.1591\n",
      "Epoch 110/120\n",
      "37/37 [==============================] - 0s 1ms/step - loss: 0.1571\n",
      "Epoch 111/120\n",
      "37/37 [==============================] - 0s 1ms/step - loss: 0.1454\n",
      "Epoch 112/120\n",
      "37/37 [==============================] - 0s 1ms/step - loss: 0.1359\n",
      "Epoch 113/120\n",
      "37/37 [==============================] - 0s 1ms/step - loss: 0.1345\n",
      "Epoch 114/120\n",
      "37/37 [==============================] - 0s 1ms/step - loss: 0.1416\n",
      "Epoch 115/120\n",
      "37/37 [==============================] - 0s 1ms/step - loss: 0.1307\n",
      "Epoch 116/120\n",
      "37/37 [==============================] - 0s 1ms/step - loss: 0.1261\n",
      "Epoch 117/120\n",
      "37/37 [==============================] - 0s 1ms/step - loss: 0.1297\n",
      "Epoch 118/120\n",
      "37/37 [==============================] - 0s 1ms/step - loss: 0.1348\n",
      "Epoch 119/120\n",
      "37/37 [==============================] - 0s 1ms/step - loss: 0.1407\n",
      "Epoch 120/120\n",
      "37/37 [==============================] - 0s 1ms/step - loss: 0.1391\n"
     ]
    },
    {
     "data": {
      "text/plain": [
       "<keras.callbacks.History at 0x211b02c2e50>"
      ]
     },
     "execution_count": 47,
     "metadata": {},
     "output_type": "execute_result"
    }
   ],
   "source": [
    "model_tf_reg2.fit(x_train, y_train, epochs=120)"
   ]
  },
  {
   "cell_type": "code",
   "execution_count": 48,
   "id": "19c2bf00",
   "metadata": {},
   "outputs": [
    {
     "data": {
      "text/plain": [
       "0.20349997753334484"
      ]
     },
     "execution_count": 48,
     "metadata": {},
     "output_type": "execute_result"
    }
   ],
   "source": [
    "np.sqrt(mean_squared_error(y_train, model_tf_reg2.predict(x_train)))"
   ]
  },
  {
   "cell_type": "code",
   "execution_count": 49,
   "id": "200e1028",
   "metadata": {},
   "outputs": [
    {
     "data": {
      "text/plain": [
       "0.2760859559014037"
      ]
     },
     "execution_count": 49,
     "metadata": {},
     "output_type": "execute_result"
    }
   ],
   "source": [
    "np.sqrt(mean_squared_error(y_test, model_tf_reg2.predict(x_test)))"
   ]
  },
  {
   "cell_type": "markdown",
   "id": "fafcbed5",
   "metadata": {},
   "source": [
    "<p>L2 regulization is not performing very good either</p>"
   ]
  },
  {
   "cell_type": "code",
   "execution_count": 50,
   "id": "f8559316",
   "metadata": {},
   "outputs": [
    {
     "name": "stdout",
     "output_type": "stream",
     "text": [
      "Model: \"sequential_3\"\n",
      "_________________________________________________________________\n",
      "Layer (type)                 Output Shape              Param #   \n",
      "=================================================================\n",
      "dense_12 (Dense)             (None, 200)               59200     \n",
      "_________________________________________________________________\n",
      "dense_13 (Dense)             (None, 20)                4020      \n",
      "_________________________________________________________________\n",
      "dense_14 (Dense)             (None, 20)                420       \n",
      "_________________________________________________________________\n",
      "dense_15 (Dense)             (None, 1)                 21        \n",
      "=================================================================\n",
      "Total params: 63,661\n",
      "Trainable params: 63,661\n",
      "Non-trainable params: 0\n",
      "_________________________________________________________________\n"
     ]
    }
   ],
   "source": [
    "# l1 regularizer\n",
    "model_tf_reg1 = keras.Sequential([\n",
    "    keras.layers.Dense(200, input_shape=(x_train.shape[1],), activation='relu', kernel_regularizer='l1'),\n",
    "    keras.layers.Dense(20, activation='relu', kernel_regularizer='l1'),\n",
    "    keras.layers.Dense(20, activation='relu'),\n",
    "    keras.layers.Dense(1)\n",
    "])\n",
    "\n",
    "model_tf_reg1.compile(\n",
    "    optimizer='adam',\n",
    "    loss = 'mean_squared_error'\n",
    ")\n",
    "\n",
    "model_tf_reg1.summary()"
   ]
  },
  {
   "cell_type": "code",
   "execution_count": 51,
   "id": "5d13b74f",
   "metadata": {},
   "outputs": [
    {
     "name": "stdout",
     "output_type": "stream",
     "text": [
      "Epoch 1/120\n",
      "37/37 [==============================] - 1s 2ms/step - loss: 101.2709\n",
      "Epoch 2/120\n",
      "37/37 [==============================] - 0s 2ms/step - loss: 30.8748\n",
      "Epoch 3/120\n",
      "37/37 [==============================] - 0s 1ms/step - loss: 22.9220\n",
      "Epoch 4/120\n",
      "37/37 [==============================] - 0s 2ms/step - loss: 19.0347\n",
      "Epoch 5/120\n",
      "37/37 [==============================] - 0s 2ms/step - loss: 16.2700\n",
      "Epoch 6/120\n",
      "37/37 [==============================] - 0s 1ms/step - loss: 14.0806\n",
      "Epoch 7/120\n",
      "37/37 [==============================] - 0s 2ms/step - loss: 12.2290\n",
      "Epoch 8/120\n",
      "37/37 [==============================] - 0s 2ms/step - loss: 10.6464\n",
      "Epoch 9/120\n",
      "37/37 [==============================] - 0s 1ms/step - loss: 9.2275\n",
      "Epoch 10/120\n",
      "37/37 [==============================] - 0s 1ms/step - loss: 8.0113\n",
      "Epoch 11/120\n",
      "37/37 [==============================] - 0s 2ms/step - loss: 7.0116\n",
      "Epoch 12/120\n",
      "37/37 [==============================] - 0s 2ms/step - loss: 6.1319\n",
      "Epoch 13/120\n",
      "37/37 [==============================] - 0s 1ms/step - loss: 5.4777\n",
      "Epoch 14/120\n",
      "37/37 [==============================] - 0s 1ms/step - loss: 4.8677\n",
      "Epoch 15/120\n",
      "37/37 [==============================] - 0s 1ms/step - loss: 4.4101\n",
      "Epoch 16/120\n",
      "37/37 [==============================] - 0s 1ms/step - loss: 3.9929\n",
      "Epoch 17/120\n",
      "37/37 [==============================] - 0s 1ms/step - loss: 3.5545\n",
      "Epoch 18/120\n",
      "37/37 [==============================] - 0s 2ms/step - loss: 3.2414\n",
      "Epoch 19/120\n",
      "37/37 [==============================] - 0s 1ms/step - loss: 2.9464\n",
      "Epoch 20/120\n",
      "37/37 [==============================] - 0s 1ms/step - loss: 2.7468\n",
      "Epoch 21/120\n",
      "37/37 [==============================] - 0s 2ms/step - loss: 2.5781\n",
      "Epoch 22/120\n",
      "37/37 [==============================] - 0s 1ms/step - loss: 2.4770\n",
      "Epoch 23/120\n",
      "37/37 [==============================] - 0s 2ms/step - loss: 2.2502\n",
      "Epoch 24/120\n",
      "37/37 [==============================] - 0s 2ms/step - loss: 2.0545\n",
      "Epoch 25/120\n",
      "37/37 [==============================] - 0s 1ms/step - loss: 1.9144\n",
      "Epoch 26/120\n",
      "37/37 [==============================] - 0s 1ms/step - loss: 1.8086\n",
      "Epoch 27/120\n",
      "37/37 [==============================] - 0s 1ms/step - loss: 1.7210\n",
      "Epoch 28/120\n",
      "37/37 [==============================] - 0s 2ms/step - loss: 1.6347\n",
      "Epoch 29/120\n",
      "37/37 [==============================] - 0s 2ms/step - loss: 1.5913\n",
      "Epoch 30/120\n",
      "37/37 [==============================] - 0s 2ms/step - loss: 1.5851\n",
      "Epoch 31/120\n",
      "37/37 [==============================] - 0s 1ms/step - loss: 1.5234\n",
      "Epoch 32/120\n",
      "37/37 [==============================] - 0s 1ms/step - loss: 1.4880\n",
      "Epoch 33/120\n",
      "37/37 [==============================] - 0s 1ms/step - loss: 1.3334\n",
      "Epoch 34/120\n",
      "37/37 [==============================] - 0s 2ms/step - loss: 1.1944\n",
      "Epoch 35/120\n",
      "37/37 [==============================] - 0s 2ms/step - loss: 1.1459\n",
      "Epoch 36/120\n",
      "37/37 [==============================] - 0s 1ms/step - loss: 1.1754\n",
      "Epoch 37/120\n",
      "37/37 [==============================] - 0s 2ms/step - loss: 1.0090\n",
      "Epoch 38/120\n",
      "37/37 [==============================] - 0s 1ms/step - loss: 0.9658\n",
      "Epoch 39/120\n",
      "37/37 [==============================] - 0s 1ms/step - loss: 0.9222\n",
      "Epoch 40/120\n",
      "37/37 [==============================] - 0s 2ms/step - loss: 1.5448\n",
      "Epoch 41/120\n",
      "37/37 [==============================] - 0s 2ms/step - loss: 1.1324\n",
      "Epoch 42/120\n",
      "37/37 [==============================] - 0s 2ms/step - loss: 0.9020\n",
      "Epoch 43/120\n",
      "37/37 [==============================] - 0s 2ms/step - loss: 0.8688\n",
      "Epoch 44/120\n",
      "37/37 [==============================] - 0s 2ms/step - loss: 0.7946\n",
      "Epoch 45/120\n",
      "37/37 [==============================] - 0s 2ms/step - loss: 0.7583\n",
      "Epoch 46/120\n",
      "37/37 [==============================] - 0s 2ms/step - loss: 0.7189\n",
      "Epoch 47/120\n",
      "37/37 [==============================] - 0s 2ms/step - loss: 0.6855\n",
      "Epoch 48/120\n",
      "37/37 [==============================] - 0s 2ms/step - loss: 0.6859\n",
      "Epoch 49/120\n",
      "37/37 [==============================] - 0s 2ms/step - loss: 0.6438\n",
      "Epoch 50/120\n",
      "37/37 [==============================] - 0s 2ms/step - loss: 0.6382\n",
      "Epoch 51/120\n",
      "37/37 [==============================] - 0s 2ms/step - loss: 0.5964\n",
      "Epoch 52/120\n",
      "37/37 [==============================] - 0s 2ms/step - loss: 0.5796\n",
      "Epoch 53/120\n",
      "37/37 [==============================] - 0s 1ms/step - loss: 0.5795\n",
      "Epoch 54/120\n",
      "37/37 [==============================] - 0s 2ms/step - loss: 0.5527\n",
      "Epoch 55/120\n",
      "37/37 [==============================] - 0s 2ms/step - loss: 0.5486\n",
      "Epoch 56/120\n",
      "37/37 [==============================] - 0s 1ms/step - loss: 0.5312\n",
      "Epoch 57/120\n",
      "37/37 [==============================] - 0s 1ms/step - loss: 0.5221\n",
      "Epoch 58/120\n",
      "37/37 [==============================] - 0s 1ms/step - loss: 0.4937\n",
      "Epoch 59/120\n",
      "37/37 [==============================] - 0s 1ms/step - loss: 0.6005\n",
      "Epoch 60/120\n",
      "37/37 [==============================] - 0s 1ms/step - loss: 0.5375\n",
      "Epoch 61/120\n",
      "37/37 [==============================] - 0s 1ms/step - loss: 0.4889\n",
      "Epoch 62/120\n",
      "37/37 [==============================] - 0s 2ms/step - loss: 0.4498\n",
      "Epoch 63/120\n",
      "37/37 [==============================] - 0s 2ms/step - loss: 0.4291\n",
      "Epoch 64/120\n",
      "37/37 [==============================] - 0s 1ms/step - loss: 0.4269\n",
      "Epoch 65/120\n",
      "37/37 [==============================] - 0s 2ms/step - loss: 0.4153\n",
      "Epoch 66/120\n",
      "37/37 [==============================] - 0s 1ms/step - loss: 0.4059\n",
      "Epoch 67/120\n",
      "37/37 [==============================] - 0s 1ms/step - loss: 0.3857\n",
      "Epoch 68/120\n",
      "37/37 [==============================] - 0s 1ms/step - loss: 0.3805\n",
      "Epoch 69/120\n",
      "37/37 [==============================] - 0s 1ms/step - loss: 0.3946\n",
      "Epoch 70/120\n",
      "37/37 [==============================] - 0s 2ms/step - loss: 0.3734\n",
      "Epoch 71/120\n",
      "37/37 [==============================] - 0s 1ms/step - loss: 0.3487\n",
      "Epoch 72/120\n",
      "37/37 [==============================] - 0s 1ms/step - loss: 0.3475\n",
      "Epoch 73/120\n",
      "37/37 [==============================] - 0s 1ms/step - loss: 0.3408\n",
      "Epoch 74/120\n",
      "37/37 [==============================] - 0s 1ms/step - loss: 0.3440\n",
      "Epoch 75/120\n",
      "37/37 [==============================] - 0s 2ms/step - loss: 0.3242\n",
      "Epoch 76/120\n",
      "37/37 [==============================] - 0s 1ms/step - loss: 0.3200\n",
      "Epoch 77/120\n",
      "37/37 [==============================] - 0s 2ms/step - loss: 0.3133\n",
      "Epoch 78/120\n",
      "37/37 [==============================] - 0s 2ms/step - loss: 0.3079\n",
      "Epoch 79/120\n",
      "37/37 [==============================] - 0s 1ms/step - loss: 0.3333\n",
      "Epoch 80/120\n",
      "37/37 [==============================] - 0s 1ms/step - loss: 0.3105\n",
      "Epoch 81/120\n",
      "37/37 [==============================] - 0s 1ms/step - loss: 0.3024\n",
      "Epoch 82/120\n",
      "37/37 [==============================] - 0s 2ms/step - loss: 0.2758\n",
      "Epoch 83/120\n",
      "37/37 [==============================] - 0s 1ms/step - loss: 0.2620\n",
      "Epoch 84/120\n",
      "37/37 [==============================] - 0s 2ms/step - loss: 0.3919\n",
      "Epoch 85/120\n",
      "37/37 [==============================] - 0s 1ms/step - loss: 0.3029\n",
      "Epoch 86/120\n",
      "37/37 [==============================] - 0s 1ms/step - loss: 0.2608\n",
      "Epoch 87/120\n",
      "37/37 [==============================] - 0s 1ms/step - loss: 0.2404\n",
      "Epoch 88/120\n",
      "37/37 [==============================] - 0s 1ms/step - loss: 0.2366\n",
      "Epoch 89/120\n",
      "37/37 [==============================] - 0s 1ms/step - loss: 0.2328\n",
      "Epoch 90/120\n",
      "37/37 [==============================] - 0s 1ms/step - loss: 0.2336\n",
      "Epoch 91/120\n",
      "37/37 [==============================] - 0s 1ms/step - loss: 0.2322\n",
      "Epoch 92/120\n",
      "37/37 [==============================] - 0s 1ms/step - loss: 0.2208\n",
      "Epoch 93/120\n",
      "37/37 [==============================] - 0s 2ms/step - loss: 0.2105\n",
      "Epoch 94/120\n",
      "37/37 [==============================] - 0s 2ms/step - loss: 0.2004\n",
      "Epoch 95/120\n",
      "37/37 [==============================] - 0s 2ms/step - loss: 0.1997\n",
      "Epoch 96/120\n",
      "37/37 [==============================] - 0s 1ms/step - loss: 0.1959\n",
      "Epoch 97/120\n",
      "37/37 [==============================] - 0s 1ms/step - loss: 0.1938\n",
      "Epoch 98/120\n",
      "37/37 [==============================] - 0s 2ms/step - loss: 0.1876\n",
      "Epoch 99/120\n",
      "37/37 [==============================] - 0s 2ms/step - loss: 0.1847\n",
      "Epoch 100/120\n",
      "37/37 [==============================] - 0s 1ms/step - loss: 0.1835\n",
      "Epoch 101/120\n",
      "37/37 [==============================] - 0s 2ms/step - loss: 0.1803\n",
      "Epoch 102/120\n"
     ]
    },
    {
     "name": "stdout",
     "output_type": "stream",
     "text": [
      "37/37 [==============================] - 0s 2ms/step - loss: 0.1722\n",
      "Epoch 103/120\n",
      "37/37 [==============================] - 0s 1ms/step - loss: 0.1725\n",
      "Epoch 104/120\n",
      "37/37 [==============================] - 0s 2ms/step - loss: 0.1784\n",
      "Epoch 105/120\n",
      "37/37 [==============================] - 0s 2ms/step - loss: 0.1620\n",
      "Epoch 106/120\n",
      "37/37 [==============================] - 0s 1ms/step - loss: 0.1565\n",
      "Epoch 107/120\n",
      "37/37 [==============================] - 0s 2ms/step - loss: 0.1568\n",
      "Epoch 108/120\n",
      "37/37 [==============================] - 0s 2ms/step - loss: 0.1537\n",
      "Epoch 109/120\n",
      "37/37 [==============================] - 0s 2ms/step - loss: 0.1507\n",
      "Epoch 110/120\n",
      "37/37 [==============================] - 0s 2ms/step - loss: 0.1512\n",
      "Epoch 111/120\n",
      "37/37 [==============================] - 0s 2ms/step - loss: 0.1496\n",
      "Epoch 112/120\n",
      "37/37 [==============================] - 0s 2ms/step - loss: 0.1444\n",
      "Epoch 113/120\n",
      "37/37 [==============================] - 0s 1ms/step - loss: 0.1525\n",
      "Epoch 114/120\n",
      "37/37 [==============================] - 0s 2ms/step - loss: 0.1544\n",
      "Epoch 115/120\n",
      "37/37 [==============================] - 0s 1ms/step - loss: 0.1434\n",
      "Epoch 116/120\n",
      "37/37 [==============================] - 0s 1ms/step - loss: 0.1365\n",
      "Epoch 117/120\n",
      "37/37 [==============================] - 0s 1ms/step - loss: 0.1378\n",
      "Epoch 118/120\n",
      "37/37 [==============================] - 0s 1ms/step - loss: 0.1392\n",
      "Epoch 119/120\n",
      "37/37 [==============================] - 0s 1ms/step - loss: 0.1333\n",
      "Epoch 120/120\n",
      "37/37 [==============================] - 0s 1ms/step - loss: 0.1285\n"
     ]
    },
    {
     "data": {
      "text/plain": [
       "<keras.callbacks.History at 0x211ad684490>"
      ]
     },
     "execution_count": 51,
     "metadata": {},
     "output_type": "execute_result"
    }
   ],
   "source": [
    "model_tf_reg1.fit(x_train, y_train, epochs=120)"
   ]
  },
  {
   "cell_type": "code",
   "execution_count": 52,
   "id": "49576b67",
   "metadata": {},
   "outputs": [
    {
     "data": {
      "text/plain": [
       "0.1448347311216461"
      ]
     },
     "execution_count": 52,
     "metadata": {},
     "output_type": "execute_result"
    }
   ],
   "source": [
    "np.sqrt(mean_squared_error(y_train, model_tf_reg1.predict(x_train)))"
   ]
  },
  {
   "cell_type": "code",
   "execution_count": 53,
   "id": "d4e8e256",
   "metadata": {},
   "outputs": [
    {
     "data": {
      "text/plain": [
       "0.14214266643979334"
      ]
     },
     "execution_count": 53,
     "metadata": {},
     "output_type": "execute_result"
    }
   ],
   "source": [
    "np.sqrt(mean_squared_error(y_test, model_tf_reg1.predict(x_test)))"
   ]
  },
  {
   "cell_type": "code",
   "execution_count": 54,
   "id": "33ca17d4",
   "metadata": {},
   "outputs": [
    {
     "name": "stdout",
     "output_type": "stream",
     "text": [
      "Model: \"sequential_4\"\n",
      "_________________________________________________________________\n",
      "Layer (type)                 Output Shape              Param #   \n",
      "=================================================================\n",
      "dense_16 (Dense)             (None, 200)               59200     \n",
      "_________________________________________________________________\n",
      "dense_17 (Dense)             (None, 20)                4020      \n",
      "_________________________________________________________________\n",
      "dense_18 (Dense)             (None, 20)                420       \n",
      "_________________________________________________________________\n",
      "dense_19 (Dense)             (None, 1)                 21        \n",
      "=================================================================\n",
      "Total params: 63,661\n",
      "Trainable params: 63,661\n",
      "Non-trainable params: 0\n",
      "_________________________________________________________________\n"
     ]
    }
   ],
   "source": [
    "# l1 and l2 regularizer\n",
    "model_tf_reg12 = keras.Sequential([\n",
    "    keras.layers.Dense(200, input_shape=(x_train.shape[1],), activation='relu', kernel_regularizer='l1_l2'),\n",
    "    keras.layers.Dense(20, activation='relu', kernel_regularizer='l1_l2'),\n",
    "    keras.layers.Dense(20, kernel_regularizer='l1_l2'),\n",
    "    keras.layers.Dense(1)\n",
    "])\n",
    "\n",
    "model_tf_reg12.compile(\n",
    "    optimizer='adam',\n",
    "    loss = 'mean_squared_error'\n",
    ")\n",
    "\n",
    "model_tf_reg12.summary()"
   ]
  },
  {
   "cell_type": "code",
   "execution_count": 55,
   "id": "0ea2030c",
   "metadata": {},
   "outputs": [
    {
     "name": "stdout",
     "output_type": "stream",
     "text": [
      "Epoch 1/150\n",
      "37/37 [==============================] - 1s 2ms/step - loss: 70.0227\n",
      "Epoch 2/150\n",
      "37/37 [==============================] - 0s 2ms/step - loss: 31.3758\n",
      "Epoch 3/150\n",
      "37/37 [==============================] - 0s 2ms/step - loss: 25.1152\n",
      "Epoch 4/150\n",
      "37/37 [==============================] - 0s 2ms/step - loss: 21.1408\n",
      "Epoch 5/150\n",
      "37/37 [==============================] - 0s 2ms/step - loss: 18.3393\n",
      "Epoch 6/150\n",
      "37/37 [==============================] - 0s 2ms/step - loss: 16.0824\n",
      "Epoch 7/150\n",
      "37/37 [==============================] - 0s 2ms/step - loss: 14.2102\n",
      "Epoch 8/150\n",
      "37/37 [==============================] - 0s 2ms/step - loss: 12.5747\n",
      "Epoch 9/150\n",
      "37/37 [==============================] - 0s 2ms/step - loss: 11.1775\n",
      "Epoch 10/150\n",
      "37/37 [==============================] - 0s 2ms/step - loss: 9.9448\n",
      "Epoch 11/150\n",
      "37/37 [==============================] - 0s 2ms/step - loss: 8.9194\n",
      "Epoch 12/150\n",
      "37/37 [==============================] - 0s 2ms/step - loss: 8.0786\n",
      "Epoch 13/150\n",
      "37/37 [==============================] - 0s 2ms/step - loss: 7.3450\n",
      "Epoch 14/150\n",
      "37/37 [==============================] - 0s 2ms/step - loss: 6.6504\n",
      "Epoch 15/150\n",
      "37/37 [==============================] - 0s 2ms/step - loss: 6.0848\n",
      "Epoch 16/150\n",
      "37/37 [==============================] - 0s 2ms/step - loss: 5.5450\n",
      "Epoch 17/150\n",
      "37/37 [==============================] - 0s 2ms/step - loss: 5.1801\n",
      "Epoch 18/150\n",
      "37/37 [==============================] - 0s 2ms/step - loss: 4.7762\n",
      "Epoch 19/150\n",
      "37/37 [==============================] - 0s 2ms/step - loss: 4.3802\n",
      "Epoch 20/150\n",
      "37/37 [==============================] - 0s 2ms/step - loss: 4.0865\n",
      "Epoch 21/150\n",
      "37/37 [==============================] - 0s 2ms/step - loss: 3.8000\n",
      "Epoch 22/150\n",
      "37/37 [==============================] - 0s 2ms/step - loss: 3.7803\n",
      "Epoch 23/150\n",
      "37/37 [==============================] - 0s 2ms/step - loss: 3.6468\n",
      "Epoch 24/150\n",
      "37/37 [==============================] - 0s 2ms/step - loss: 3.2632\n",
      "Epoch 25/150\n",
      "37/37 [==============================] - 0s 2ms/step - loss: 3.0659\n",
      "Epoch 26/150\n",
      "37/37 [==============================] - 0s 2ms/step - loss: 2.9156\n",
      "Epoch 27/150\n",
      "37/37 [==============================] - 0s 2ms/step - loss: 2.7431\n",
      "Epoch 28/150\n",
      "37/37 [==============================] - 0s 1ms/step - loss: 2.6914\n",
      "Epoch 29/150\n",
      "37/37 [==============================] - 0s 2ms/step - loss: 2.5758\n",
      "Epoch 30/150\n",
      "37/37 [==============================] - 0s 2ms/step - loss: 2.3155\n",
      "Epoch 31/150\n",
      "37/37 [==============================] - 0s 2ms/step - loss: 2.2152\n",
      "Epoch 32/150\n",
      "37/37 [==============================] - 0s 2ms/step - loss: 2.1047\n",
      "Epoch 33/150\n",
      "37/37 [==============================] - 0s 2ms/step - loss: 2.1227\n",
      "Epoch 34/150\n",
      "37/37 [==============================] - 0s 2ms/step - loss: 2.0882\n",
      "Epoch 35/150\n",
      "37/37 [==============================] - 0s 2ms/step - loss: 2.3059\n",
      "Epoch 36/150\n",
      "37/37 [==============================] - 0s 2ms/step - loss: 1.9301\n",
      "Epoch 37/150\n",
      "37/37 [==============================] - 0s 2ms/step - loss: 1.8137\n",
      "Epoch 38/150\n",
      "37/37 [==============================] - 0s 2ms/step - loss: 1.7271\n",
      "Epoch 39/150\n",
      "37/37 [==============================] - 0s 2ms/step - loss: 1.6510\n",
      "Epoch 40/150\n",
      "37/37 [==============================] - 0s 2ms/step - loss: 1.6191\n",
      "Epoch 41/150\n",
      "37/37 [==============================] - 0s 2ms/step - loss: 1.5649\n",
      "Epoch 42/150\n",
      "37/37 [==============================] - 0s 2ms/step - loss: 1.5079\n",
      "Epoch 43/150\n",
      "37/37 [==============================] - 0s 2ms/step - loss: 1.4655\n",
      "Epoch 44/150\n",
      "37/37 [==============================] - 0s 2ms/step - loss: 1.3923\n",
      "Epoch 45/150\n",
      "37/37 [==============================] - 0s 2ms/step - loss: 1.3698\n",
      "Epoch 46/150\n",
      "37/37 [==============================] - 0s 2ms/step - loss: 1.3203\n",
      "Epoch 47/150\n",
      "37/37 [==============================] - 0s 2ms/step - loss: 1.2798\n",
      "Epoch 48/150\n",
      "37/37 [==============================] - 0s 2ms/step - loss: 1.2973\n",
      "Epoch 49/150\n",
      "37/37 [==============================] - 0s 2ms/step - loss: 1.2237\n",
      "Epoch 50/150\n",
      "37/37 [==============================] - 0s 2ms/step - loss: 1.2229\n",
      "Epoch 51/150\n",
      "37/37 [==============================] - 0s 2ms/step - loss: 1.1526\n",
      "Epoch 52/150\n",
      "37/37 [==============================] - 0s 2ms/step - loss: 1.1067\n",
      "Epoch 53/150\n",
      "37/37 [==============================] - 0s 2ms/step - loss: 1.0965\n",
      "Epoch 54/150\n",
      "37/37 [==============================] - 0s 1ms/step - loss: 1.0816\n",
      "Epoch 55/150\n",
      "37/37 [==============================] - 0s 2ms/step - loss: 1.0255\n",
      "Epoch 56/150\n",
      "37/37 [==============================] - 0s 1ms/step - loss: 1.0232\n",
      "Epoch 57/150\n",
      "37/37 [==============================] - 0s 1ms/step - loss: 0.9884\n",
      "Epoch 58/150\n",
      "37/37 [==============================] - 0s 2ms/step - loss: 1.0147\n",
      "Epoch 59/150\n",
      "37/37 [==============================] - 0s 2ms/step - loss: 1.1054\n",
      "Epoch 60/150\n",
      "37/37 [==============================] - 0s 2ms/step - loss: 1.1544\n",
      "Epoch 61/150\n",
      "37/37 [==============================] - 0s 2ms/step - loss: 1.0831\n",
      "Epoch 62/150\n",
      "37/37 [==============================] - 0s 2ms/step - loss: 0.9681\n",
      "Epoch 63/150\n",
      "37/37 [==============================] - 0s 2ms/step - loss: 0.8739\n",
      "Epoch 64/150\n",
      "37/37 [==============================] - 0s 2ms/step - loss: 0.8507\n",
      "Epoch 65/150\n",
      "37/37 [==============================] - 0s 1ms/step - loss: 0.8247\n",
      "Epoch 66/150\n",
      "37/37 [==============================] - 0s 2ms/step - loss: 0.8061\n",
      "Epoch 67/150\n",
      "37/37 [==============================] - 0s 1ms/step - loss: 0.8577\n",
      "Epoch 68/150\n",
      "37/37 [==============================] - 0s 1ms/step - loss: 0.8428\n",
      "Epoch 69/150\n",
      "37/37 [==============================] - 0s 2ms/step - loss: 0.7555\n",
      "Epoch 70/150\n",
      "37/37 [==============================] - 0s 2ms/step - loss: 0.7421\n",
      "Epoch 71/150\n",
      "37/37 [==============================] - 0s 2ms/step - loss: 0.7426\n",
      "Epoch 72/150\n",
      "37/37 [==============================] - 0s 2ms/step - loss: 0.7126\n",
      "Epoch 73/150\n",
      "37/37 [==============================] - 0s 2ms/step - loss: 0.6996\n",
      "Epoch 74/150\n",
      "37/37 [==============================] - 0s 2ms/step - loss: 0.6871\n",
      "Epoch 75/150\n",
      "37/37 [==============================] - 0s 2ms/step - loss: 0.6744\n",
      "Epoch 76/150\n",
      "37/37 [==============================] - 0s 1ms/step - loss: 0.6600\n",
      "Epoch 77/150\n",
      "37/37 [==============================] - 0s 2ms/step - loss: 0.6525\n",
      "Epoch 78/150\n",
      "37/37 [==============================] - 0s 2ms/step - loss: 0.6323\n",
      "Epoch 79/150\n",
      "37/37 [==============================] - 0s 2ms/step - loss: 0.6279\n",
      "Epoch 80/150\n",
      "37/37 [==============================] - 0s 2ms/step - loss: 0.6205\n",
      "Epoch 81/150\n",
      "37/37 [==============================] - 0s 2ms/step - loss: 0.6096\n",
      "Epoch 82/150\n",
      "37/37 [==============================] - 0s 2ms/step - loss: 0.5928\n",
      "Epoch 83/150\n",
      "37/37 [==============================] - 0s 2ms/step - loss: 0.5884\n",
      "Epoch 84/150\n",
      "37/37 [==============================] - 0s 2ms/step - loss: 0.5822\n",
      "Epoch 85/150\n",
      "37/37 [==============================] - 0s 1ms/step - loss: 0.5635\n",
      "Epoch 86/150\n",
      "37/37 [==============================] - 0s 2ms/step - loss: 0.5564\n",
      "Epoch 87/150\n",
      "37/37 [==============================] - 0s 1ms/step - loss: 0.5654\n",
      "Epoch 88/150\n",
      "37/37 [==============================] - 0s 2ms/step - loss: 0.5404\n",
      "Epoch 89/150\n",
      "37/37 [==============================] - 0s 1ms/step - loss: 0.5267\n",
      "Epoch 90/150\n",
      "37/37 [==============================] - 0s 2ms/step - loss: 0.5204\n",
      "Epoch 91/150\n",
      "37/37 [==============================] - 0s 2ms/step - loss: 0.5151\n",
      "Epoch 92/150\n",
      "37/37 [==============================] - 0s 2ms/step - loss: 0.5140\n",
      "Epoch 93/150\n",
      "37/37 [==============================] - 0s 2ms/step - loss: 0.4933\n",
      "Epoch 94/150\n",
      "37/37 [==============================] - 0s 2ms/step - loss: 0.4928\n",
      "Epoch 95/150\n",
      "37/37 [==============================] - 0s 2ms/step - loss: 0.4800\n",
      "Epoch 96/150\n",
      "37/37 [==============================] - 0s 2ms/step - loss: 0.4738\n",
      "Epoch 97/150\n",
      "37/37 [==============================] - 0s 2ms/step - loss: 0.4667\n",
      "Epoch 98/150\n",
      "37/37 [==============================] - 0s 2ms/step - loss: 0.4557\n",
      "Epoch 99/150\n",
      "37/37 [==============================] - 0s 1ms/step - loss: 0.4519\n",
      "Epoch 100/150\n",
      "37/37 [==============================] - 0s 1ms/step - loss: 0.4431\n",
      "Epoch 101/150\n",
      "37/37 [==============================] - 0s 1ms/step - loss: 0.4457\n",
      "Epoch 102/150\n"
     ]
    },
    {
     "name": "stdout",
     "output_type": "stream",
     "text": [
      "37/37 [==============================] - 0s 2ms/step - loss: 0.4272\n",
      "Epoch 103/150\n",
      "37/37 [==============================] - 0s 2ms/step - loss: 0.4330\n",
      "Epoch 104/150\n",
      "37/37 [==============================] - 0s 2ms/step - loss: 0.4682\n",
      "Epoch 105/150\n",
      "37/37 [==============================] - 0s 2ms/step - loss: 0.4234\n",
      "Epoch 106/150\n",
      "37/37 [==============================] - 0s 1ms/step - loss: 0.4143\n",
      "Epoch 107/150\n",
      "37/37 [==============================] - 0s 2ms/step - loss: 0.3957\n",
      "Epoch 108/150\n",
      "37/37 [==============================] - 0s 2ms/step - loss: 0.3909\n",
      "Epoch 109/150\n",
      "37/37 [==============================] - 0s 2ms/step - loss: 0.3807\n",
      "Epoch 110/150\n",
      "37/37 [==============================] - 0s 2ms/step - loss: 0.3759\n",
      "Epoch 111/150\n",
      "37/37 [==============================] - 0s 2ms/step - loss: 0.3764\n",
      "Epoch 112/150\n",
      "37/37 [==============================] - 0s 2ms/step - loss: 0.3789\n",
      "Epoch 113/150\n",
      "37/37 [==============================] - 0s 2ms/step - loss: 0.3726\n",
      "Epoch 114/150\n",
      "37/37 [==============================] - 0s 2ms/step - loss: 0.3686\n",
      "Epoch 115/150\n",
      "37/37 [==============================] - 0s 2ms/step - loss: 0.3554\n",
      "Epoch 116/150\n",
      "37/37 [==============================] - 0s 2ms/step - loss: 0.3460\n",
      "Epoch 117/150\n",
      "37/37 [==============================] - 0s 2ms/step - loss: 0.3431\n",
      "Epoch 118/150\n",
      "37/37 [==============================] - 0s 2ms/step - loss: 0.3373\n",
      "Epoch 119/150\n",
      "37/37 [==============================] - 0s 1ms/step - loss: 0.3391\n",
      "Epoch 120/150\n",
      "37/37 [==============================] - 0s 2ms/step - loss: 0.3305\n",
      "Epoch 121/150\n",
      "37/37 [==============================] - 0s 2ms/step - loss: 0.3326\n",
      "Epoch 122/150\n",
      "37/37 [==============================] - 0s 1ms/step - loss: 0.3315\n",
      "Epoch 123/150\n",
      "37/37 [==============================] - 0s 1ms/step - loss: 0.3193\n",
      "Epoch 124/150\n",
      "37/37 [==============================] - 0s 1ms/step - loss: 0.3084\n",
      "Epoch 125/150\n",
      "37/37 [==============================] - 0s 2ms/step - loss: 0.3183\n",
      "Epoch 126/150\n",
      "37/37 [==============================] - 0s 2ms/step - loss: 0.3091\n",
      "Epoch 127/150\n",
      "37/37 [==============================] - 0s 2ms/step - loss: 0.3023\n",
      "Epoch 128/150\n",
      "37/37 [==============================] - 0s 1ms/step - loss: 0.3019\n",
      "Epoch 129/150\n",
      "37/37 [==============================] - 0s 2ms/step - loss: 0.2983\n",
      "Epoch 130/150\n",
      "37/37 [==============================] - 0s 2ms/step - loss: 0.2976\n",
      "Epoch 131/150\n",
      "37/37 [==============================] - 0s 1ms/step - loss: 0.2898\n",
      "Epoch 132/150\n",
      "37/37 [==============================] - 0s 2ms/step - loss: 0.2795\n",
      "Epoch 133/150\n",
      "37/37 [==============================] - 0s 2ms/step - loss: 0.2868\n",
      "Epoch 134/150\n",
      "37/37 [==============================] - 0s 1ms/step - loss: 0.2777\n",
      "Epoch 135/150\n",
      "37/37 [==============================] - 0s 1ms/step - loss: 0.2718\n",
      "Epoch 136/150\n",
      "37/37 [==============================] - 0s 1ms/step - loss: 0.2732\n",
      "Epoch 137/150\n",
      "37/37 [==============================] - 0s 2ms/step - loss: 0.2682\n",
      "Epoch 138/150\n",
      "37/37 [==============================] - 0s 2ms/step - loss: 0.2635\n",
      "Epoch 139/150\n",
      "37/37 [==============================] - 0s 2ms/step - loss: 0.2581\n",
      "Epoch 140/150\n",
      "37/37 [==============================] - 0s 2ms/step - loss: 0.2556\n",
      "Epoch 141/150\n",
      "37/37 [==============================] - 0s 2ms/step - loss: 0.2531\n",
      "Epoch 142/150\n",
      "37/37 [==============================] - 0s 2ms/step - loss: 0.2541\n",
      "Epoch 143/150\n",
      "37/37 [==============================] - 0s 2ms/step - loss: 0.2483\n",
      "Epoch 144/150\n",
      "37/37 [==============================] - 0s 2ms/step - loss: 0.2478\n",
      "Epoch 145/150\n",
      "37/37 [==============================] - 0s 2ms/step - loss: 0.2476\n",
      "Epoch 146/150\n",
      "37/37 [==============================] - 0s 1ms/step - loss: 0.2504\n",
      "Epoch 147/150\n",
      "37/37 [==============================] - 0s 3ms/step - loss: 0.2460\n",
      "Epoch 148/150\n",
      "37/37 [==============================] - 0s 2ms/step - loss: 0.2396\n",
      "Epoch 149/150\n",
      "37/37 [==============================] - 0s 2ms/step - loss: 0.2346\n",
      "Epoch 150/150\n",
      "37/37 [==============================] - 0s 1ms/step - loss: 0.2379\n"
     ]
    },
    {
     "data": {
      "text/plain": [
       "<keras.callbacks.History at 0x211b0984610>"
      ]
     },
     "execution_count": 55,
     "metadata": {},
     "output_type": "execute_result"
    }
   ],
   "source": [
    "model_tf_reg12.fit(x_train, y_train, epochs=150)"
   ]
  },
  {
   "cell_type": "code",
   "execution_count": 56,
   "id": "8fa055b0",
   "metadata": {},
   "outputs": [
    {
     "data": {
      "text/plain": [
       "0.12556036691740638"
      ]
     },
     "execution_count": 56,
     "metadata": {},
     "output_type": "execute_result"
    }
   ],
   "source": [
    "np.sqrt(mean_squared_error(y_train, model_tf_reg12.predict(x_train)))"
   ]
  },
  {
   "cell_type": "code",
   "execution_count": 57,
   "id": "27aed403",
   "metadata": {},
   "outputs": [
    {
     "data": {
      "text/plain": [
       "0.11557857625256913"
      ]
     },
     "execution_count": 57,
     "metadata": {},
     "output_type": "execute_result"
    }
   ],
   "source": [
    "np.sqrt(mean_squared_error(y_test, model_tf_reg12.predict(x_test)))"
   ]
  },
  {
   "cell_type": "markdown",
   "id": "70e47f86",
   "metadata": {},
   "source": [
    "<p>This was by far the best score we were able to get with neural network regularization</p>"
   ]
  },
  {
   "cell_type": "markdown",
   "id": "62968670",
   "metadata": {},
   "source": [
    "<p>Now that we have made many models to predict our price value lets try to predict values and make them ready for submission<p>"
   ]
  },
  {
   "cell_type": "code",
   "execution_count": 58,
   "id": "c22d915b",
   "metadata": {},
   "outputs": [],
   "source": [
    "def inverse_exp(values):\n",
    "    return np.exp(values)"
   ]
  },
  {
   "cell_type": "code",
   "execution_count": 59,
   "id": "b084be8a",
   "metadata": {},
   "outputs": [],
   "source": [
    "lasso_pred = inverse_exp(lasso.predict(test))   # l1 regularization\n",
    "ridge_pred = inverse_exp(ridge.predict(test))   # l2 regularization\n",
    "elasticnet_pred = inverse_exp(elasticnet.predict(test))    # mix of l1 and l2 regularization\n",
    "\n",
    "xgb_pred = inverse_exp(model_xgb.predict(test))     # extreme gradient boosting\n",
    "\n",
    "model_tf_pred = inverse_exp(model_tf.predict(test)) # neural network without regularization\n",
    "model_tf_drop_pred = inverse_exp(model_tf_drop.predict(test)) # neural network with dropout layer\n",
    "model_tf_reg1_pred = inverse_exp(model_tf_reg1.predict(test)) # neural network with l1 or lasso regularization\n",
    "model_tf_reg2_pred = inverse_exp(model_tf_reg2.predict(test)) # neural network with l2 or ridge regularization\n",
    "model_tf_reg12_pred = inverse_exp(model_tf_reg12.predict(test).flatten()) #neural network with \n",
    "                                                                        #l1 and l2 regularization (elasticnet)"
   ]
  },
  {
   "cell_type": "code",
   "execution_count": 60,
   "id": "5063b1a5",
   "metadata": {},
   "outputs": [],
   "source": [
    "# mix prediction\n",
    "lasso_ridge_pred = lasso_pred * 0.5 + ridge_pred * 0.5\n",
    "elastic_lasso_pred = lasso_pred * 0.5 + elasticnet_pred * 0.5\n",
    "tf_reg12_lasso_pred = lasso_pred * 0.5 + model_tf_reg12_pred * 0.5"
   ]
  },
  {
   "cell_type": "code",
   "execution_count": 61,
   "id": "38f69867",
   "metadata": {},
   "outputs": [],
   "source": [
    "lasso_pred = pd.DataFrame(lasso_pred, columns=['SalePrice'])\n",
    "ridge_pred =  pd.DataFrame(lasso_pred, columns=['SalePrice'])\n",
    "elasticnet_pred = pd.DataFrame(elasticnet_pred, columns=['SalePrice'])\n",
    "xgb_pred = pd.DataFrame(xgb_pred, columns=['SalePrice'])\n",
    "\n",
    "model_tf_pred = pd.DataFrame(model_tf_pred, columns=['SalePrice'])\n",
    "model_tf_drop_pred = pd.DataFrame(model_tf_drop_pred, columns=['SalePrice'])\n",
    "model_tf_reg1_pred = pd.DataFrame(model_tf_reg1_pred, columns=['SalePrice'])\n",
    "model_tf_reg2_pred = pd.DataFrame(model_tf_reg2_pred, columns=['SalePrice'])\n",
    "model_tf_reg12_pred = pd.DataFrame(model_tf_reg12_pred, columns=['SalePrice'])\n",
    "lasso_ridge_pred = pd.DataFrame(lasso_ridge_pred, columns=['SalePrice'])\n",
    "elastic_lasso_pred = pd.DataFrame(elastic_lasso_pred, columns=['SalePrice'])\n",
    "tf_reg12_lasso_pred = pd.DataFrame(tf_reg12_lasso_pred, columns=['SalePrice'])"
   ]
  },
  {
   "cell_type": "code",
   "execution_count": 77,
   "id": "231eb44c",
   "metadata": {},
   "outputs": [
    {
     "data": {
      "text/plain": [
       "0    1461\n",
       "1    1462\n",
       "2    1463\n",
       "3    1464\n",
       "4    1465\n",
       "Name: Id, dtype: int64"
      ]
     },
     "execution_count": 77,
     "metadata": {},
     "output_type": "execute_result"
    }
   ],
   "source": [
    "test_id = pd.read_csv('./files/test.csv')['Id']\n",
    "test_id.head()"
   ]
  },
  {
   "cell_type": "code",
   "execution_count": 66,
   "id": "497a0437",
   "metadata": {},
   "outputs": [],
   "source": [
    "lasso_pred = pd.concat([test_id, lasso_pred], axis=1)\n",
    "ridge_pred = pd.concat([test_id, ridge_pred], axis=1)\n",
    "elasticnet_pred = pd.concat([test_id, elasticnet_pred], axis=1)\n",
    "xgb_pred = pd.concat([test_id, xgb_pred], axis=1)\n",
    "\n",
    "model_tf_pred = pd.concat([test_id, model_tf_pred], axis=1)\n",
    "model_tf_drop_pred = pd.concat([test_id, model_tf_drop_pred], axis=1)\n",
    "model_tf_reg1_pred = pd.concat([test_id, model_tf_reg1_pred], axis=1)\n",
    "model_tf_reg2_pred = pd.concat([test_id, model_tf_reg2_pred], axis=1)\n",
    "model_tf_reg12_pred = pd.concat([test_id, model_tf_reg12_pred], axis=1)\n",
    "lasso_ridge_pred = pd.concat([test_id, lasso_ridge_pred], axis=1)\n",
    "elastic_lasso_pred = pd.concat([test_id, elastic_lasso_pred], axis=1)\n",
    "tf_reg12_lasso_pred = pd.concat([test_id, tf_reg12_lasso_pred], axis=1)"
   ]
  },
  {
   "cell_type": "code",
   "execution_count": 68,
   "id": "32534554",
   "metadata": {},
   "outputs": [],
   "source": [
    "lasso_pred.to_csv(\"./files/submits/lasso_pred.csv\", index=False)\n",
    "ridge_pred.to_csv(\"./files/submits/ridge_pred.csv\", index=False)\n",
    "elasticnet_pred.to_csv(\"./files/submits/elasticnet_pred.csv\", index=False)\n",
    "xgb_pred.to_csv(\"./files/submits/xgb_pred_pred.csv\", index=False) \n",
    "\n",
    "model_tf_pred.to_csv(\"./files/submits/model_tf_pred.csv\", index=False)\n",
    "model_tf_drop_pred.to_csv(\"./files/submits/model_tf_drop_pred.csv\", index=False) \n",
    "model_tf_reg1_pred.to_csv(\"./files/submits/model_tf_reg1_pred.csv\", index=False) \n",
    "model_tf_reg2_pred.to_csv(\"./files/submits/model_tf_reg2_pred.csv\", index=False) \n",
    "model_tf_reg12_pred.to_csv(\"./files/submits/model_tf_reg12_pred.csv\", index=False) \n",
    "lasso_ridge_pred.to_csv(\"./files/submits/lasso_ridge_pred_pred.csv\", index=False) \n",
    "elastic_lasso_pred.to_csv(\"./files/submits/elastic_lasso_pred.csv\", index=False) \n",
    "tf_reg12_lasso_pred.to_csv(\"./files/submits/tf_reg12_lasso_pred.csv\", index=False) "
   ]
  },
  {
   "cell_type": "code",
   "execution_count": 79,
   "id": "a0496d77",
   "metadata": {},
   "outputs": [],
   "source": [
    "mix = lasso_pred['SalePrice'] * 0.35 + ridge_pred['SalePrice'] * 0.30 + elasticnet_pred['SalePrice'] * 0.35\n",
    "mix = pd.concat([test_id, mix], axis=1)"
   ]
  },
  {
   "cell_type": "code",
   "execution_count": 76,
   "id": "ed936726",
   "metadata": {},
   "outputs": [
    {
     "data": {
      "text/html": [
       "<div>\n",
       "<style scoped>\n",
       "    .dataframe tbody tr th:only-of-type {\n",
       "        vertical-align: middle;\n",
       "    }\n",
       "\n",
       "    .dataframe tbody tr th {\n",
       "        vertical-align: top;\n",
       "    }\n",
       "\n",
       "    .dataframe thead th {\n",
       "        text-align: right;\n",
       "    }\n",
       "</style>\n",
       "<table border=\"1\" class=\"dataframe\">\n",
       "  <thead>\n",
       "    <tr style=\"text-align: right;\">\n",
       "      <th></th>\n",
       "      <th>Id</th>\n",
       "      <th>SalePrice</th>\n",
       "    </tr>\n",
       "  </thead>\n",
       "  <tbody>\n",
       "    <tr>\n",
       "      <th>0</th>\n",
       "      <td>1461</td>\n",
       "      <td>115059.094</td>\n",
       "    </tr>\n",
       "    <tr>\n",
       "      <th>1</th>\n",
       "      <td>1462</td>\n",
       "      <td>158773.207</td>\n",
       "    </tr>\n",
       "    <tr>\n",
       "      <th>2</th>\n",
       "      <td>1463</td>\n",
       "      <td>181000.606</td>\n",
       "    </tr>\n",
       "    <tr>\n",
       "      <th>3</th>\n",
       "      <td>1464</td>\n",
       "      <td>197683.291</td>\n",
       "    </tr>\n",
       "    <tr>\n",
       "      <th>4</th>\n",
       "      <td>1465</td>\n",
       "      <td>189786.605</td>\n",
       "    </tr>\n",
       "  </tbody>\n",
       "</table>\n",
       "</div>"
      ],
      "text/plain": [
       "     Id  SalePrice\n",
       "0  1461 115059.094\n",
       "1  1462 158773.207\n",
       "2  1463 181000.606\n",
       "3  1464 197683.291\n",
       "4  1465 189786.605"
      ]
     },
     "execution_count": 76,
     "metadata": {},
     "output_type": "execute_result"
    }
   ],
   "source": [
    "mix.head()"
   ]
  },
  {
   "cell_type": "code",
   "execution_count": 80,
   "id": "4c351320",
   "metadata": {},
   "outputs": [],
   "source": [
    "mix.to_csv(\"./files/submits/lasso_ridge_elasticnet.csv\", index=False)"
   ]
  }
 ],
 "metadata": {
  "kernelspec": {
   "display_name": "Python 3 (ipykernel)",
   "language": "python",
   "name": "python3"
  },
  "language_info": {
   "codemirror_mode": {
    "name": "ipython",
    "version": 3
   },
   "file_extension": ".py",
   "mimetype": "text/x-python",
   "name": "python",
   "nbconvert_exporter": "python",
   "pygments_lexer": "ipython3",
   "version": "3.9.12"
  }
 },
 "nbformat": 4,
 "nbformat_minor": 5
}
